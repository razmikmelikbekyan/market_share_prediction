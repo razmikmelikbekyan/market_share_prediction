{
 "cells": [
  {
   "cell_type": "code",
   "execution_count": null,
   "metadata": {},
   "outputs": [],
   "source": [
    "'lgb'\n",
    "\n",
    "cv_score = 0.2604\n",
    "test_auc = 0.678\n",
    "\n",
    "boosting_type='gbdt',\n",
    "\n",
    "objective='regression',\n",
    "n_estimators=5000,\n",
    "learning_rate=0.01,\n",
    "\n",
    "max_depth=6,             # Specify the max depth to which tree will grow. \n",
    "num_leaves=31,             # Number of leaves in one tree\n",
    "\n",
    "min_child_weight=11,     # minimal sum hessian in one leaf\n",
    "min_data_in_leaf=5,       # Min number of data in one leaf.\n",
    "\n",
    "subsample=0.8,            # Specifies the fraction of data to be used for each iteration\n",
    "subsample_freq=5,\n",
    "bagging_seed=9,\n",
    "\n",
    "colsample_bytree=0.5,  # Specifies the fraction of features to be taken for each iteration\n",
    "feature_fraction_seed=7,\n",
    "\n",
    "min_gain_to_split=0.,    # Min gain to perform splitting\n",
    "reg_alpha=0.,\n",
    "reg_lambda=0."
   ]
  },
  {
   "cell_type": "code",
   "execution_count": null,
   "metadata": {},
   "outputs": [],
   "source": [
    "'xgb'\n",
    "\n",
    "cv_score = 0.255\n",
    "test_auc = 0.67\n",
    "\n",
    "objective='reg:linear',\n",
    "n_estimators=5000,\n",
    "learning_rate=0.01,\n",
    "\n",
    "max_depth=3,              # Used to control over-fitting as higher depth will allow model to learn relations very specific to a particular sample.\n",
    "max_leaf_nodes=8,         # The maximum number of terminal nodes or leaves in a tree.\n",
    "min_child_weight=1.2,     # Minimum sum of instance weight (hessian) needed in a child. \n",
    "                          # Too high values can lead to under-fitting hence, it should be tuned using CV.\n",
    "\n",
    "subsample=0.5213,         # Denotes the fraction of observations to be randomly samples for each tree.\n",
    "colsample_bytree=0.4603,  # Denotes the fraction of columns to be randomly samples for each tree.\n",
    "\n",
    "gamma=0.022,              # Gamma specifies the minimum loss reduction required to make a split.\n",
    "reg_alpha=0.4640,         # L1 regularization term on weight\n",
    "reg_lambda=0.8571,        # L2 regularization term on weights \n",
    "\n",
    "silent=1,\n",
    "random_state=7,\n",
    "num_jobs=4"
   ]
  }
 ],
 "metadata": {
  "kernelspec": {
   "display_name": "Python 3",
   "language": "python",
   "name": "python3"
  },
  "language_info": {
   "codemirror_mode": {
    "name": "ipython",
    "version": 3
   },
   "file_extension": ".py",
   "mimetype": "text/x-python",
   "name": "python",
   "nbconvert_exporter": "python",
   "pygments_lexer": "ipython3",
   "version": "3.6.7"
  },
  "toc": {
   "base_numbering": 1,
   "nav_menu": {},
   "number_sections": true,
   "sideBar": true,
   "skip_h1_title": false,
   "title_cell": "Table of Contents",
   "title_sidebar": "Contents",
   "toc_cell": false,
   "toc_position": {},
   "toc_section_display": true,
   "toc_window_display": false
  },
  "varInspector": {
   "cols": {
    "lenName": 16,
    "lenType": 16,
    "lenVar": 40
   },
   "kernels_config": {
    "python": {
     "delete_cmd_postfix": "",
     "delete_cmd_prefix": "del ",
     "library": "var_list.py",
     "varRefreshCmd": "print(var_dic_list())"
    },
    "r": {
     "delete_cmd_postfix": ") ",
     "delete_cmd_prefix": "rm(",
     "library": "var_list.r",
     "varRefreshCmd": "cat(var_dic_list()) "
    }
   },
   "types_to_exclude": [
    "module",
    "function",
    "builtin_function_or_method",
    "instance",
    "_Feature"
   ],
   "window_display": false
  }
 },
 "nbformat": 4,
 "nbformat_minor": 2
}
