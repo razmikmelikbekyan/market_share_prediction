{
 "cells": [
  {
   "cell_type": "markdown",
   "metadata": {},
   "source": [
    "\n",
    "\n",
    "## Feature Engineering\n",
    "\n",
    "\n",
    "We will add some more features."
   ]
  },
  {
   "cell_type": "code",
   "execution_count": 1,
   "metadata": {},
   "outputs": [],
   "source": [
    "import warnings\n",
    "from collections import defaultdict\n",
    "import pandas as pd\n",
    "import numpy as np\n",
    "import matplotlib.pyplot as plt\n",
    "from scipy import stats\n",
    "from scipy.special import inv_boxcox, boxcox1p\n",
    "from pprint import pprint\n",
    "\n",
    "# supress unnecessary warnings for readability and cleaner presentation\n",
    "warnings.filterwarnings('ignore')\n",
    "\n",
    "%matplotlib inline\n",
    "plt.style.use('bmh')"
   ]
  },
  {
   "cell_type": "code",
   "execution_count": 2,
   "metadata": {},
   "outputs": [],
   "source": [
    "# helper function which performs all steps of data processing which we applied during \n",
    "# Data cleaning and preprocessing\n",
    "def read_clean_data():\n",
    "    \n",
    "    # reading data\n",
    "    df_train = pd.read_csv('use_case_data.csv')\n",
    "    df_score = pd.read_csv('score_data.csv')\n",
    "\n",
    "    df_train['data_type'] = 'train'\n",
    "    df_score['data_type'] = 'score'\n",
    "    \n",
    "    # removing negative market shares\n",
    "    temp = df_train[df_train['Market_Share'] >= 0]\n",
    "    \n",
    "    # applying boxcox\n",
    "    market_share = stats.boxcox(temp['Market_Share'].values + 1e-30, lmbda=0.25)\n",
    "    \n",
    "    # combining train and score\n",
    "    data = pd.concat([temp.drop(columns='Market_Share'), df_score],ignore_index=True)\n",
    "    \n",
    "    # adding response variable\n",
    "    data['Market_Share'] = np.nan\n",
    "    mask = data['data_type'] == 'train'\n",
    "    data.loc[mask, 'Market_Share'] = market_share\n",
    "    data.drop(columns='data_type', inplace=True)\n",
    "    \n",
    "    # changing dtype to category\n",
    "    data['ITEMSCODE'] = data['ITEMSCODE'].astype('category')\n",
    "\n",
    "    # spliting to year and month, adding to not_useful_features list\n",
    "    data['LAUNCH_YEAR'], data['LAUNCH_MONTH'] = data['NPLLAUNCHDATE'].map(str).apply(lambda x: [x[:4], x[4:]]).str   \n",
    "    \n",
    "    # removing not useful features\n",
    "    not_useful = ['BRMID', 'LATESTPERIODINDEX', 'NPLLAUNCHDATE', 'ISREPLACEMENT', 'BRM', 'MARKETEDBRAND',\n",
    "                  'BRANDSUBFAMILY', 'NPLLAUNCHYEAR', 'RTYPE', 'ITEMSHAPE']\n",
    "    \n",
    "    data.drop(columns=not_useful, inplace=True)\n",
    "    \n",
    "    # filling missing values\n",
    "    data['SPECIALFLAVOR'].fillna('NOSPECIALFLAVOR', inplace=True)\n",
    "    data['TIPCOLOR'].fillna('NOTIPCOLOR', inplace=True)\n",
    "    \n",
    "    # transform categorical features into the appropriate type\n",
    "    for c in data.columns:\n",
    "        col_type = data[c].dtype\n",
    "        if col_type == 'object' or col_type.name == 'category':\n",
    "            data[c] = data[c].astype('category')\n",
    "            \n",
    "    # transforming with boxcox1p for reducing skew\n",
    "    data[['LEN', 'NCON', 'RETAILPACKPRICE']] = boxcox1p(data[['LEN', 'NCON', 'RETAILPACKPRICE']], -0.25)\n",
    "\n",
    "    print('all data shape: {}'.format(data.shape))\n",
    "    return data"
   ]
  },
  {
   "cell_type": "markdown",
   "metadata": {},
   "source": [
    "We will add some more features by aggregating some categorical features by numeric ones.\n",
    "\n",
    "For example, we will calculate **mean, median, std, skew** of **RETAILPACKPRICE** for each **REGION**. "
   ]
  },
  {
   "cell_type": "code",
   "execution_count": 3,
   "metadata": {},
   "outputs": [],
   "source": [
    "def aggregate(data, f_1, f_2):\n",
    "    \"\"\"Aggregates f_1 by f_2\"\"\"\n",
    "\n",
    "    mean_ = '{}_{}_mean'.format(f_1, f_2)\n",
    "    median_ = '{}_{}_median'.format(f_1, f_2)\n",
    "    std_ = '{}_{}_std'.format(f_1, f_2)\n",
    "    skew_ = '{}_{}_skew'.format(f_1, f_2)\n",
    "    \n",
    "    # aggregation of f_1 by f_2\n",
    "    temp = data.groupby(f_1)[f_2].aggregate({\n",
    "        mean_: np.mean,\n",
    "        std_: np.std,\n",
    "        median_: np.median,\n",
    "        skew_: stats.skew\n",
    "    }).reset_index()\n",
    "    \n",
    "    # filling nans with 0\n",
    "    for x in (mean_, std_, median_, skew_):\n",
    "        temp[x].fillna(0, inplace=True)\n",
    "        \n",
    "    data = data.merge(temp)\n",
    "    \n",
    "    # adding relative (for example product RETAILPACKPRICE / REGION mean RETAILPACKPRICE)\n",
    "    relative_mean_ = '{}_{}_relative_mean'.format(f_1, f_2)\n",
    "    relative_median_ = '{}_{}_relative_median'.format(f_1, f_2)\n",
    "    \n",
    "    def relative(row, f):\n",
    "        f_value, f_2_value = row[f], row[f_2]\n",
    "        if f_value == 0 and f_2_value == 0:\n",
    "            return 1.\n",
    "        elif f_value == 0 and f_2_value != 0:\n",
    "            return -99999\n",
    "        else:\n",
    "            return f_2_value / f_value\n",
    "        \n",
    "#     data[relative_mean_] = data.apply(lambda row: relative(row, mean_), axis=1)\n",
    "    data[relative_median_] = data.apply(lambda row: relative(row, median_), axis=1)\n",
    "    return data"
   ]
  },
  {
   "cell_type": "code",
   "execution_count": 4,
   "metadata": {},
   "outputs": [],
   "source": [
    "def feature_engineering(data, to_drop=None, to_aggregate=None, to_dummy=False, cardinality_ratio=1., ):\n",
    "    \"\"\"\n",
    "    Recives cleaned and preprocessed data, add features, high cardinality features and makes one-hot encoding.\n",
    "    \"\"\"\n",
    "    temp = data.copy()\n",
    "\n",
    "    # removing high cardinality categorical features\n",
    "    if cardinality_ratio < 1.:\n",
    "        n = len(temp)\n",
    "        high_cardinalty_features = []\n",
    "        for c in temp.columns:\n",
    "            if temp[c].dtype.name == 'category' and len(temp[c].unique()) / n > cardinality_ratio:\n",
    "                high_cardinalty_features.append(c)\n",
    "        print('Removing {} features, which have high cardinality.'.format(high_cardinalty_features))\n",
    "        temp.drop(columns=high_cardinalty_features, inplace=True)\n",
    "    \n",
    "    # aggergation\n",
    "    numeric_fs = [c for c in temp.columns if temp[c].dtype.name != 'category' and c != 'Market_Share']\n",
    "    for f_1 in to_aggregate:\n",
    "        for f_2 in numeric_fs:\n",
    "            temp = aggregate(temp, f_1, f_2)\n",
    "    \n",
    "    # adding also **2, **3 and **0.5 for LEN and RETAILPACKPRICE\n",
    "    for x in ['LEN', 'RETAILPACKPRICE']:\n",
    "        temp['{}_**2'.format(x)] = temp[x] ** 2\n",
    "        temp['{}_**3'.format(x)] = temp[x] ** 2\n",
    "        temp['{}_**0.5'.format(x)] = np.sqrt(np.abs(temp[x]))        \n",
    "    print('all data shape after features addition: {}'.format(temp.shape))\n",
    "    \n",
    "    # dropping some features\n",
    "    if to_drop:\n",
    "        temp.drop(columns=to_drop, inplace=True)\n",
    "        print('all data shape after features deletion: {}'.format(temp.shape))\n",
    "    \n",
    "\n",
    "    # one-hot encoding for categorical features\n",
    "    if to_dummy:\n",
    "        temp = pd.get_dummies(temp)\n",
    "        print('all data shape after one-hot-encoding: {}'.format(temp.shape))\n",
    "\n",
    "    # splitting into train and score\n",
    "    mask = temp['Market_Share'].notnull()\n",
    "    training_data, score_data = temp[mask], temp[np.invert(mask)]\n",
    "    score_data.drop(columns='Market_Share', inplace=True)\n",
    "    print('training data shape: {}, score data shape: {}'.format(\n",
    "        training_data.shape, score_data.shape))\n",
    "    return training_data, score_data"
   ]
  },
  {
   "cell_type": "markdown",
   "metadata": {},
   "source": [
    "**Preparing data: data clening, preprocessing and feature engineering, one-hot-encoding**"
   ]
  },
  {
   "cell_type": "code",
   "execution_count": 5,
   "metadata": {},
   "outputs": [
    {
     "name": "stdout",
     "output_type": "stream",
     "text": [
      "all data shape: (1721, 32)\n"
     ]
    }
   ],
   "source": [
    "df = read_clean_data()"
   ]
  },
  {
   "cell_type": "code",
   "execution_count": 6,
   "metadata": {},
   "outputs": [
    {
     "name": "stdout",
     "output_type": "stream",
     "text": [
      "all data shape after features addition: (1721, 198)\n",
      "all data shape after features deletion: (1721, 193)\n",
      "all data shape after one-hot-encoding: (1721, 517)\n",
      "training data shape: (1692, 517), score data shape: (29, 516)\n"
     ]
    }
   ],
   "source": [
    "# categorical features, which will be aggregated\n",
    "to_aggregate = [\n",
    "    'TCLASS',\n",
    "    'REGION',\n",
    "    'LOCALCLASS',\n",
    "    'BLDIMAGE', \n",
    "    'MARKET',\n",
    "    'MINDICATOR', \n",
    "    'THICATEGORY', \n",
    "    'PCKT',\n",
    "]\n",
    "\n",
    "# categorical features, which will be dropped\n",
    "to_drop = [\n",
    "    'BRANDSUBFAMILYGROUPING', \n",
    "    'BRANDSUBFAMILYLINE',\n",
    "    'BRANDSUBFAMILYGROUP', \n",
    "    'BRANDONMARKET',\n",
    "    'BRANDDIFFERENTIATOR',\n",
    "]\n",
    "\n",
    "training_df, score_df = feature_engineering(df, \n",
    "                                            to_drop=to_drop, \n",
    "                                            to_aggregate=to_aggregate,\n",
    "                                            to_dummy=True, \n",
    "                                            cardinality_ratio=1.)\n",
    "\n",
    "numeric_fs = [c for c in training_df.columns if training_df[c].dtype.name != 'category' and c != 'Market_Share']\n",
    "categoircal_fs = list(set(training_df.columns) - set(numeric_fs) - {'Market_Share'})"
   ]
  },
  {
   "cell_type": "markdown",
   "metadata": {},
   "source": [
    "## Evaluation metrics"
   ]
  },
  {
   "cell_type": "code",
   "execution_count": 7,
   "metadata": {},
   "outputs": [],
   "source": [
    "import itertools\n",
    "from sklearn.metrics import mean_squared_error, explained_variance_score, r2_score\n",
    "from sklearn.metrics import roc_auc_score, roc_curve, auc, confusion_matrix, make_scorer\n",
    "from sklearn.base import clone\n",
    "from sklearn.model_selection import KFold, train_test_split, GridSearchCV\n",
    "from tabulate import tabulate\n",
    "from evaluation import (test_model, train_model, cv_model, print_metrics, plot_model_performance)"
   ]
  },
  {
   "cell_type": "markdown",
   "metadata": {},
   "source": [
    "\n",
    "\n",
    "## Modeling"
   ]
  },
  {
   "cell_type": "markdown",
   "metadata": {},
   "source": [
    "### Data preparation"
   ]
  },
  {
   "cell_type": "markdown",
   "metadata": {},
   "source": [
    "**Import librairies**"
   ]
  },
  {
   "cell_type": "code",
   "execution_count": 8,
   "metadata": {},
   "outputs": [],
   "source": [
    "from sklearn.linear_model import ElasticNet, Lasso\n",
    "from sklearn.ensemble import ExtraTreesRegressor\n",
    "from sklearn.pipeline import make_pipeline\n",
    "from sklearn.preprocessing import RobustScaler\n",
    "\n",
    "import lightgbm as lgb"
   ]
  },
  {
   "cell_type": "markdown",
   "metadata": {},
   "source": [
    "**Train - Test split: we will keep 15% of data for final testing**"
   ]
  },
  {
   "cell_type": "code",
   "execution_count": 31,
   "metadata": {},
   "outputs": [
    {
     "name": "stdout",
     "output_type": "stream",
     "text": [
      "(1438, 517) (254, 517)\n"
     ]
    }
   ],
   "source": [
    "train, test = train_test_split(training_df, test_size=0.15, shuffle=True, random_state=67)\n",
    "print(train.shape, test.shape)"
   ]
  },
  {
   "cell_type": "code",
   "execution_count": 32,
   "metadata": {},
   "outputs": [],
   "source": [
    "# separating response variable\n",
    "y_train, X_train = train['Market_Share'], train.drop(columns='Market_Share')\n",
    "y_test, X_test = test['Market_Share'], test.drop(columns='Market_Share')"
   ]
  },
  {
   "cell_type": "markdown",
   "metadata": {},
   "source": [
    "**Threshold for Success**"
   ]
  },
  {
   "cell_type": "code",
   "execution_count": 33,
   "metadata": {},
   "outputs": [],
   "source": [
    "threshold = stats.boxcox(0.007, lmbda=0.25)"
   ]
  },
  {
   "cell_type": "markdown",
   "metadata": {},
   "source": [
    "### Training & Cross Validation"
   ]
  },
  {
   "cell_type": "markdown",
   "metadata": {},
   "source": [
    "**Models and their scores on 5 fold CV:**\n",
    "\n",
    "As models we have selected 4 models: Lasso regression, Elastic Net, ExtraTress regression and Gradient tree boosting. First two models are more linear than other two. First 2 models are modifications of linear regession with additional constraints on regression coefficients. The last 2 models are more no-linear models based on decision trees."
   ]
  },
  {
   "cell_type": "code",
   "execution_count": 34,
   "metadata": {},
   "outputs": [],
   "source": [
    "all_models, all_models_scores = {}, {}"
   ]
  },
  {
   "cell_type": "markdown",
   "metadata": {},
   "source": [
    "* **LASSO Regression (Sklearn):**\n",
    "\n",
    "https://en.wikipedia.org/wiki/Lasso_(statistics)\n",
    "\n",
    "https://scikit-learn.org/stable/modules/linear_model.html#lasso\n",
    "\n",
    "This model may be very sensitive to outliers. So we need to made it more robust on them. For that we use the sklearn's **Robustscaler()** method on pipeline."
   ]
  },
  {
   "cell_type": "code",
   "execution_count": 35,
   "metadata": {
    "scrolled": true
   },
   "outputs": [
    {
     "name": "stdout",
     "output_type": "stream",
     "text": [
      "\n",
      "fold: 1\n",
      "\n",
      "╒═══════════════╤════════════════╤══════════════════╕\n",
      "│ metric_name   │   training_set │   validation_set │\n",
      "╞═══════════════╪════════════════╪══════════════════╡\n",
      "│ rmse          │          0.210 │            0.268 │\n",
      "├───────────────┼────────────────┼──────────────────┤\n",
      "│ r_2           │          0.547 │            0.268 │\n",
      "├───────────────┼────────────────┼──────────────────┤\n",
      "│ accuracy      │          0.855 │            0.812 │\n",
      "├───────────────┼────────────────┼──────────────────┤\n",
      "│ tpr           │          0.364 │            0.293 │\n",
      "├───────────────┼────────────────┼──────────────────┤\n",
      "│ fpr           │          0.031 │            0.057 │\n",
      "├───────────────┼────────────────┼──────────────────┤\n",
      "│ ppv           │          0.731 │            0.567 │\n",
      "├───────────────┼────────────────┼──────────────────┤\n",
      "│ npv           │          0.868 │            0.841 │\n",
      "├───────────────┼────────────────┼──────────────────┤\n",
      "│ f_score       │          0.486 │            0.386 │\n",
      "├───────────────┼────────────────┼──────────────────┤\n",
      "│ auc           │          0.871 │            0.826 │\n",
      "├───────────────┼────────────────┼──────────────────┤\n",
      "│ ap            │          0.627 │            0.514 │\n",
      "╘═══════════════╧════════════════╧══════════════════╛\n",
      "\n",
      "fold: 2\n",
      "\n",
      "╒═══════════════╤════════════════╤══════════════════╕\n",
      "│ metric_name   │   training_set │   validation_set │\n",
      "╞═══════════════╪════════════════╪══════════════════╡\n",
      "│ rmse          │          0.211 │            0.256 │\n",
      "├───────────────┼────────────────┼──────────────────┤\n",
      "│ r_2           │          0.560 │            0.214 │\n",
      "├───────────────┼────────────────┼──────────────────┤\n",
      "│ accuracy      │          0.857 │            0.816 │\n",
      "├───────────────┼────────────────┼──────────────────┤\n",
      "│ tpr           │          0.388 │            0.339 │\n",
      "├───────────────┼────────────────┼──────────────────┤\n",
      "│ fpr           │          0.033 │            0.069 │\n",
      "├───────────────┼────────────────┼──────────────────┤\n",
      "│ ppv           │          0.733 │            0.543 │\n",
      "├───────────────┼────────────────┼──────────────────┤\n",
      "│ npv           │          0.870 │            0.854 │\n",
      "├───────────────┼────────────────┼──────────────────┤\n",
      "│ f_score       │          0.507 │            0.418 │\n",
      "├───────────────┼────────────────┼──────────────────┤\n",
      "│ auc           │          0.874 │            0.767 │\n",
      "├───────────────┼────────────────┼──────────────────┤\n",
      "│ ap            │          0.647 │            0.488 │\n",
      "╘═══════════════╧════════════════╧══════════════════╛\n",
      "\n",
      "fold: 3\n",
      "\n",
      "╒═══════════════╤════════════════╤══════════════════╕\n",
      "│ metric_name   │   training_set │   validation_set │\n",
      "╞═══════════════╪════════════════╪══════════════════╡\n",
      "│ rmse          │          0.212 │            0.256 │\n",
      "├───────────────┼────────────────┼──────────────────┤\n",
      "│ r_2           │          0.548 │            0.285 │\n",
      "├───────────────┼────────────────┼──────────────────┤\n",
      "│ accuracy      │          0.857 │            0.812 │\n",
      "├───────────────┼────────────────┼──────────────────┤\n",
      "│ tpr           │          0.430 │            0.259 │\n",
      "├───────────────┼────────────────┼──────────────────┤\n",
      "│ fpr           │          0.041 │            0.060 │\n",
      "├───────────────┼────────────────┼──────────────────┤\n",
      "│ ppv           │          0.714 │            0.500 │\n",
      "├───────────────┼────────────────┼──────────────────┤\n",
      "│ npv           │          0.876 │            0.846 │\n",
      "├───────────────┼────────────────┼──────────────────┤\n",
      "│ f_score       │          0.537 │            0.341 │\n",
      "├───────────────┼────────────────┼──────────────────┤\n",
      "│ auc           │          0.881 │            0.750 │\n",
      "├───────────────┼────────────────┼──────────────────┤\n",
      "│ ap            │          0.682 │            0.408 │\n",
      "╘═══════════════╧════════════════╧══════════════════╛\n",
      "\n",
      "fold: 4\n",
      "\n",
      "╒═══════════════╤════════════════╤══════════════════╕\n",
      "│ metric_name   │   training_set │   validation_set │\n",
      "╞═══════════════╪════════════════╪══════════════════╡\n",
      "│ rmse          │          0.210 │            0.271 │\n",
      "├───────────────┼────────────────┼──────────────────┤\n",
      "│ r_2           │          0.558 │            0.148 │\n",
      "├───────────────┼────────────────┼──────────────────┤\n",
      "│ accuracy      │          0.854 │            0.857 │\n",
      "├───────────────┼────────────────┼──────────────────┤\n",
      "│ tpr           │          0.398 │            0.295 │\n",
      "├───────────────┼────────────────┼──────────────────┤\n",
      "│ fpr           │          0.032 │            0.041 │\n",
      "├───────────────┼────────────────┼──────────────────┤\n",
      "│ ppv           │          0.760 │            0.565 │\n",
      "├───────────────┼────────────────┼──────────────────┤\n",
      "│ npv           │          0.865 │            0.883 │\n",
      "├───────────────┼────────────────┼──────────────────┤\n",
      "│ f_score       │          0.523 │            0.388 │\n",
      "├───────────────┼────────────────┼──────────────────┤\n",
      "│ auc           │          0.883 │            0.754 │\n",
      "├───────────────┼────────────────┼──────────────────┤\n",
      "│ ap            │          0.675 │            0.440 │\n",
      "╘═══════════════╧════════════════╧══════════════════╛\n",
      "\n",
      "fold: 5\n",
      "\n",
      "╒═══════════════╤════════════════╤══════════════════╕\n",
      "│ metric_name   │   training_set │   validation_set │\n",
      "╞═══════════════╪════════════════╪══════════════════╡\n",
      "│ rmse          │          0.199 │            0.310 │\n",
      "├───────────────┼────────────────┼──────────────────┤\n",
      "│ r_2           │          0.559 │            0.244 │\n",
      "├───────────────┼────────────────┼──────────────────┤\n",
      "│ accuracy      │          0.868 │            0.805 │\n",
      "├───────────────┼────────────────┼──────────────────┤\n",
      "│ tpr           │          0.406 │            0.333 │\n",
      "├───────────────┼────────────────┼──────────────────┤\n",
      "│ fpr           │          0.028 │            0.062 │\n",
      "├───────────────┼────────────────┼──────────────────┤\n",
      "│ ppv           │          0.768 │            0.600 │\n",
      "├───────────────┼────────────────┼──────────────────┤\n",
      "│ npv           │          0.879 │            0.833 │\n",
      "├───────────────┼────────────────┼──────────────────┤\n",
      "│ f_score       │          0.531 │            0.429 │\n",
      "├───────────────┼────────────────┼──────────────────┤\n",
      "│ auc           │          0.878 │            0.794 │\n",
      "├───────────────┼────────────────┼──────────────────┤\n",
      "│ ap            │          0.660 │            0.589 │\n",
      "╘═══════════════╧════════════════╧══════════════════╛\n",
      "\n",
      "Lasso score:\n",
      "\n",
      "╒═══════════════╤═══════════════╤══════════════╤═══════════════╤══════════════╕\n",
      "│ metric_name   │   train: mean │   train: std │   valid: mean │   valid: std │\n",
      "╞═══════════════╪═══════════════╪══════════════╪═══════════════╪══════════════╡\n",
      "│ rmse          │         0.208 │        0.005 │         0.272 │        0.020 │\n",
      "├───────────────┼───────────────┼──────────────┼───────────────┼──────────────┤\n",
      "│ r_2           │         0.554 │        0.006 │         0.232 │        0.048 │\n",
      "├───────────────┼───────────────┼──────────────┼───────────────┼──────────────┤\n",
      "│ accuracy      │         0.858 │        0.005 │         0.821 │        0.019 │\n",
      "├───────────────┼───────────────┼──────────────┼───────────────┼──────────────┤\n",
      "│ tpr           │         0.397 │        0.022 │         0.304 │        0.029 │\n",
      "├───────────────┼───────────────┼──────────────┼───────────────┼──────────────┤\n",
      "│ fpr           │         0.033 │        0.004 │         0.058 │        0.009 │\n",
      "├───────────────┼───────────────┼──────────────┼───────────────┼──────────────┤\n",
      "│ ppv           │         0.741 │        0.020 │         0.555 │        0.033 │\n",
      "├───────────────┼───────────────┼──────────────┼───────────────┼──────────────┤\n",
      "│ npv           │         0.872 │        0.005 │         0.851 │        0.017 │\n",
      "├───────────────┼───────────────┼──────────────┼───────────────┼──────────────┤\n",
      "│ f_score       │         0.517 │        0.018 │         0.392 │        0.030 │\n",
      "├───────────────┼───────────────┼──────────────┼───────────────┼──────────────┤\n",
      "│ auc           │         0.877 │        0.004 │         0.778 │        0.028 │\n",
      "├───────────────┼───────────────┼──────────────┼───────────────┼──────────────┤\n",
      "│ ap            │         0.658 │        0.020 │         0.488 │        0.062 │\n",
      "╘═══════════════╧═══════════════╧══════════════╧═══════════════╧══════════════╛\n"
     ]
    }
   ],
   "source": [
    "model_name = 'Lasso'\n",
    "model_lasso = make_pipeline(RobustScaler(), Lasso(alpha=0.0003, max_iter=1e3, tol=1e-5, random_state=1))\n",
    "score, _, score_dict = cv_model(model_lasso, model_name, X_train, y_train, threshold)\n",
    "\n",
    "all_models[model_name] = model_lasso\n",
    "all_models_scores[model_name] = score_dict\n",
    "print('\\n{} score:\\n'.format(model_name))\n",
    "print(score)"
   ]
  },
  {
   "cell_type": "markdown",
   "metadata": {},
   "source": [
    "* **ElasticNet Regression (Sklearn):**\n",
    "\n",
    "https://en.wikipedia.org/wiki/Elastic_net_regularization\n",
    "\n",
    "https://scikit-learn.org/stable/modules/linear_model.html#elastic-net\n",
    "\n",
    "again made robust to outliers"
   ]
  },
  {
   "cell_type": "code",
   "execution_count": 36,
   "metadata": {
    "scrolled": true
   },
   "outputs": [
    {
     "name": "stdout",
     "output_type": "stream",
     "text": [
      "\n",
      "fold: 1\n",
      "\n",
      "╒═══════════════╤════════════════╤══════════════════╕\n",
      "│ metric_name   │   training_set │   validation_set │\n",
      "╞═══════════════╪════════════════╪══════════════════╡\n",
      "│ rmse          │          0.216 │            0.267 │\n",
      "├───────────────┼────────────────┼──────────────────┤\n",
      "│ r_2           │          0.521 │            0.274 │\n",
      "├───────────────┼────────────────┼──────────────────┤\n",
      "│ accuracy      │          0.850 │            0.812 │\n",
      "├───────────────┼────────────────┼──────────────────┤\n",
      "│ tpr           │          0.332 │            0.293 │\n",
      "├───────────────┼────────────────┼──────────────────┤\n",
      "│ fpr           │          0.030 │            0.057 │\n",
      "├───────────────┼────────────────┼──────────────────┤\n",
      "│ ppv           │          0.720 │            0.567 │\n",
      "├───────────────┼────────────────┼──────────────────┤\n",
      "│ npv           │          0.862 │            0.841 │\n",
      "├───────────────┼────────────────┼──────────────────┤\n",
      "│ f_score       │          0.454 │            0.386 │\n",
      "├───────────────┼────────────────┼──────────────────┤\n",
      "│ auc           │          0.864 │            0.820 │\n",
      "├───────────────┼────────────────┼──────────────────┤\n",
      "│ ap            │          0.610 │            0.508 │\n",
      "╘═══════════════╧════════════════╧══════════════════╛\n",
      "\n",
      "fold: 2\n",
      "\n",
      "╒═══════════════╤════════════════╤══════════════════╕\n",
      "│ metric_name   │   training_set │   validation_set │\n",
      "╞═══════════════╪════════════════╪══════════════════╡\n",
      "│ rmse          │          0.218 │            0.257 │\n",
      "├───────────────┼────────────────┼──────────────────┤\n",
      "│ r_2           │          0.529 │            0.211 │\n",
      "├───────────────┼────────────────┼──────────────────┤\n",
      "│ accuracy      │          0.855 │            0.802 │\n",
      "├───────────────┼────────────────┼──────────────────┤\n",
      "│ tpr           │          0.374 │            0.286 │\n",
      "├───────────────┼────────────────┼──────────────────┤\n",
      "│ fpr           │          0.032 │            0.073 │\n",
      "├───────────────┼────────────────┼──────────────────┤\n",
      "│ ppv           │          0.732 │            0.485 │\n",
      "├───────────────┼────────────────┼──────────────────┤\n",
      "│ npv           │          0.868 │            0.843 │\n",
      "├───────────────┼────────────────┼──────────────────┤\n",
      "│ f_score       │          0.495 │            0.360 │\n",
      "├───────────────┼────────────────┼──────────────────┤\n",
      "│ auc           │          0.865 │            0.768 │\n",
      "├───────────────┼────────────────┼──────────────────┤\n",
      "│ ap            │          0.624 │            0.471 │\n",
      "╘═══════════════╧════════════════╧══════════════════╛\n",
      "\n",
      "fold: 3\n",
      "\n",
      "╒═══════════════╤════════════════╤══════════════════╕\n",
      "│ metric_name   │   training_set │   validation_set │\n",
      "╞═══════════════╪════════════════╪══════════════════╡\n",
      "│ rmse          │          0.218 │            0.256 │\n",
      "├───────────────┼────────────────┼──────────────────┤\n",
      "│ r_2           │          0.520 │            0.283 │\n",
      "├───────────────┼────────────────┼──────────────────┤\n",
      "│ accuracy      │          0.854 │            0.819 │\n",
      "├───────────────┼────────────────┼──────────────────┤\n",
      "│ tpr           │          0.394 │            0.241 │\n",
      "├───────────────┼────────────────┼──────────────────┤\n",
      "│ fpr           │          0.037 │            0.047 │\n",
      "├───────────────┼────────────────┼──────────────────┤\n",
      "│ ppv           │          0.719 │            0.542 │\n",
      "├───────────────┼────────────────┼──────────────────┤\n",
      "│ npv           │          0.870 │            0.845 │\n",
      "├───────────────┼────────────────┼──────────────────┤\n",
      "│ f_score       │          0.509 │            0.333 │\n",
      "├───────────────┼────────────────┼──────────────────┤\n",
      "│ auc           │          0.874 │            0.749 │\n",
      "├───────────────┼────────────────┼──────────────────┤\n",
      "│ ap            │          0.670 │            0.411 │\n",
      "╘═══════════════╧════════════════╧══════════════════╛\n",
      "\n",
      "fold: 4\n",
      "\n",
      "╒═══════════════╤════════════════╤══════════════════╕\n",
      "│ metric_name   │   training_set │   validation_set │\n",
      "╞═══════════════╪════════════════╪══════════════════╡\n",
      "│ rmse          │          0.217 │            0.266 │\n",
      "├───────────────┼────────────────┼──────────────────┤\n",
      "│ r_2           │          0.531 │            0.178 │\n",
      "├───────────────┼────────────────┼──────────────────┤\n",
      "│ accuracy      │          0.851 │            0.857 │\n",
      "├───────────────┼────────────────┼──────────────────┤\n",
      "│ tpr           │          0.372 │            0.295 │\n",
      "├───────────────┼────────────────┼──────────────────┤\n",
      "│ fpr           │          0.028 │            0.041 │\n",
      "├───────────────┼────────────────┼──────────────────┤\n",
      "│ ppv           │          0.768 │            0.565 │\n",
      "├───────────────┼────────────────┼──────────────────┤\n",
      "│ npv           │          0.860 │            0.883 │\n",
      "├───────────────┼────────────────┼──────────────────┤\n",
      "│ f_score       │          0.501 │            0.388 │\n",
      "├───────────────┼────────────────┼──────────────────┤\n",
      "│ auc           │          0.877 │            0.749 │\n",
      "├───────────────┼────────────────┼──────────────────┤\n",
      "│ ap            │          0.661 │            0.435 │\n",
      "╘═══════════════╧════════════════╧══════════════════╛\n",
      "\n",
      "fold: 5\n",
      "\n",
      "╒═══════════════╤════════════════╤══════════════════╕\n",
      "│ metric_name   │   training_set │   validation_set │\n",
      "╞═══════════════╪════════════════╪══════════════════╡\n",
      "│ rmse          │          0.206 │            0.311 │\n",
      "├───────────────┼────────────────┼──────────────────┤\n",
      "│ r_2           │          0.530 │            0.240 │\n",
      "├───────────────┼────────────────┼──────────────────┤\n",
      "│ accuracy      │          0.857 │            0.805 │\n",
      "├───────────────┼────────────────┼──────────────────┤\n",
      "│ tpr           │          0.354 │            0.317 │\n",
      "├───────────────┼────────────────┼──────────────────┤\n",
      "│ fpr           │          0.030 │            0.058 │\n",
      "├───────────────┼────────────────┼──────────────────┤\n",
      "│ ppv           │          0.728 │            0.606 │\n",
      "├───────────────┼────────────────┼──────────────────┤\n",
      "│ npv           │          0.869 │            0.831 │\n",
      "├───────────────┼────────────────┼──────────────────┤\n",
      "│ f_score       │          0.476 │            0.417 │\n",
      "├───────────────┼────────────────┼──────────────────┤\n",
      "│ auc           │          0.870 │            0.792 │\n",
      "├───────────────┼────────────────┼──────────────────┤\n",
      "│ ap            │          0.643 │            0.581 │\n",
      "╘═══════════════╧════════════════╧══════════════════╛\n",
      "\n",
      "ElasticNet score:\n",
      "\n",
      "╒═══════════════╤═══════════════╤══════════════╤═══════════════╤══════════════╕\n",
      "│ metric_name   │   train: mean │   train: std │   valid: mean │   valid: std │\n",
      "╞═══════════════╪═══════════════╪══════════════╪═══════════════╪══════════════╡\n",
      "│ rmse          │         0.215 │        0.005 │         0.271 │        0.020 │\n",
      "├───────────────┼───────────────┼──────────────┼───────────────┼──────────────┤\n",
      "│ r_2           │         0.526 │        0.004 │         0.237 │        0.039 │\n",
      "├───────────────┼───────────────┼──────────────┼───────────────┼──────────────┤\n",
      "│ accuracy      │         0.853 │        0.002 │         0.819 │        0.020 │\n",
      "├───────────────┼───────────────┼──────────────┼───────────────┼──────────────┤\n",
      "│ tpr           │         0.365 │        0.021 │         0.286 │        0.025 │\n",
      "├───────────────┼───────────────┼──────────────┼───────────────┼──────────────┤\n",
      "│ fpr           │         0.031 │        0.003 │         0.055 │        0.011 │\n",
      "├───────────────┼───────────────┼──────────────┼───────────────┼──────────────┤\n",
      "│ ppv           │         0.733 │        0.018 │         0.553 │        0.040 │\n",
      "├───────────────┼───────────────┼──────────────┼───────────────┼──────────────┤\n",
      "│ npv           │         0.866 │        0.004 │         0.848 │        0.018 │\n",
      "├───────────────┼───────────────┼──────────────┼───────────────┼──────────────┤\n",
      "│ f_score       │         0.487 │        0.020 │         0.377 │        0.028 │\n",
      "├───────────────┼───────────────┼──────────────┼───────────────┼──────────────┤\n",
      "│ auc           │         0.870 │        0.005 │         0.776 │        0.027 │\n",
      "├───────────────┼───────────────┼──────────────┼───────────────┼──────────────┤\n",
      "│ ap            │         0.642 │        0.022 │         0.481 │        0.060 │\n",
      "╘═══════════════╧═══════════════╧══════════════╧═══════════════╧══════════════╛\n"
     ]
    }
   ],
   "source": [
    "model_name = 'ElasticNet'\n",
    "model_enet = make_pipeline(RobustScaler(), ElasticNet(alpha=0.0005, l1_ratio=0.8, random_state=3))\n",
    "score, _, score_dict = cv_model(model_enet, model_name, X_train, y_train, threshold)\n",
    "\n",
    "all_models[model_name] = model_enet\n",
    "all_models_scores[model_name] = score_dict\n",
    "print('\\n{} score:\\n'.format(model_name))\n",
    "print(score)"
   ]
  },
  {
   "cell_type": "markdown",
   "metadata": {},
   "source": [
    "* **ExtraTrees Regressor (Sklearn):**\n",
    "\n",
    "https://www.quora.com/What-is-the-extra-trees-algorithm-in-machine-learning\n",
    "\n",
    "https://scikit-learn.org/stable/modules/ensemble.html#forest\n",
    "\n",
    "https://stats.stackexchange.com/questions/44382/mathematics-behind-classification-and-regression-trees\n"
   ]
  },
  {
   "cell_type": "code",
   "execution_count": 37,
   "metadata": {
    "scrolled": true
   },
   "outputs": [
    {
     "name": "stdout",
     "output_type": "stream",
     "text": [
      "\n",
      "fold: 1\n",
      "\n",
      "╒═══════════════╤════════════════╤══════════════════╕\n",
      "│ metric_name   │   training_set │   validation_set │\n",
      "╞═══════════════╪════════════════╪══════════════════╡\n",
      "│ rmse          │          0.065 │            0.242 │\n",
      "├───────────────┼────────────────┼──────────────────┤\n",
      "│ r_2           │          0.957 │            0.405 │\n",
      "├───────────────┼────────────────┼──────────────────┤\n",
      "│ accuracy      │          0.977 │            0.851 │\n",
      "├───────────────┼────────────────┼──────────────────┤\n",
      "│ tpr           │          0.922 │            0.414 │\n",
      "├───────────────┼────────────────┼──────────────────┤\n",
      "│ fpr           │          0.010 │            0.039 │\n",
      "├───────────────┼────────────────┼──────────────────┤\n",
      "│ ppv           │          0.957 │            0.727 │\n",
      "├───────────────┼────────────────┼──────────────────┤\n",
      "│ npv           │          0.982 │            0.867 │\n",
      "├───────────────┼────────────────┼──────────────────┤\n",
      "│ f_score       │          0.939 │            0.527 │\n",
      "├───────────────┼────────────────┼──────────────────┤\n",
      "│ auc           │          0.996 │            0.873 │\n",
      "├───────────────┼────────────────┼──────────────────┤\n",
      "│ ap            │          0.964 │            0.641 │\n",
      "╘═══════════════╧════════════════╧══════════════════╛\n",
      "\n",
      "fold: 2\n",
      "\n",
      "╒═══════════════╤════════════════╤══════════════════╕\n",
      "│ metric_name   │   training_set │   validation_set │\n",
      "╞═══════════════╪════════════════╪══════════════════╡\n",
      "│ rmse          │          0.061 │            0.238 │\n",
      "├───────────────┼────────────────┼──────────────────┤\n",
      "│ r_2           │          0.963 │            0.325 │\n",
      "├───────────────┼────────────────┼──────────────────┤\n",
      "│ accuracy      │          0.976 │            0.844 │\n",
      "├───────────────┼────────────────┼──────────────────┤\n",
      "│ tpr           │          0.927 │            0.375 │\n",
      "├───────────────┼────────────────┼──────────────────┤\n",
      "│ fpr           │          0.013 │            0.043 │\n",
      "├───────────────┼────────────────┼──────────────────┤\n",
      "│ ppv           │          0.944 │            0.677 │\n",
      "├───────────────┼────────────────┼──────────────────┤\n",
      "│ npv           │          0.983 │            0.864 │\n",
      "├───────────────┼────────────────┼──────────────────┤\n",
      "│ f_score       │          0.935 │            0.483 │\n",
      "├───────────────┼────────────────┼──────────────────┤\n",
      "│ auc           │          0.996 │            0.818 │\n",
      "├───────────────┼────────────────┼──────────────────┤\n",
      "│ ap            │          0.984 │            0.581 │\n",
      "╘═══════════════╧════════════════╧══════════════════╛\n",
      "\n",
      "fold: 3\n",
      "\n",
      "╒═══════════════╤════════════════╤══════════════════╕\n",
      "│ metric_name   │   training_set │   validation_set │\n",
      "╞═══════════════╪════════════════╪══════════════════╡\n",
      "│ rmse          │          0.059 │            0.249 │\n",
      "├───────────────┼────────────────┼──────────────────┤\n",
      "│ r_2           │          0.965 │            0.323 │\n",
      "├───────────────┼────────────────┼──────────────────┤\n",
      "│ accuracy      │          0.977 │            0.802 │\n",
      "├───────────────┼────────────────┼──────────────────┤\n",
      "│ tpr           │          0.905 │            0.185 │\n",
      "├───────────────┼────────────────┼──────────────────┤\n",
      "│ fpr           │          0.005 │            0.056 │\n",
      "├───────────────┼────────────────┼──────────────────┤\n",
      "│ ppv           │          0.976 │            0.435 │\n",
      "├───────────────┼────────────────┼──────────────────┤\n",
      "│ npv           │          0.978 │            0.834 │\n",
      "├───────────────┼────────────────┼──────────────────┤\n",
      "│ f_score       │          0.939 │            0.260 │\n",
      "├───────────────┼────────────────┼──────────────────┤\n",
      "│ auc           │          0.998 │            0.745 │\n",
      "├───────────────┼────────────────┼──────────────────┤\n",
      "│ ap            │          0.992 │            0.401 │\n",
      "╘═══════════════╧════════════════╧══════════════════╛\n",
      "\n",
      "fold: 4\n",
      "\n",
      "╒═══════════════╤════════════════╤══════════════════╕\n",
      "│ metric_name   │   training_set │   validation_set │\n",
      "╞═══════════════╪════════════════╪══════════════════╡\n",
      "│ rmse          │          0.055 │            0.241 │\n",
      "├───────────────┼────────────────┼──────────────────┤\n",
      "│ r_2           │          0.970 │            0.322 │\n",
      "├───────────────┼────────────────┼──────────────────┤\n",
      "│ accuracy      │          0.976 │            0.857 │\n",
      "├───────────────┼────────────────┼──────────────────┤\n",
      "│ tpr           │          0.922 │            0.318 │\n",
      "├───────────────┼────────────────┼──────────────────┤\n",
      "│ fpr           │          0.011 │            0.045 │\n",
      "├───────────────┼────────────────┼──────────────────┤\n",
      "│ ppv           │          0.955 │            0.560 │\n",
      "├───────────────┼────────────────┼──────────────────┤\n",
      "│ npv           │          0.981 │            0.885 │\n",
      "├───────────────┼────────────────┼──────────────────┤\n",
      "│ f_score       │          0.938 │            0.406 │\n",
      "├───────────────┼────────────────┼──────────────────┤\n",
      "│ auc           │          0.997 │            0.734 │\n",
      "├───────────────┼────────────────┼──────────────────┤\n",
      "│ ap            │          0.985 │            0.465 │\n",
      "╘═══════════════╧════════════════╧══════════════════╛\n",
      "\n",
      "fold: 5\n",
      "\n",
      "╒═══════════════╤════════════════╤══════════════════╕\n",
      "│ metric_name   │   training_set │   validation_set │\n",
      "╞═══════════════╪════════════════╪══════════════════╡\n",
      "│ rmse          │          0.056 │            0.286 │\n",
      "├───────────────┼────────────────┼──────────────────┤\n",
      "│ r_2           │          0.965 │            0.358 │\n",
      "├───────────────┼────────────────┼──────────────────┤\n",
      "│ accuracy      │          0.977 │            0.843 │\n",
      "├───────────────┼────────────────┼──────────────────┤\n",
      "│ tpr           │          0.934 │            0.413 │\n",
      "├───────────────┼────────────────┼──────────────────┤\n",
      "│ fpr           │          0.013 │            0.036 │\n",
      "├───────────────┼────────────────┼──────────────────┤\n",
      "│ ppv           │          0.943 │            0.765 │\n",
      "├───────────────┼────────────────┼──────────────────┤\n",
      "│ npv           │          0.985 │            0.854 │\n",
      "├───────────────┼────────────────┼──────────────────┤\n",
      "│ f_score       │          0.938 │            0.536 │\n",
      "├───────────────┼────────────────┼──────────────────┤\n",
      "│ auc           │          0.997 │            0.828 │\n",
      "├───────────────┼────────────────┼──────────────────┤\n",
      "│ ap            │          0.988 │            0.619 │\n",
      "╘═══════════════╧════════════════╧══════════════════╛\n",
      "\n",
      "ExtraTrees score:\n",
      "\n",
      "╒═══════════════╤═══════════════╤══════════════╤═══════════════╤══════════════╕\n",
      "│ metric_name   │   train: mean │   train: std │   valid: mean │   valid: std │\n",
      "╞═══════════════╪═══════════════╪══════════════╪═══════════════╪══════════════╡\n",
      "│ rmse          │         0.059 │        0.004 │         0.251 │        0.018 │\n",
      "├───────────────┼───────────────┼──────────────┼───────────────┼──────────────┤\n",
      "│ r_2           │         0.964 │        0.004 │         0.346 │        0.032 │\n",
      "├───────────────┼───────────────┼──────────────┼───────────────┼──────────────┤\n",
      "│ accuracy      │         0.977 │        0.001 │         0.839 │        0.019 │\n",
      "├───────────────┼───────────────┼──────────────┼───────────────┼──────────────┤\n",
      "│ tpr           │         0.922 │        0.010 │         0.341 │        0.085 │\n",
      "├───────────────┼───────────────┼──────────────┼───────────────┼──────────────┤\n",
      "│ fpr           │         0.010 │        0.003 │         0.044 │        0.007 │\n",
      "├───────────────┼───────────────┼──────────────┼───────────────┼──────────────┤\n",
      "│ ppv           │         0.955 │        0.012 │         0.633 │        0.121 │\n",
      "├───────────────┼───────────────┼──────────────┼───────────────┼──────────────┤\n",
      "│ npv           │         0.982 │        0.002 │         0.861 │        0.017 │\n",
      "├───────────────┼───────────────┼──────────────┼───────────────┼──────────────┤\n",
      "│ f_score       │         0.938 │        0.001 │         0.442 │        0.102 │\n",
      "├───────────────┼───────────────┼──────────────┼───────────────┼──────────────┤\n",
      "│ auc           │         0.997 │        0.001 │         0.800 │        0.052 │\n",
      "├───────────────┼───────────────┼──────────────┼───────────────┼──────────────┤\n",
      "│ ap            │         0.982 │        0.010 │         0.541 │        0.093 │\n",
      "╘═══════════════╧═══════════════╧══════════════╧═══════════════╧══════════════╛\n"
     ]
    }
   ],
   "source": [
    "model_name = 'ExtraTrees'\n",
    "model_extratree = ExtraTreesRegressor(\n",
    "    n_estimators=200,\n",
    "    max_depth=50,\n",
    "    min_samples_split=2, \n",
    "    min_samples_leaf=2,\n",
    "    min_weight_fraction_leaf=0.0002,\n",
    "    max_leaf_nodes=None,\n",
    "    max_features='auto',\n",
    "    min_impurity_decrease=0.00,\n",
    "    random_state=32,\n",
    "    n_jobs=2\n",
    ")\n",
    "\n",
    "score, _, score_dict = cv_model(model_extratree, model_name, X_train, y_train, threshold)\n",
    "\n",
    "all_models[model_name] = model_extratree\n",
    "all_models_scores[model_name] = score_dict\n",
    "print('\\n{} score:\\n'.format(model_name))\n",
    "print(score)"
   ]
  },
  {
   "cell_type": "markdown",
   "metadata": {},
   "source": [
    "* **GradientTreeBoosting (LightGBM) :**\n",
    "\n",
    "https://en.wikipedia.org/wiki/Gradient_boosting\n",
    "\n",
    "https://medium.com/mlreview/gradient-boosting-from-scratch-1e317ae4587d\n",
    "\n",
    "https://lightgbm.readthedocs.io/en/latest/\n"
   ]
  },
  {
   "cell_type": "code",
   "execution_count": 38,
   "metadata": {
    "scrolled": true
   },
   "outputs": [
    {
     "name": "stdout",
     "output_type": "stream",
     "text": [
      "\n",
      "fold: 1\n",
      "\n",
      "╒═══════════════╤════════════════╤══════════════════╕\n",
      "│ metric_name   │   training_set │   validation_set │\n",
      "╞═══════════════╪════════════════╪══════════════════╡\n",
      "│ rmse          │          0.045 │            0.233 │\n",
      "├───────────────┼────────────────┼──────────────────┤\n",
      "│ r_2           │          0.979 │            0.449 │\n",
      "├───────────────┼────────────────┼──────────────────┤\n",
      "│ accuracy      │          0.977 │            0.837 │\n",
      "├───────────────┼────────────────┼──────────────────┤\n",
      "│ tpr           │          0.912 │            0.483 │\n",
      "├───────────────┼────────────────┼──────────────────┤\n",
      "│ fpr           │          0.008 │            0.074 │\n",
      "├───────────────┼────────────────┼──────────────────┤\n",
      "│ ppv           │          0.966 │            0.622 │\n",
      "├───────────────┼────────────────┼──────────────────┤\n",
      "│ npv           │          0.980 │            0.877 │\n",
      "├───────────────┼────────────────┼──────────────────┤\n",
      "│ f_score       │          0.938 │            0.544 │\n",
      "├───────────────┼────────────────┼──────────────────┤\n",
      "│ auc           │          0.997 │            0.876 │\n",
      "├───────────────┼────────────────┼──────────────────┤\n",
      "│ ap            │          0.989 │            0.638 │\n",
      "╘═══════════════╧════════════════╧══════════════════╛\n",
      "\n",
      "fold: 2\n",
      "\n",
      "╒═══════════════╤════════════════╤══════════════════╕\n",
      "│ metric_name   │   training_set │   validation_set │\n",
      "╞═══════════════╪════════════════╪══════════════════╡\n",
      "│ rmse          │          0.046 │            0.268 │\n",
      "├───────────────┼────────────────┼──────────────────┤\n",
      "│ r_2           │          0.979 │            0.140 │\n",
      "├───────────────┼────────────────┼──────────────────┤\n",
      "│ accuracy      │          0.976 │            0.823 │\n",
      "├───────────────┼────────────────┼──────────────────┤\n",
      "│ tpr           │          0.913 │            0.429 │\n",
      "├───────────────┼────────────────┼──────────────────┤\n",
      "│ fpr           │          0.010 │            0.082 │\n",
      "├───────────────┼────────────────┼──────────────────┤\n",
      "│ ppv           │          0.957 │            0.558 │\n",
      "├───────────────┼────────────────┼──────────────────┤\n",
      "│ npv           │          0.980 │            0.869 │\n",
      "├───────────────┼────────────────┼──────────────────┤\n",
      "│ f_score       │          0.935 │            0.485 │\n",
      "├───────────────┼────────────────┼──────────────────┤\n",
      "│ auc           │          0.995 │            0.773 │\n",
      "├───────────────┼────────────────┼──────────────────┤\n",
      "│ ap            │          0.980 │            0.478 │\n",
      "╘═══════════════╧════════════════╧══════════════════╛\n",
      "\n",
      "fold: 3\n",
      "\n",
      "╒═══════════════╤════════════════╤══════════════════╕\n",
      "│ metric_name   │   training_set │   validation_set │\n",
      "╞═══════════════╪════════════════╪══════════════════╡\n",
      "│ rmse          │          0.043 │            0.242 │\n",
      "├───────────────┼────────────────┼──────────────────┤\n",
      "│ r_2           │          0.981 │            0.357 │\n",
      "├───────────────┼────────────────┼──────────────────┤\n",
      "│ accuracy      │          0.977 │            0.792 │\n",
      "├───────────────┼────────────────┼──────────────────┤\n",
      "│ tpr           │          0.914 │            0.296 │\n",
      "├───────────────┼────────────────┼──────────────────┤\n",
      "│ fpr           │          0.009 │            0.094 │\n",
      "├───────────────┼────────────────┼──────────────────┤\n",
      "│ ppv           │          0.962 │            0.421 │\n",
      "├───────────────┼────────────────┼──────────────────┤\n",
      "│ npv           │          0.980 │            0.848 │\n",
      "├───────────────┼────────────────┼──────────────────┤\n",
      "│ f_score       │          0.937 │            0.348 │\n",
      "├───────────────┼────────────────┼──────────────────┤\n",
      "│ auc           │          0.997 │            0.768 │\n",
      "├───────────────┼────────────────┼──────────────────┤\n",
      "│ ap            │          0.989 │            0.478 │\n",
      "╘═══════════════╧════════════════╧══════════════════╛\n",
      "\n",
      "fold: 4\n",
      "\n",
      "╒═══════════════╤════════════════╤══════════════════╕\n",
      "│ metric_name   │   training_set │   validation_set │\n",
      "╞═══════════════╪════════════════╪══════════════════╡\n",
      "│ rmse          │          0.042 │            0.244 │\n",
      "├───────────────┼────────────────┼──────────────────┤\n",
      "│ r_2           │          0.982 │            0.310 │\n",
      "├───────────────┼────────────────┼──────────────────┤\n",
      "│ accuracy      │          0.973 │            0.854 │\n",
      "├───────────────┼────────────────┼──────────────────┤\n",
      "│ tpr           │          0.909 │            0.386 │\n",
      "├───────────────┼────────────────┼──────────────────┤\n",
      "│ fpr           │          0.011 │            0.062 │\n",
      "├───────────────┼────────────────┼──────────────────┤\n",
      "│ ppv           │          0.955 │            0.531 │\n",
      "├───────────────┼────────────────┼──────────────────┤\n",
      "│ npv           │          0.977 │            0.894 │\n",
      "├───────────────┼────────────────┼──────────────────┤\n",
      "│ f_score       │          0.931 │            0.447 │\n",
      "├───────────────┼────────────────┼──────────────────┤\n",
      "│ auc           │          0.997 │            0.759 │\n",
      "├───────────────┼────────────────┼──────────────────┤\n",
      "│ ap            │          0.987 │            0.418 │\n",
      "╘═══════════════╧════════════════╧══════════════════╛\n",
      "\n",
      "fold: 5\n",
      "\n",
      "╒═══════════════╤════════════════╤══════════════════╕\n",
      "│ metric_name   │   training_set │   validation_set │\n",
      "╞═══════════════╪════════════════╪══════════════════╡\n",
      "│ rmse          │          0.041 │            0.287 │\n",
      "├───────────────┼────────────────┼──────────────────┤\n",
      "│ r_2           │          0.981 │            0.356 │\n",
      "├───────────────┼────────────────┼──────────────────┤\n",
      "│ accuracy      │          0.977 │            0.847 │\n",
      "├───────────────┼────────────────┼──────────────────┤\n",
      "│ tpr           │          0.915 │            0.444 │\n",
      "├───────────────┼────────────────┼──────────────────┤\n",
      "│ fpr           │          0.010 │            0.040 │\n",
      "├───────────────┼────────────────┼──────────────────┤\n",
      "│ ppv           │          0.956 │            0.757 │\n",
      "├───────────────┼────────────────┼──────────────────┤\n",
      "│ npv           │          0.981 │            0.860 │\n",
      "├───────────────┼────────────────┼──────────────────┤\n",
      "│ f_score       │          0.935 │            0.560 │\n",
      "├───────────────┼────────────────┼──────────────────┤\n",
      "│ auc           │          0.997 │            0.835 │\n",
      "├───────────────┼────────────────┼──────────────────┤\n",
      "│ ap            │          0.988 │            0.616 │\n",
      "╘═══════════════╧════════════════╧══════════════════╛\n",
      "\n",
      "GradientTreeBoosting score:\n",
      "\n",
      "╒═══════════════╤═══════════════╤══════════════╤═══════════════╤══════════════╕\n",
      "│ metric_name   │   train: mean │   train: std │   valid: mean │   valid: std │\n",
      "╞═══════════════╪═══════════════╪══════════════╪═══════════════╪══════════════╡\n",
      "│ rmse          │         0.044 │        0.002 │         0.255 │        0.020 │\n",
      "├───────────────┼───────────────┼──────────────┼───────────────┼──────────────┤\n",
      "│ r_2           │         0.981 │        0.001 │         0.322 │        0.102 │\n",
      "├───────────────┼───────────────┼──────────────┼───────────────┼──────────────┤\n",
      "│ accuracy      │         0.976 │        0.001 │         0.830 │        0.022 │\n",
      "├───────────────┼───────────────┼──────────────┼───────────────┼──────────────┤\n",
      "│ tpr           │         0.913 │        0.002 │         0.408 │        0.064 │\n",
      "├───────────────┼───────────────┼──────────────┼───────────────┼──────────────┤\n",
      "│ fpr           │         0.009 │        0.001 │         0.070 │        0.018 │\n",
      "├───────────────┼───────────────┼──────────────┼───────────────┼──────────────┤\n",
      "│ ppv           │         0.959 │        0.004 │         0.578 │        0.111 │\n",
      "├───────────────┼───────────────┼──────────────┼───────────────┼──────────────┤\n",
      "│ npv           │         0.980 │        0.001 │         0.870 │        0.016 │\n",
      "├───────────────┼───────────────┼──────────────┼───────────────┼──────────────┤\n",
      "│ f_score       │         0.935 │        0.002 │         0.477 │        0.076 │\n",
      "├───────────────┼───────────────┼──────────────┼───────────────┼──────────────┤\n",
      "│ auc           │         0.997 │        0.001 │         0.802 │        0.046 │\n",
      "├───────────────┼───────────────┼──────────────┼───────────────┼──────────────┤\n",
      "│ ap            │         0.987 │        0.004 │         0.526 │        0.086 │\n",
      "╘═══════════════╧═══════════════╧══════════════╧═══════════════╧══════════════╛\n"
     ]
    }
   ],
   "source": [
    "model_name = 'GradientTreeBoosting'\n",
    "model_lgb = lgb.LGBMRegressor(\n",
    "    boosting_type='gbdt',\n",
    "    objective='rmse',\n",
    "    n_estimators=5000,\n",
    "    learning_rate=0.03,\n",
    "    \n",
    "    max_depth=6,             # Specify the max depth to which tree will grow. \n",
    "    num_leaves=24,           # Number of leaves in one tree\n",
    "\n",
    "    min_child_weight=11,     # minimal sum hessian in one leaf\n",
    "    min_data_in_leaf=20,     # Min number of data in one leaf.\n",
    "    \n",
    "    subsample=0.8,           # Specifies the fraction of data to be used for each iteration\n",
    "    subsample_freq=1,\n",
    "    bagging_seed=9,\n",
    "    \n",
    "    colsample_bytree=0.8,    # Specifies the fraction of features to be taken for each iteration\n",
    "    feature_fraction_seed=7,\n",
    "    \n",
    "    min_gain_to_split=0.002, # Min gain to perform splitting\n",
    "    reg_alpha=0.0,\n",
    "    reg_lambda=0.0,\n",
    "    n_jobs=2,\n",
    ")\n",
    "score, _, score_dict = cv_model(model_lgb, model_name, X_train, y_train, threshold)\n",
    "\n",
    "all_models[model_name] = model_extratree\n",
    "all_models_scores[model_name] = score_dict\n",
    "print('\\n{} score:\\n'.format(model_name))\n",
    "print(score)"
   ]
  },
  {
   "cell_type": "markdown",
   "metadata": {},
   "source": [
    "**Mean CV scores all models together:**"
   ]
  },
  {
   "cell_type": "code",
   "execution_count": 39,
   "metadata": {},
   "outputs": [
    {
     "name": "stdout",
     "output_type": "stream",
     "text": [
      "╒══════════╤═════════╤══════════════╤══════════════╤════════════════════════╕\n",
      "│ Metric   │   Lasso │   ElasticNet │   ExtraTrees │   GradientTreeBoosting │\n",
      "╞══════════╪═════════╪══════════════╪══════════════╪════════════════════════╡\n",
      "│ rmse     │   0.272 │        0.271 │        0.251 │                  0.255 │\n",
      "├──────────┼─────────┼──────────────┼──────────────┼────────────────────────┤\n",
      "│ r_2      │   0.232 │        0.237 │        0.346 │                  0.322 │\n",
      "├──────────┼─────────┼──────────────┼──────────────┼────────────────────────┤\n",
      "│ accuracy │   0.821 │        0.819 │        0.839 │                  0.830 │\n",
      "├──────────┼─────────┼──────────────┼──────────────┼────────────────────────┤\n",
      "│ tpr      │   0.304 │        0.286 │        0.341 │                  0.408 │\n",
      "├──────────┼─────────┼──────────────┼──────────────┼────────────────────────┤\n",
      "│ fpr      │   0.058 │        0.055 │        0.044 │                  0.070 │\n",
      "├──────────┼─────────┼──────────────┼──────────────┼────────────────────────┤\n",
      "│ ppv      │   0.555 │        0.553 │        0.633 │                  0.578 │\n",
      "├──────────┼─────────┼──────────────┼──────────────┼────────────────────────┤\n",
      "│ npv      │   0.851 │        0.848 │        0.861 │                  0.870 │\n",
      "├──────────┼─────────┼──────────────┼──────────────┼────────────────────────┤\n",
      "│ f_score  │   0.392 │        0.377 │        0.442 │                  0.477 │\n",
      "├──────────┼─────────┼──────────────┼──────────────┼────────────────────────┤\n",
      "│ auc      │   0.778 │        0.776 │        0.800 │                  0.802 │\n",
      "├──────────┼─────────┼──────────────┼──────────────┼────────────────────────┤\n",
      "│ ap       │   0.488 │        0.481 │        0.541 │                  0.526 │\n",
      "╘══════════╧═════════╧══════════════╧══════════════╧════════════════════════╛\n"
     ]
    }
   ],
   "source": [
    "models, metrics = zip(*all_models_scores.items())\n",
    "\n",
    "tabular_format = defaultdict(list)\n",
    "for model_score_dict in metrics:\n",
    "    for metric_name, metric_score in model_score_dict.items():\n",
    "        tabular_format[metric_name].append(metric_score[0])\n",
    "\n",
    "\n",
    "tabular_format = tabulate([[k] + v for k, v in tabular_format.items()], \n",
    "                          headers=['Metric'] + list(models), \n",
    "                          floatfmt=\",.3f\",  tablefmt=\"fancy_grid\")\n",
    "print(tabular_format)"
   ]
  },
  {
   "cell_type": "markdown",
   "metadata": {},
   "source": [
    "Some insights from scores: \n",
    "\n",
    "* As expected **Lasso** and **ElasticNet** performance are almost similar and their performance is low compared to DecisionTree models, which is also expected as we investigated that our data mostly is non linear.\n",
    "\n",
    "* If we compare **GradientTreeBoosting** and **ExtraTrees** then we can notice that their performances are comparable: mean validation RMSE is almost equal and AUC is almost equal. We see some difference for TPR (true positive ratio - When it is actually Y, how often does it predict Y?) and FPR (false positive ratio - When it is actually N, how often does it predict Y?) metrics for given 0.7% success threshold. As we can see both are bigger for GradientTreeBoosting based model **(tpr: 0.408 vs 0.341, fpr: 0.070  vs 0.044)**. So what does it mean? We can assume that GradientTreeBoosting based model learned more from data than ExtraTrees (as it is more complex model than ExtraTrees), so it can differentiate more succesful launches, but together with that the FPR is more by 2.6pp, which is not good from bussiness prospective. So GradientTreeBoosting based models pays FPR increase cost (by 1.8pp) for having higher TPR by 6.7pp. \n",
    "* All models have low TPR, which is a result of having imbalanced dataset (only 19% are successes in dataset).\n"
   ]
  },
  {
   "cell_type": "markdown",
   "metadata": {},
   "source": [
    "**Training scores on full training data for each model:**\n",
    "\n",
    "In this section using all training data we fit model on it and afterwards using the same training data make predictions. We compare that predictions with actual data. So if the model fitted properly, it should show very high performance metrics (AUC > 0.95, RMSE < 0.06)."
   ]
  },
  {
   "cell_type": "code",
   "execution_count": null,
   "metadata": {
    "scrolled": true
   },
   "outputs": [],
   "source": [
    "all_fitted_models = {}\n",
    "all_models_predictions = {}\n",
    "for name, model in all_models.items():\n",
    "    print('\\n model: {} train score'.format(name))\n",
    "    fitted_model, _, y_pred = evaluate_model(model, X_train, y_train, training=True, plot=True)\n",
    "    all_fitted_models[name] = fitted_model\n",
    "    all_models_predictions[name] = y_pred\n",
    "    print()"
   ]
  },
  {
   "cell_type": "markdown",
   "metadata": {},
   "source": [
    "Lets plot all models ROC curves together."
   ]
  },
  {
   "cell_type": "code",
   "execution_count": null,
   "metadata": {},
   "outputs": [],
   "source": [
    "threshold = 0.007\n",
    "threshold_transformed = stats.boxcox(threshold, 0.25)\n",
    "binary_target = y_train > threshold_transformed\n",
    "\n",
    "plt.figure(figsize=(15, 10))\n",
    "for k, y_pred in all_models_predictions.items():\n",
    "    fpr, tpr, _ = roc_curve(binary_target, y_pred)\n",
    "    auc_score = auc(fpr, tpr)\n",
    "    label = '{}: ROC (AUC = {:.3f})'.format(k, auc_score)\n",
    "    plt.plot(fpr, tpr, lw=1, alpha=0.6, label=label)\n",
    "plt.plot([0, 1], [0, 1], linestyle='--', lw=2, color='r', label='Chance', alpha=.8)\n",
    "\n",
    "plt.xlim([-0.05, 1.05])\n",
    "plt.ylim([-0.05, 1.05])\n",
    "plt.title('ROC curve on train data')\n",
    "plt.xlabel('False Positive Rate')\n",
    "plt.ylabel('True Positive Rate')\n",
    "plt.legend(loc=\"lower right\")\n",
    "plt.show()"
   ]
  },
  {
   "cell_type": "markdown",
   "metadata": {},
   "source": [
    "As we can see *\"linear\"* models **Lasso** and **ElasticNet** are not able to fully fit even on training data. So afterwards we will not consider using them. \n",
    "\n",
    "In contrast,  *\"non linear\"* models fitted with training data almost ideally, even more they have been **overfitted**, that is why our validation scores are not high enough. It is also expected as our data is not big enough."
   ]
  },
  {
   "cell_type": "markdown",
   "metadata": {},
   "source": [
    "**Feature importances for all models:**"
   ]
  },
  {
   "cell_type": "code",
   "execution_count": null,
   "metadata": {},
   "outputs": [],
   "source": [
    "feat_imp = pd.Series(all_fitted_models['Lasso']._final_estimator.coef_, index=X_train.columns)\n",
    "feat_imp.sort_values(inplace=True)\n",
    "plt.figure(figsize=(10, 7))\n",
    "plt.barh(feat_imp.index[:15], feat_imp.values[:15])\n",
    "plt.barh(feat_imp.index[-15:], feat_imp.values[-15:])\n",
    "plt.title('Lassso')\n",
    "plt.tight_layout()\n",
    "plt.show()"
   ]
  },
  {
   "cell_type": "code",
   "execution_count": null,
   "metadata": {},
   "outputs": [],
   "source": [
    "feat_imp = pd.Series(all_fitted_models['ElasticNet']._final_estimator.coef_, index=X_train.columns)\n",
    "feat_imp.sort_values(inplace=True)\n",
    "plt.figure(figsize=(10, 7))\n",
    "plt.barh(feat_imp.index[:15], feat_imp.values[:15])\n",
    "plt.barh(feat_imp.index[-15:], feat_imp.values[-15:])\n",
    "plt.title('ElascticNet')\n",
    "plt.tight_layout()\n",
    "plt.show()"
   ]
  },
  {
   "cell_type": "code",
   "execution_count": null,
   "metadata": {
    "scrolled": false
   },
   "outputs": [],
   "source": [
    "feat_imp = pd.Series(all_fitted_models['ExtraTrees'].feature_importances_, index=X_train.columns)\n",
    "feat_imp.nlargest(30).plot(kind='barh', figsize=(8,10))\n",
    "plt.title('ExtraTrees')\n",
    "plt.show()"
   ]
  },
  {
   "cell_type": "code",
   "execution_count": null,
   "metadata": {},
   "outputs": [],
   "source": [
    "feat_imp = pd.Series(all_fitted_models['GradientTreeBoosting'].feature_importances_, index=X_train.columns)\n",
    "feat_imp.nlargest(30).plot(kind='barh', figsize=(8,10))\n",
    "plt.title('GradientTreeBoosting')\n",
    "plt.show()"
   ]
  },
  {
   "cell_type": "markdown",
   "metadata": {},
   "source": [
    "From graphs we can see that different features are important for dfferent models. If we take into consideration only GradiendBoosting and ExtraTrees then we can see for both models there is a common tendency that **RETAILPACKPRICE** related features are important. This is is quite intuitive: in reality market share depends on price."
   ]
  },
  {
   "cell_type": "markdown",
   "metadata": {},
   "source": [
    "### Parameter optimization with GridSearch"
   ]
  },
  {
   "cell_type": "markdown",
   "metadata": {},
   "source": [
    "Now lets try to make some parameter optimization. We hope that this will help to overcome overfitting (at least partially)."
   ]
  },
  {
   "cell_type": "code",
   "execution_count": null,
   "metadata": {},
   "outputs": [],
   "source": [
    "# we will use AUC as an optimization metric, instead of RMSE\n",
    "auc_scorer = make_scorer(lambda x, y: scorer(x, y)['auc'], greater_is_better=True)"
   ]
  },
  {
   "cell_type": "markdown",
   "metadata": {},
   "source": [
    "**GradientTreeBoosting**"
   ]
  },
  {
   "cell_type": "markdown",
   "metadata": {},
   "source": [
    "https://sites.google.com/view/lauraepp/parameters?authuser=0"
   ]
  },
  {
   "cell_type": "code",
   "execution_count": null,
   "metadata": {},
   "outputs": [],
   "source": [
    "lgb_train = lgb.Dataset(X_train, label=y_train)"
   ]
  },
  {
   "cell_type": "markdown",
   "metadata": {},
   "source": [
    "**Step 1: Fix learning rate and number of estimators for tuning tree-based parameters**"
   ]
  },
  {
   "cell_type": "code",
   "execution_count": null,
   "metadata": {},
   "outputs": [],
   "source": [
    "params = {\n",
    "    'learning_rate': 0.03,\n",
    "    'objective':'rmse',\n",
    "    'max_depth': 6,\n",
    "    'num_leaves': 31,\n",
    "    'min_child_weight': 1,\n",
    "    'subsample': 0.8,\n",
    "    'subsample_freq': 1,\n",
    "    'bagging_seed': 9,\n",
    "    'colsample_bytree': 0.8,\n",
    "    'feature_fraction_seed': 7,\n",
    "    'n_jobs': 2,\n",
    "}"
   ]
  },
  {
   "cell_type": "code",
   "execution_count": null,
   "metadata": {},
   "outputs": [],
   "source": [
    "cvresult = lgb.cv(params, lgb_train, num_boost_round=5000, nfold=5, stratified=False, \n",
    "                  metrics=['rmse'], early_stopping_rounds=100)"
   ]
  },
  {
   "cell_type": "code",
   "execution_count": null,
   "metadata": {},
   "outputs": [],
   "source": [
    "n_esitimators = int(1.1 * len(cvresult['rmse-mean']))\n",
    "print(n_esitimators)"
   ]
  },
  {
   "cell_type": "markdown",
   "metadata": {},
   "source": [
    "* learning_rate=0.03\n",
    "* n_esitimators=850"
   ]
  },
  {
   "cell_type": "markdown",
   "metadata": {},
   "source": [
    "**Step 2: Tune max_depth and num_leaves**"
   ]
  },
  {
   "cell_type": "code",
   "execution_count": null,
   "metadata": {},
   "outputs": [],
   "source": [
    "params_search_1 = {\n",
    "    'max_depth': range(3, 8, 1), \n",
    "    'num_leaves': range(7, 255, 8)\n",
    "}\n",
    "gsearch_1 = GridSearchCV(\n",
    "    estimator=lgb.LGBMRegressor(\n",
    "        learning_rate=0.03,\n",
    "        n_estimators=850,\n",
    "        max_depth=6,\n",
    "        num_leaves=31,\n",
    "        min_child_weight=1,\n",
    "        subsample=0.8,\n",
    "        subsample_freq=1,\n",
    "        bagging_seed=9,\n",
    "        colsample_bytree=0.8,\n",
    "        feature_fraction_seed=7,\n",
    "        n_jobs=2),\n",
    "    param_grid=params_search_1,\n",
    "    scoring=auc_scorer,\n",
    "    n_jobs=2,\n",
    "    iid=False,\n",
    "    cv=5)\n",
    "\n",
    "gsearch_1.fit(X_train, y_train)\n",
    "gsearch_1.best_params_, gsearch_1.best_score_"
   ]
  },
  {
   "cell_type": "markdown",
   "metadata": {},
   "source": [
    "* learning_rate=0.03\n",
    "* n_estimators=850\n",
    "* max_depth=7\n",
    "* num_leaves=23"
   ]
  },
  {
   "cell_type": "markdown",
   "metadata": {},
   "source": [
    "**Step 3: Tune min_child_weight and min_child_samples**"
   ]
  },
  {
   "cell_type": "code",
   "execution_count": null,
   "metadata": {},
   "outputs": [],
   "source": [
    "params_search_2 = {\n",
    "    'min_child_weight': range(1, 50, 5),\n",
    "    'min_child_samples': range(1, 30, 3)\n",
    "}\n",
    "gsearch_2 = GridSearchCV(\n",
    "    estimator=lgb.LGBMRegressor(\n",
    "        learning_rate=0.03,\n",
    "        n_estimators=850,\n",
    "        max_depth=6,\n",
    "        num_leaves=31,\n",
    "        min_child_weight=1,\n",
    "        subsample=0.8,\n",
    "        subsample_freq=1,\n",
    "        bagging_seed=9,\n",
    "        colsample_bytree=0.8,\n",
    "        feature_fraction_seed=7,\n",
    "        n_jobs=2),\n",
    "    param_grid=params_search_2,\n",
    "    scoring=auc_scorer,\n",
    "    n_jobs=2,\n",
    "    iid=False,\n",
    "    cv=5)\n",
    "\n",
    "gsearch_2.fit(X_train, y_train)\n",
    "gsearch_2.best_params_, gsearch_2.best_score_"
   ]
  },
  {
   "cell_type": "markdown",
   "metadata": {},
   "source": [
    "* learning_rate=0.03\n",
    "* n_estimators=850\n",
    "* max_depth=7\n",
    "* num_leaves=23\n",
    "* min_child_weight=1\n",
    "* min_child_samples=1"
   ]
  },
  {
   "cell_type": "markdown",
   "metadata": {},
   "source": [
    "**Step 4: Tune min_split_gain**"
   ]
  },
  {
   "cell_type": "code",
   "execution_count": null,
   "metadata": {},
   "outputs": [],
   "source": [
    "params_search_3 = {\n",
    "    'min_split_gain': np.linspace(0.001, 0.05, num=25)\n",
    "}\n",
    "\n",
    "gsearch_3 = GridSearchCV(\n",
    "    estimator=lgb.LGBMRegressor(\n",
    "        learning_rate=0.03,\n",
    "        n_estimators=850,\n",
    "        max_depth=7,\n",
    "        num_leaves=23,\n",
    "        min_child_weight=1,\n",
    "        min_child_samples=1,\n",
    "        subsample=0.8,\n",
    "        subsample_freq=1,\n",
    "        bagging_seed=9,\n",
    "        colsample_bytree=0.8,\n",
    "        feature_fraction_seed=7,\n",
    "        min_split_gain=0.0,\n",
    "        n_jobs=2),\n",
    "    param_grid=params_search_3,\n",
    "    scoring=auc_scorer,\n",
    "    n_jobs=2,\n",
    "    iid=False,\n",
    "    cv=5)\n",
    "\n",
    "gsearch_3.fit(X_train, y_train)\n",
    "gsearch_3.best_params_, gsearch_3.best_score_"
   ]
  },
  {
   "cell_type": "markdown",
   "metadata": {},
   "source": [
    "* learning_rate=0.03\n",
    "* n_estimators=850\n",
    "* max_depth=7\n",
    "* num_leaves=23\n",
    "* min_child_weight=1\n",
    "* min_child_samples=1\n",
    "* min_split_gain=0.003"
   ]
  },
  {
   "cell_type": "markdown",
   "metadata": {},
   "source": [
    "**ExtraTrees**"
   ]
  },
  {
   "cell_type": "code",
   "execution_count": null,
   "metadata": {},
   "outputs": [],
   "source": [
    "params_search_4 = {\n",
    "    'n_estimators': [100, 200, 300],\n",
    "    'max_features': ['auto', 'log2', 0.8],\n",
    "    'max_depth': [40, 50, 60],\n",
    "    'min_samples_split': [2, 3, 4],\n",
    "    'min_samples_leaf': [1, 2],\n",
    "    'bootstrap': [True, False],\n",
    "}\n",
    "\n",
    "gsearch_4 = GridSearchCV(\n",
    "    estimator=ExtraTreesRegressor(\n",
    "    n_estimators=200,\n",
    "    max_depth=50,\n",
    "    min_samples_split=2, \n",
    "    min_samples_leaf=2,\n",
    "    min_weight_fraction_leaf=0.0002,\n",
    "    max_leaf_nodes=None,\n",
    "    max_features='auto',\n",
    "    min_impurity_decrease=0.00,\n",
    "    random_state=32,\n",
    "    n_jobs=2),\n",
    "    param_grid=params_search_4,\n",
    "    scoring=auc_scorer,\n",
    "    n_jobs=2,\n",
    "    iid=False,\n",
    "    cv=5)\n",
    "\n",
    "gsearch_4.fit(X_train, y_train)\n",
    "gsearch_4.best_params_, gsearch_4.best_score_"
   ]
  },
  {
   "cell_type": "markdown",
   "metadata": {},
   "source": [
    "Now lets check our models with new parameters."
   ]
  },
  {
   "cell_type": "code",
   "execution_count": null,
   "metadata": {},
   "outputs": [],
   "source": [
    "final_lgb = lgb.LGBMRegressor(\n",
    "    boosting_type='gbdt',objective='rmse', n_estimators=850,\n",
    "    learning_rate=0.03, max_depth=7, num_leaves=23, min_child_weight=1, min_data_in_leaf=1,    \n",
    "    subsample=0.8, subsample_freq=1, bagging_seed=9, colsample_bytree=0.8, feature_fraction_seed=7,\n",
    "    min_gain_to_split=0.003, n_jobs=2\n",
    ")\n",
    "\n",
    "score, _, _ = cv(final_lgb, X_train, y_train, verbose=False)\n",
    "print('\\nGradientTreeBoosting:\\n')\n",
    "print(score)"
   ]
  },
  {
   "cell_type": "code",
   "execution_count": null,
   "metadata": {},
   "outputs": [],
   "source": [
    "final_extratree = ExtraTreesRegressor(\n",
    "    n_estimators=300, max_depth=50, min_samples_split=4,\n",
    "    min_samples_leaf=1, min_weight_fraction_leaf=0.0002,\n",
    "    max_leaf_nodes=None, max_features='auto', bootstrap=True,\n",
    "    min_impurity_decrease=0.00, random_state=32, n_jobs=2)\n",
    "\n",
    "score, _, _ = cv(final_extratree, X_train, y_train, verbose=False)\n",
    "print('\\nExtraTrees:\\n')\n",
    "print(score)"
   ]
  },
  {
   "cell_type": "markdown",
   "metadata": {},
   "source": [
    "### Testing"
   ]
  },
  {
   "cell_type": "markdown",
   "metadata": {},
   "source": [
    "Finally lets test our models."
   ]
  },
  {
   "cell_type": "code",
   "execution_count": null,
   "metadata": {},
   "outputs": [],
   "source": [
    "# first we have to fit using all train data\n",
    "final_lgb.fit(X_train, y_train)\n",
    "final_extratree.fit(X_train, y_train);"
   ]
  },
  {
   "cell_type": "code",
   "execution_count": null,
   "metadata": {},
   "outputs": [],
   "source": [
    "# # testing\n",
    "_, lgb_metrics, lgb_pred = evaluate_model(final_lgb, X_test, y_test, training=False, plot=False, verbose=False)\n",
    "_, ext_metrics, ext_pred = evaluate_model(final_extratree, X_test, y_test, training=False, plot=False, verbose=False)"
   ]
  },
  {
   "cell_type": "code",
   "execution_count": null,
   "metadata": {},
   "outputs": [],
   "source": [
    "# results\n",
    "model_names=[]\n",
    "tabular_format = defaultdict(list)\n",
    "for model_name, model_score_dict in [('GradientTreeBoosting', lgb_metrics), ('ExtraTrees', ext_metrics)]:\n",
    "    model_names.append(model_name)\n",
    "    for metric_name, metric_score in model_score_dict.items():\n",
    "        tabular_format[metric_name].append(metric_score)\n",
    "\n",
    "tabular_format = tabulate([[k] + v for k, v in tabular_format.items()], \n",
    "                          headers=['Metric'] + model_names, floatfmt=\",.3f\",  tablefmt=\"fancy_grid\")\n",
    "\n",
    "print('Test results:')\n",
    "print(tabular_format)"
   ]
  },
  {
   "cell_type": "code",
   "execution_count": null,
   "metadata": {},
   "outputs": [],
   "source": [
    "threshold = 0.007\n",
    "threshold_transformed = stats.boxcox(threshold, 0.25)\n",
    "binary_target = y_test > threshold_transformed\n",
    "\n",
    "plt.figure(figsize=(15, 10))\n",
    "for k, y_pred in [('GradientTreeBoosting', lgb_pred), ('ExtraTrees', ext_pred)]:\n",
    "    fpr, tpr, _ = roc_curve(binary_target, y_pred)\n",
    "    auc_score = auc(fpr, tpr)\n",
    "    label = '{}: ROC (AUC = {:.3f})'.format(k, auc_score)\n",
    "    plt.plot(fpr, tpr, lw=1, alpha=0.6, label=label)\n",
    "plt.plot([0, 1], [0, 1], linestyle='--', lw=2, color='r', label='Chance', alpha=.8)\n",
    "\n",
    "plt.xlim([-0.05, 1.05])\n",
    "plt.ylim([-0.05, 1.05])\n",
    "plt.title('ROC curve on test data')\n",
    "plt.xlabel('False Positive Rate')\n",
    "plt.ylabel('True Positive Rate')\n",
    "plt.legend(loc=\"lower right\")\n",
    "plt.show()"
   ]
  },
  {
   "cell_type": "markdown",
   "metadata": {},
   "source": [
    "Now we will calcualte confidence interval to measure how **confident we are that the true success probability will fall within the range of the interval**.\n",
    "As an observation we should use ppv - positive predictive value, which shows the porbability of having positive sample (aka success), when our model predicts that sample is positive. We will use normal approximation.\n",
    "\n",
    "**ppv ~ P(true success | model predicts success)**"
   ]
  },
  {
   "cell_type": "code",
   "execution_count": null,
   "metadata": {},
   "outputs": [],
   "source": [
    "def ppv_conf_interval(ppv, total_p_predicted, confidence):\n",
    "    alpha = 1 - confidence  # target error rate\n",
    "    z = stats.norm.ppf(1 - alpha / 2)  # 1-alpha/2 - quantile of a standard normal distribution\n",
    "    se = z * np.sqrt(ppv * (1 - ppv) / total_p_predicted)  # standard error\n",
    "    return (ppv - se, ppv + se)"
   ]
  },
  {
   "cell_type": "code",
   "execution_count": null,
   "metadata": {},
   "outputs": [],
   "source": [
    "lgb_total_positives = (lgb_pred > threshold_transformed).sum()\n",
    "extra_tree_total_positives = (ext_pred > threshold_transformed).sum()\n",
    "\n",
    "print('Total positive predictions:')\n",
    "print('GradientTreeBoosting: {}, ExtraTrees: {}'.format(lgb_total_positives, extra_tree_total_positives))\n",
    "\n",
    "tp_lgb = ((lgb_pred > threshold_transformed) * binary_target).sum()\n",
    "tp_ext = ((ext_pred > threshold_transformed) * binary_target).sum()\n",
    "actual_true = sum(binary_target)\n",
    "\n",
    "print('\\nCorrect success predictions:')\n",
    "print('Actual success: {}, GradientTreeBoosting: {}, ExtraTrees: {}'.format(actual_true, tp_lgb, tp_ext))"
   ]
  },
  {
   "cell_type": "code",
   "execution_count": null,
   "metadata": {},
   "outputs": [],
   "source": [
    "print('95% confidence intervals for ppv:')\n",
    "\n",
    "lgb_conf_interval = ppv_conf_interval(lgb_metrics['ppv'], lgb_total_positives, 0.95)\n",
    "extra_tree_conf_interval = ppv_conf_interval(ext_metrics['ppv'], extra_tree_total_positives, 0.95)\n",
    "\n",
    "print('GradientTreeBoosting: [{:.2f}, {:.2f}]'.format(lgb_conf_interval[0], lgb_conf_interval[1]))\n",
    "print('ExtraTrees: [{:.2f}, {:.2f}]'.format(extra_tree_conf_interval[0], extra_tree_conf_interval[1]))"
   ]
  },
  {
   "cell_type": "markdown",
   "metadata": {},
   "source": [
    "**Summary**\n",
    "\n",
    "* **GradientTreeBoosting** is more powerful model than **ExtraTrees** in terms of **tpr (0.473 vs 0.236): probability of predicting success, when it is true success**. \n",
    "* **ExtraTrees** is more powerful model than **GradientTreeBoosting** in terms of **fpr (0.010 vs 0.035): probability of predicting success, when it is true failure**.\n",
    "* As a result of having small **fpr**, **ExtraTrees** has more **positive predictive power (0.86 vs 0.78): probability of being true success, when model predicted success** than **GradientTreeBoosting**. \n",
    "* When **ExtraTrees** says success, then with 0.86 probability and [0.69, 1.04] confidence interval it will be true success.\n",
    "* When **GradientTreeBoosting** says success, then with 0.78 probability and [0.65, 0.93] confidence interval it will be true success.\n",
    "* **ExtraTrees** says success 2 times rarely than **GradientTreeBoosting** in case true success.\n",
    "\n",
    "\n",
    "So what model to select??? \n",
    "\n",
    "One of the models is very conservative and almost do not predicts wrong successes, but it classifies a lot of successes as failures.\n",
    "On the other hand second model in some cases can wrongly classify failure as a success, but it 2 times more correctly classifies successes.\n",
    "\n",
    "The model selection should be calibrated with business needs. If business do not wants to lose money, with possible failures, then we should select **ExtraTrees**, as it in 99% percentage of true failures, predicts failure, but it predicts successs only in 23.6% cases, when it is true success.\n",
    "If business wants to make a bit more risky investments, then we should select **GradientTreeBoosting** (96.5% vs 99%, 47.3% vs 23.6%).\n",
    "\n",
    "\n",
    "As a ML algorithm  **GradientTreeBoosting** is more powerful as it has more **fpr** in case of our imbalanced data (only 19% of whole data is success). So we can say that it learned more from data than **ExtraTrees**. It has quite  higher f_score (0.591 vs 0.371), which is harmonic mean of ppv and sensitivity. This means that as a classificator it does it job much better.\n"
   ]
  },
  {
   "cell_type": "markdown",
   "metadata": {},
   "source": [
    "Lets test also these models average model."
   ]
  },
  {
   "cell_type": "code",
   "execution_count": null,
   "metadata": {},
   "outputs": [],
   "source": [
    "average_pred = (lgb_pred + ext_pred) / 2\n",
    "average_metrics = scorer(y_test, average_pred)\n",
    "average_metrics.pop('confusion_matrix')\n",
    "\n",
    "model_names=[]\n",
    "tabular_format = defaultdict(list)\n",
    "for model_name, model_score_dict in [('GradientTreeBoosting', lgb_metrics), ('ExtraTrees', ext_metrics), ('AverageModel', average_metrics )]:\n",
    "    model_names.append(model_name)\n",
    "    for metric_name, metric_score in model_score_dict.items():\n",
    "        tabular_format[metric_name].append(metric_score)\n",
    "\n",
    "tabular_format = tabulate([[k] + v for k, v in tabular_format.items()], \n",
    "                          headers=['Metric'] + model_names, floatfmt=\",.3f\",  tablefmt=\"fancy_grid\")\n",
    "\n",
    "print('Test results:')\n",
    "print(tabular_format)"
   ]
  },
  {
   "cell_type": "markdown",
   "metadata": {},
   "source": [
    "As we see the results are interesting. This model has **fpr=0.010 and ppv=0.913 and tpr=0.382**. So in case of true failure it performs like **ExtraTrees** (almost the same fpr), but in case of true successes its performance much better and close to **GradientTreeBoosting**. Even more its **positive predictive value** is more than for each single model, which is very very good (0.913 vs  0.788 and 0.867). It has also higher auc."
   ]
  },
  {
   "cell_type": "code",
   "execution_count": null,
   "metadata": {},
   "outputs": [],
   "source": [
    "average_total_positives = (average_pred > threshold_transformed).sum()\n",
    "tp_average = ((average_pred > threshold_transformed) * binary_target).sum()\n",
    "average_conf_interval = ppv_conf_interval(average_metrics['ppv'], average_total_positives, 0.95)"
   ]
  },
  {
   "cell_type": "code",
   "execution_count": null,
   "metadata": {},
   "outputs": [],
   "source": [
    "print('\\nCorrect success predictions:')\n",
    "print('Actual success: {}, GradientTreeBoosting: {}, ExtraTrees: {}, AverageModel: {}'.format(\n",
    "    actual_true, tp_lgb, tp_ext, tp_average))"
   ]
  },
  {
   "cell_type": "code",
   "execution_count": null,
   "metadata": {},
   "outputs": [],
   "source": [
    "print('95% confidence intervals for ppv:')\n",
    "print('GradientTreeBoosting: [{:.2f}, {:.2f}]'.format(lgb_conf_interval[0], lgb_conf_interval[1]))\n",
    "print('ExtraTrees: [{:.2f}, {:.2f}]'.format(extra_tree_conf_interval[0], extra_tree_conf_interval[1]))\n",
    "print('AverageModel: [{:.2f}, {:.2f}]'.format(average_conf_interval[0], average_conf_interval[1]))"
   ]
  },
  {
   "cell_type": "markdown",
   "metadata": {},
   "source": [
    "As we can see from bussiness prospective average model is better than each single model: it hase more positive predicive value than **ExtraTrees** and less risky than **GradientTreeBoosting**. So as final model we will take AverageModel for making predictions of our score data."
   ]
  },
  {
   "cell_type": "code",
   "execution_count": null,
   "metadata": {},
   "outputs": [],
   "source": [
    "threshold = 0.007\n",
    "threshold_transformed = stats.boxcox(threshold, 0.25)\n",
    "binary_target = y_test > threshold_transformed\n",
    "\n",
    "plt.figure(figsize=(15, 10))\n",
    "for k, y_pred in [('GradientTreeBoosting', lgb_pred), ('ExtraTrees', ext_pred), ('AverageModel', average_pred)]:\n",
    "    fpr, tpr, _ = roc_curve(binary_target, y_pred)\n",
    "    auc_score = auc(fpr, tpr)\n",
    "    label = '{}: ROC (AUC = {:.3f})'.format(k, auc_score)\n",
    "    plt.plot(fpr, tpr, lw=1, alpha=0.6, label=label)\n",
    "plt.plot([0, 1], [0, 1], linestyle='--', lw=2, color='r', label='Chance', alpha=.8)\n",
    "\n",
    "plt.xlim([-0.05, 1.05])\n",
    "plt.ylim([-0.05, 1.05])\n",
    "plt.title('ROC curve on test data')\n",
    "plt.xlabel('False Positive Rate')\n",
    "plt.ylabel('True Positive Rate')\n",
    "plt.legend(loc=\"lower right\")\n",
    "plt.show()"
   ]
  },
  {
   "cell_type": "markdown",
   "metadata": {},
   "source": [
    "Now lets find also optimal threshold for our model based on ROC curve."
   ]
  },
  {
   "cell_type": "code",
   "execution_count": null,
   "metadata": {},
   "outputs": [],
   "source": [
    "fpr, tpr, thresholds = roc_curve(binary_target, average_pred)\n",
    "\n",
    "# The optimal cut off would be where tpr is high and fpr is low\n",
    "# tpr - (1-fpr) is zero or near to zero is the optimal cut off point\n",
    "i = np.arange(len(tpr))  # index for df\n",
    "roc = pd.DataFrame({'fpr': fpr,\n",
    "                    'tpr': tpr,\n",
    "                    '1-fpr': 1 - fpr,\n",
    "                    'tf': tpr - (1 - fpr),\n",
    "                    'thresholds':  thresholds})\n",
    "optimal_threshold = roc.iloc[(roc.tf - 0).abs().argsort()[:1]]\n",
    "\n",
    "# Plot tpr vs 1-fpr\n",
    "plt.figure(figsize=(10, 6))\n",
    "plt.plot(roc['tpr'], label='tpr')\n",
    "plt.plot(roc['1-fpr'], color='red', label='1-fpr')\n",
    "plt.xlabel('1-False Positive Rate')\n",
    "plt.ylabel('True Positive Rate')\n",
    "plt.title('ROC')\n",
    "plt.legend()\n",
    "plt.tight_layout()\n",
    "plt.xticks(ticks=[])\n",
    "plt.show()"
   ]
  },
  {
   "cell_type": "code",
   "execution_count": null,
   "metadata": {},
   "outputs": [],
   "source": [
    "optimal_threshold"
   ]
  },
  {
   "cell_type": "code",
   "execution_count": null,
   "metadata": {},
   "outputs": [],
   "source": [
    "print('optimal threshold: {:.2f}%'.format(inv_boxcox(optimal_threshold['thresholds'], 0.25).values[0]*100))"
   ]
  },
  {
   "cell_type": "markdown",
   "metadata": {},
   "source": [
    "### Final Prediction"
   ]
  },
  {
   "cell_type": "code",
   "execution_count": null,
   "metadata": {},
   "outputs": [],
   "source": [
    "# Before final prediction we will use all our data for training\n",
    "final_lgb = lgb.LGBMRegressor(\n",
    "    boosting_type='gbdt',\n",
    "    objective='rmse',\n",
    "    n_estimators=850,\n",
    "    learning_rate=0.03,\n",
    "    max_depth=7,\n",
    "    num_leaves=23,\n",
    "    min_child_weight=1,\n",
    "    min_data_in_leaf=1,\n",
    "    subsample=0.8,\n",
    "    subsample_freq=1,\n",
    "    bagging_seed=9,\n",
    "    colsample_bytree=0.8,\n",
    "    feature_fraction_seed=7,\n",
    "    min_gain_to_split=0.003,\n",
    "    n_jobs=2)\n",
    "\n",
    "final_extratree = ExtraTreesRegressor(\n",
    "    n_estimators=300,\n",
    "    max_depth=50,\n",
    "    min_samples_split=4,\n",
    "    min_samples_leaf=1,\n",
    "    min_weight_fraction_leaf=0.0002,\n",
    "    max_leaf_nodes=None,\n",
    "    max_features='auto',\n",
    "    bootstrap=True,\n",
    "    min_impurity_decrease=0.00,\n",
    "    random_state=32,\n",
    "    n_jobs=2)"
   ]
  },
  {
   "cell_type": "code",
   "execution_count": null,
   "metadata": {},
   "outputs": [],
   "source": [
    "final_lgb.fit(training_df.drop(columns='Market_Share'), training_df['Market_Share'])\n",
    "final_extratree.fit(training_df.drop(columns='Market_Share'), training_df['Market_Share']);"
   ]
  },
  {
   "cell_type": "code",
   "execution_count": null,
   "metadata": {
    "scrolled": false
   },
   "outputs": [],
   "source": [
    "feat_imp = pd.Series(final_extratree.feature_importances_, index=X_train.columns)\n",
    "feat_imp.nlargest(30).plot(kind='barh', figsize=(8,10))\n",
    "plt.title('ExtraTrees')\n",
    "plt.show()"
   ]
  },
  {
   "cell_type": "code",
   "execution_count": null,
   "metadata": {},
   "outputs": [],
   "source": [
    "feat_imp = pd.Series(final_lgb.feature_importances_, index=X_train.columns)\n",
    "feat_imp.nlargest(30).plot(kind='barh', figsize=(8,10))\n",
    "plt.title('GradientTreeBoosting')\n",
    "plt.show()"
   ]
  },
  {
   "cell_type": "code",
   "execution_count": null,
   "metadata": {},
   "outputs": [],
   "source": [
    "lgb_final_pred = final_lgb.predict(score_df)\n",
    "ext_final_pred = final_extratree.predict(score_df)"
   ]
  },
  {
   "cell_type": "code",
   "execution_count": null,
   "metadata": {},
   "outputs": [],
   "source": [
    "average_final_pred = (lgb_final_pred + ext_final_pred) / 2\n",
    "average_final_pred = inv_boxcox(average_final_pred, 0.25)"
   ]
  },
  {
   "cell_type": "code",
   "execution_count": null,
   "metadata": {},
   "outputs": [],
   "source": [
    "initial_score_df = pd.read_csv('score_data.csv')"
   ]
  },
  {
   "cell_type": "code",
   "execution_count": null,
   "metadata": {},
   "outputs": [],
   "source": [
    "initial_score_df['Market_Share'] = average_final_pred\n",
    "initial_score_df['Success']  = initial_score_df['Market_Share'] > 0.007"
   ]
  },
  {
   "cell_type": "code",
   "execution_count": null,
   "metadata": {},
   "outputs": [],
   "source": [
    "initial_score_df.to_csv('score_data_predicted.csv')"
   ]
  },
  {
   "cell_type": "code",
   "execution_count": null,
   "metadata": {},
   "outputs": [],
   "source": []
  }
 ],
 "metadata": {
  "kernelspec": {
   "display_name": "Python 3",
   "language": "python",
   "name": "python3"
  },
  "language_info": {
   "codemirror_mode": {
    "name": "ipython",
    "version": 3
   },
   "file_extension": ".py",
   "mimetype": "text/x-python",
   "name": "python",
   "nbconvert_exporter": "python",
   "pygments_lexer": "ipython3",
   "version": "3.6.7"
  },
  "toc": {
   "base_numbering": 1,
   "nav_menu": {},
   "number_sections": true,
   "sideBar": true,
   "skip_h1_title": false,
   "title_cell": "Table of Contents",
   "title_sidebar": "Contents",
   "toc_cell": false,
   "toc_position": {},
   "toc_section_display": true,
   "toc_window_display": false
  },
  "varInspector": {
   "cols": {
    "lenName": 16,
    "lenType": 16,
    "lenVar": 40
   },
   "kernels_config": {
    "python": {
     "delete_cmd_postfix": "",
     "delete_cmd_prefix": "del ",
     "library": "var_list.py",
     "varRefreshCmd": "print(var_dic_list())"
    },
    "r": {
     "delete_cmd_postfix": ") ",
     "delete_cmd_prefix": "rm(",
     "library": "var_list.r",
     "varRefreshCmd": "cat(var_dic_list()) "
    }
   },
   "types_to_exclude": [
    "module",
    "function",
    "builtin_function_or_method",
    "instance",
    "_Feature"
   ],
   "window_display": false
  }
 },
 "nbformat": 4,
 "nbformat_minor": 2
}
