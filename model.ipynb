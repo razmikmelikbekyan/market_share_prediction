{
 "cells": [
  {
   "cell_type": "markdown",
   "metadata": {},
   "source": [
    "###### Predicting Product Market Share after 1 year of its launch"
   ]
  },
  {
   "cell_type": "markdown",
   "metadata": {},
   "source": [
    "\n",
    "\n",
    "## Exploratory data analysis"
   ]
  },
  {
   "cell_type": "code",
   "execution_count": 100,
   "metadata": {
    "ExecuteTime": {
     "end_time": "2018-12-19T19:50:21.244695Z",
     "start_time": "2018-12-19T19:50:21.220665Z"
    }
   },
   "outputs": [],
   "source": [
    "import warnings\n",
    "import pandas as pd\n",
    "import numpy as np\n",
    "import seaborn as sns\n",
    "import matplotlib.pyplot as plt\n",
    "from scipy import stats\n",
    "\n",
    "from pprint import pprint\n",
    "from itertools import combinations\n",
    "\n",
    "\n",
    "color = sns.color_palette()\n",
    "# Supress unnecessary warnings for readability and cleaner presentation\n",
    "warnings.filterwarnings('ignore')\n",
    "\n",
    "%matplotlib inline\n",
    "\n",
    "plt.style.use('bmh')"
   ]
  },
  {
   "cell_type": "markdown",
   "metadata": {},
   "source": [
    "### Data reading\n",
    "\n",
    "In this section we will read both train and score data."
   ]
  },
  {
   "cell_type": "code",
   "execution_count": 101,
   "metadata": {},
   "outputs": [
    {
     "name": "stdout",
     "output_type": "stream",
     "text": [
      "CaseStudy2.docx  model.ipynb     score_data.xlsx    use_case_data.xlsx\r\n",
      "CaseStudy2.pdf   score_data.csv  use_case_data.csv\r\n"
     ]
    }
   ],
   "source": [
    "ls  # files in folder"
   ]
  },
  {
   "cell_type": "code",
   "execution_count": 102,
   "metadata": {
    "ExecuteTime": {
     "end_time": "2018-12-19T19:33:30.271568Z",
     "start_time": "2018-12-19T19:33:30.013020Z"
    }
   },
   "outputs": [],
   "source": [
    "# reading data\n",
    "df_train = pd.read_csv('use_case_data.csv')\n",
    "df_score = pd.read_csv('score_data.csv')"
   ]
  },
  {
   "cell_type": "code",
   "execution_count": 103,
   "metadata": {},
   "outputs": [
    {
     "data": {
      "text/html": [
       "<div>\n",
       "<style scoped>\n",
       "    .dataframe tbody tr th:only-of-type {\n",
       "        vertical-align: middle;\n",
       "    }\n",
       "\n",
       "    .dataframe tbody tr th {\n",
       "        vertical-align: top;\n",
       "    }\n",
       "\n",
       "    .dataframe thead th {\n",
       "        text-align: right;\n",
       "    }\n",
       "</style>\n",
       "<table border=\"1\" class=\"dataframe\">\n",
       "  <thead>\n",
       "    <tr style=\"text-align: right;\">\n",
       "      <th></th>\n",
       "      <th>REGION</th>\n",
       "      <th>MARKET</th>\n",
       "      <th>BRM</th>\n",
       "      <th>BLDIMAGE</th>\n",
       "      <th>BRANDDIFFERENTIATOR</th>\n",
       "      <th>BRANDFAMILY</th>\n",
       "      <th>BRANDONMARKET</th>\n",
       "      <th>BRANDSUBFAMILY</th>\n",
       "      <th>BRANDSUBFAMILYGROUP</th>\n",
       "      <th>BRANDSUBFAMILYGROUPING</th>\n",
       "      <th>...</th>\n",
       "      <th>PCKT</th>\n",
       "      <th>PRICECLASSON</th>\n",
       "      <th>TCLASS</th>\n",
       "      <th>RETAILPACKPRICE</th>\n",
       "      <th>SPECIALFLAVOR</th>\n",
       "      <th>TRCONTE</th>\n",
       "      <th>THICATEGORY</th>\n",
       "      <th>TIPCOLOR</th>\n",
       "      <th>TRACKINGSTATUS</th>\n",
       "      <th>Market_Share</th>\n",
       "    </tr>\n",
       "  </thead>\n",
       "  <tbody>\n",
       "    <tr>\n",
       "      <th>0</th>\n",
       "      <td>REGION1</td>\n",
       "      <td>MARKET7</td>\n",
       "      <td>BRM36</td>\n",
       "      <td>BLDIMAGE9</td>\n",
       "      <td>BRANDDIFFERENTIATOR98</td>\n",
       "      <td>BRANDFAMILY12</td>\n",
       "      <td>BRANDONMARKET36</td>\n",
       "      <td>BRANDSUBFAMILY12</td>\n",
       "      <td>BRANDSUBFAMILYGROUP12</td>\n",
       "      <td>BRANDSUBFAMILYGROUPING12</td>\n",
       "      <td>...</td>\n",
       "      <td>PCKT11</td>\n",
       "      <td>PRICECLASSON2</td>\n",
       "      <td>TCLASS2</td>\n",
       "      <td>15.00</td>\n",
       "      <td>SPECIALFLAVOR7</td>\n",
       "      <td>10.0</td>\n",
       "      <td>THICATEGORY4</td>\n",
       "      <td>TIPCOLOR1</td>\n",
       "      <td>TRACKINGSTATUS2</td>\n",
       "      <td>0.001440</td>\n",
       "    </tr>\n",
       "    <tr>\n",
       "      <th>1</th>\n",
       "      <td>REGION1</td>\n",
       "      <td>MARKET7</td>\n",
       "      <td>BRM37</td>\n",
       "      <td>BLDIMAGE9</td>\n",
       "      <td>BRANDDIFFERENTIATOR98</td>\n",
       "      <td>BRANDFAMILY12</td>\n",
       "      <td>BRANDONMARKET37</td>\n",
       "      <td>BRANDSUBFAMILY12</td>\n",
       "      <td>BRANDSUBFAMILYGROUP12</td>\n",
       "      <td>BRANDSUBFAMILYGROUPING12</td>\n",
       "      <td>...</td>\n",
       "      <td>PCKT11</td>\n",
       "      <td>PRICECLASSON2</td>\n",
       "      <td>TCLASS2</td>\n",
       "      <td>19.55</td>\n",
       "      <td>SPECIALFLAVOR7</td>\n",
       "      <td>10.0</td>\n",
       "      <td>THICATEGORY4</td>\n",
       "      <td>TIPCOLOR1</td>\n",
       "      <td>TRACKINGSTATUS2</td>\n",
       "      <td>0.002881</td>\n",
       "    </tr>\n",
       "    <tr>\n",
       "      <th>2</th>\n",
       "      <td>REGION1</td>\n",
       "      <td>MARKET7</td>\n",
       "      <td>BRM38</td>\n",
       "      <td>BLDIMAGE9</td>\n",
       "      <td>BRANDDIFFERENTIATOR98</td>\n",
       "      <td>BRANDFAMILY12</td>\n",
       "      <td>BRANDONMARKET38</td>\n",
       "      <td>BRANDSUBFAMILY12</td>\n",
       "      <td>BRANDSUBFAMILYGROUP12</td>\n",
       "      <td>BRANDSUBFAMILYGROUPING12</td>\n",
       "      <td>...</td>\n",
       "      <td>PCKT11</td>\n",
       "      <td>PRICECLASSON2</td>\n",
       "      <td>TCLASS2</td>\n",
       "      <td>27.00</td>\n",
       "      <td>SPECIALFLAVOR7</td>\n",
       "      <td>10.0</td>\n",
       "      <td>THICATEGORY4</td>\n",
       "      <td>TIPCOLOR1</td>\n",
       "      <td>TRACKINGSTATUS2</td>\n",
       "      <td>0.028870</td>\n",
       "    </tr>\n",
       "    <tr>\n",
       "      <th>3</th>\n",
       "      <td>REGION1</td>\n",
       "      <td>MARKET7</td>\n",
       "      <td>BRM58</td>\n",
       "      <td>BLDIMAGE9</td>\n",
       "      <td>BRANDDIFFERENTIATOR267</td>\n",
       "      <td>BRANDFAMILY12</td>\n",
       "      <td>BRANDONMARKET58</td>\n",
       "      <td>BRANDSUBFAMILY12</td>\n",
       "      <td>BRANDSUBFAMILYGROUP12</td>\n",
       "      <td>BRANDSUBFAMILYGROUPING12</td>\n",
       "      <td>...</td>\n",
       "      <td>PCKT11</td>\n",
       "      <td>PRICECLASSON2</td>\n",
       "      <td>TCLASS2</td>\n",
       "      <td>29.25</td>\n",
       "      <td>SPECIALFLAVOR7</td>\n",
       "      <td>8.0</td>\n",
       "      <td>THICATEGORY4</td>\n",
       "      <td>TIPCOLOR1</td>\n",
       "      <td>TRACKINGSTATUS2</td>\n",
       "      <td>0.018922</td>\n",
       "    </tr>\n",
       "    <tr>\n",
       "      <th>4</th>\n",
       "      <td>REGION1</td>\n",
       "      <td>MARKET7</td>\n",
       "      <td>BRM73</td>\n",
       "      <td>BLDIMAGE9</td>\n",
       "      <td>BRANDDIFFERENTIATOR467</td>\n",
       "      <td>BRANDFAMILY12</td>\n",
       "      <td>BRANDONMARKET73</td>\n",
       "      <td>BRANDSUBFAMILY12</td>\n",
       "      <td>BRANDSUBFAMILYGROUP12</td>\n",
       "      <td>BRANDSUBFAMILYGROUPING12</td>\n",
       "      <td>...</td>\n",
       "      <td>PCKT11</td>\n",
       "      <td>PRICECLASSON2</td>\n",
       "      <td>TCLASS2</td>\n",
       "      <td>15.00</td>\n",
       "      <td>SPECIALFLAVOR7</td>\n",
       "      <td>11.0</td>\n",
       "      <td>THICATEGORY4</td>\n",
       "      <td>TIPCOLOR1</td>\n",
       "      <td>TRACKINGSTATUS2</td>\n",
       "      <td>0.000928</td>\n",
       "    </tr>\n",
       "  </tbody>\n",
       "</table>\n",
       "<p>5 rows × 40 columns</p>\n",
       "</div>"
      ],
      "text/plain": [
       "    REGION   MARKET    BRM   BLDIMAGE     BRANDDIFFERENTIATOR    BRANDFAMILY  \\\n",
       "0  REGION1  MARKET7  BRM36  BLDIMAGE9   BRANDDIFFERENTIATOR98  BRANDFAMILY12   \n",
       "1  REGION1  MARKET7  BRM37  BLDIMAGE9   BRANDDIFFERENTIATOR98  BRANDFAMILY12   \n",
       "2  REGION1  MARKET7  BRM38  BLDIMAGE9   BRANDDIFFERENTIATOR98  BRANDFAMILY12   \n",
       "3  REGION1  MARKET7  BRM58  BLDIMAGE9  BRANDDIFFERENTIATOR267  BRANDFAMILY12   \n",
       "4  REGION1  MARKET7  BRM73  BLDIMAGE9  BRANDDIFFERENTIATOR467  BRANDFAMILY12   \n",
       "\n",
       "     BRANDONMARKET    BRANDSUBFAMILY    BRANDSUBFAMILYGROUP  \\\n",
       "0  BRANDONMARKET36  BRANDSUBFAMILY12  BRANDSUBFAMILYGROUP12   \n",
       "1  BRANDONMARKET37  BRANDSUBFAMILY12  BRANDSUBFAMILYGROUP12   \n",
       "2  BRANDONMARKET38  BRANDSUBFAMILY12  BRANDSUBFAMILYGROUP12   \n",
       "3  BRANDONMARKET58  BRANDSUBFAMILY12  BRANDSUBFAMILYGROUP12   \n",
       "4  BRANDONMARKET73  BRANDSUBFAMILY12  BRANDSUBFAMILYGROUP12   \n",
       "\n",
       "     BRANDSUBFAMILYGROUPING      ...         PCKT   PRICECLASSON   TCLASS  \\\n",
       "0  BRANDSUBFAMILYGROUPING12      ...       PCKT11  PRICECLASSON2  TCLASS2   \n",
       "1  BRANDSUBFAMILYGROUPING12      ...       PCKT11  PRICECLASSON2  TCLASS2   \n",
       "2  BRANDSUBFAMILYGROUPING12      ...       PCKT11  PRICECLASSON2  TCLASS2   \n",
       "3  BRANDSUBFAMILYGROUPING12      ...       PCKT11  PRICECLASSON2  TCLASS2   \n",
       "4  BRANDSUBFAMILYGROUPING12      ...       PCKT11  PRICECLASSON2  TCLASS2   \n",
       "\n",
       "  RETAILPACKPRICE   SPECIALFLAVOR TRCONTE   THICATEGORY   TIPCOLOR  \\\n",
       "0           15.00  SPECIALFLAVOR7    10.0  THICATEGORY4  TIPCOLOR1   \n",
       "1           19.55  SPECIALFLAVOR7    10.0  THICATEGORY4  TIPCOLOR1   \n",
       "2           27.00  SPECIALFLAVOR7    10.0  THICATEGORY4  TIPCOLOR1   \n",
       "3           29.25  SPECIALFLAVOR7     8.0  THICATEGORY4  TIPCOLOR1   \n",
       "4           15.00  SPECIALFLAVOR7    11.0  THICATEGORY4  TIPCOLOR1   \n",
       "\n",
       "    TRACKINGSTATUS  Market_Share  \n",
       "0  TRACKINGSTATUS2      0.001440  \n",
       "1  TRACKINGSTATUS2      0.002881  \n",
       "2  TRACKINGSTATUS2      0.028870  \n",
       "3  TRACKINGSTATUS2      0.018922  \n",
       "4  TRACKINGSTATUS2      0.000928  \n",
       "\n",
       "[5 rows x 40 columns]"
      ]
     },
     "execution_count": 103,
     "metadata": {},
     "output_type": "execute_result"
    }
   ],
   "source": [
    "df_train.head()"
   ]
  },
  {
   "cell_type": "code",
   "execution_count": 104,
   "metadata": {
    "scrolled": false
   },
   "outputs": [
    {
     "data": {
      "text/html": [
       "<div>\n",
       "<style scoped>\n",
       "    .dataframe tbody tr th:only-of-type {\n",
       "        vertical-align: middle;\n",
       "    }\n",
       "\n",
       "    .dataframe tbody tr th {\n",
       "        vertical-align: top;\n",
       "    }\n",
       "\n",
       "    .dataframe thead th {\n",
       "        text-align: right;\n",
       "    }\n",
       "</style>\n",
       "<table border=\"1\" class=\"dataframe\">\n",
       "  <thead>\n",
       "    <tr style=\"text-align: right;\">\n",
       "      <th></th>\n",
       "      <th>REGION</th>\n",
       "      <th>MARKET</th>\n",
       "      <th>BRM</th>\n",
       "      <th>BLDIMAGE</th>\n",
       "      <th>BRANDDIFFERENTIATOR</th>\n",
       "      <th>BRANDFAMILY</th>\n",
       "      <th>BRANDONMARKET</th>\n",
       "      <th>BRANDSUBFAMILY</th>\n",
       "      <th>BRANDSUBFAMILYGROUP</th>\n",
       "      <th>BRANDSUBFAMILYGROUPING</th>\n",
       "      <th>...</th>\n",
       "      <th>NPLLAUNCHYEAR</th>\n",
       "      <th>PCKT</th>\n",
       "      <th>PRICECLASSON</th>\n",
       "      <th>TCLASS</th>\n",
       "      <th>RETAILPACKPRICE</th>\n",
       "      <th>SPECIALFLAVOR</th>\n",
       "      <th>TRCONTE</th>\n",
       "      <th>THICATEGORY</th>\n",
       "      <th>TIPCOLOR</th>\n",
       "      <th>TRACKINGSTATUS</th>\n",
       "    </tr>\n",
       "  </thead>\n",
       "  <tbody>\n",
       "    <tr>\n",
       "      <th>0</th>\n",
       "      <td>REGION1</td>\n",
       "      <td>MARKET7</td>\n",
       "      <td>BRM36</td>\n",
       "      <td>BLDIMAGE9</td>\n",
       "      <td>BRANDDIFFERENTIATOR98</td>\n",
       "      <td>BRANDFAMILY12</td>\n",
       "      <td>BRANDONMARKET36</td>\n",
       "      <td>BRANDSUBFAMILY12</td>\n",
       "      <td>BRANDSUBFAMILYGROUP12</td>\n",
       "      <td>BRANDSUBFAMILYGROUPING12</td>\n",
       "      <td>...</td>\n",
       "      <td>NPLLAUNCHYEAR4</td>\n",
       "      <td>PCKT11</td>\n",
       "      <td>PRICECLASSON2</td>\n",
       "      <td>TCLASS2</td>\n",
       "      <td>15.00</td>\n",
       "      <td>SPECIALFLAVOR7</td>\n",
       "      <td>10</td>\n",
       "      <td>THICATEGORY4</td>\n",
       "      <td>TIPCOLOR1</td>\n",
       "      <td>TRACKINGSTATUS2</td>\n",
       "    </tr>\n",
       "    <tr>\n",
       "      <th>1</th>\n",
       "      <td>REGION1</td>\n",
       "      <td>MARKET7</td>\n",
       "      <td>BRM37</td>\n",
       "      <td>BLDIMAGE9</td>\n",
       "      <td>BRANDDIFFERENTIATOR98</td>\n",
       "      <td>BRANDFAMILY12</td>\n",
       "      <td>BRANDONMARKET37</td>\n",
       "      <td>BRANDSUBFAMILY12</td>\n",
       "      <td>BRANDSUBFAMILYGROUP12</td>\n",
       "      <td>BRANDSUBFAMILYGROUPING12</td>\n",
       "      <td>...</td>\n",
       "      <td>NPLLAUNCHYEAR4</td>\n",
       "      <td>PCKT11</td>\n",
       "      <td>PRICECLASSON2</td>\n",
       "      <td>TCLASS2</td>\n",
       "      <td>19.55</td>\n",
       "      <td>SPECIALFLAVOR7</td>\n",
       "      <td>10</td>\n",
       "      <td>THICATEGORY4</td>\n",
       "      <td>TIPCOLOR1</td>\n",
       "      <td>TRACKINGSTATUS2</td>\n",
       "    </tr>\n",
       "    <tr>\n",
       "      <th>2</th>\n",
       "      <td>REGION1</td>\n",
       "      <td>MARKET7</td>\n",
       "      <td>BRM38</td>\n",
       "      <td>BLDIMAGE9</td>\n",
       "      <td>BRANDDIFFERENTIATOR98</td>\n",
       "      <td>BRANDFAMILY12</td>\n",
       "      <td>BRANDONMARKET38</td>\n",
       "      <td>BRANDSUBFAMILY12</td>\n",
       "      <td>BRANDSUBFAMILYGROUP12</td>\n",
       "      <td>BRANDSUBFAMILYGROUPING12</td>\n",
       "      <td>...</td>\n",
       "      <td>NPLLAUNCHYEAR7</td>\n",
       "      <td>PCKT11</td>\n",
       "      <td>PRICECLASSON2</td>\n",
       "      <td>TCLASS2</td>\n",
       "      <td>27.00</td>\n",
       "      <td>SPECIALFLAVOR7</td>\n",
       "      <td>10</td>\n",
       "      <td>THICATEGORY4</td>\n",
       "      <td>TIPCOLOR1</td>\n",
       "      <td>TRACKINGSTATUS2</td>\n",
       "    </tr>\n",
       "    <tr>\n",
       "      <th>3</th>\n",
       "      <td>REGION1</td>\n",
       "      <td>MARKET7</td>\n",
       "      <td>BRM58</td>\n",
       "      <td>BLDIMAGE9</td>\n",
       "      <td>BRANDDIFFERENTIATOR267</td>\n",
       "      <td>BRANDFAMILY12</td>\n",
       "      <td>BRANDONMARKET58</td>\n",
       "      <td>BRANDSUBFAMILY12</td>\n",
       "      <td>BRANDSUBFAMILYGROUP12</td>\n",
       "      <td>BRANDSUBFAMILYGROUPING12</td>\n",
       "      <td>...</td>\n",
       "      <td>NPLLAUNCHYEAR7</td>\n",
       "      <td>PCKT11</td>\n",
       "      <td>PRICECLASSON2</td>\n",
       "      <td>TCLASS2</td>\n",
       "      <td>29.25</td>\n",
       "      <td>SPECIALFLAVOR7</td>\n",
       "      <td>8</td>\n",
       "      <td>THICATEGORY4</td>\n",
       "      <td>TIPCOLOR1</td>\n",
       "      <td>TRACKINGSTATUS2</td>\n",
       "    </tr>\n",
       "    <tr>\n",
       "      <th>4</th>\n",
       "      <td>REGION1</td>\n",
       "      <td>MARKET7</td>\n",
       "      <td>BRM73</td>\n",
       "      <td>BLDIMAGE9</td>\n",
       "      <td>BRANDDIFFERENTIATOR467</td>\n",
       "      <td>BRANDFAMILY12</td>\n",
       "      <td>BRANDONMARKET73</td>\n",
       "      <td>BRANDSUBFAMILY12</td>\n",
       "      <td>BRANDSUBFAMILYGROUP12</td>\n",
       "      <td>BRANDSUBFAMILYGROUPING12</td>\n",
       "      <td>...</td>\n",
       "      <td>NPLLAUNCHYEAR4</td>\n",
       "      <td>PCKT11</td>\n",
       "      <td>PRICECLASSON2</td>\n",
       "      <td>TCLASS2</td>\n",
       "      <td>15.00</td>\n",
       "      <td>SPECIALFLAVOR7</td>\n",
       "      <td>11</td>\n",
       "      <td>THICATEGORY4</td>\n",
       "      <td>TIPCOLOR1</td>\n",
       "      <td>TRACKINGSTATUS2</td>\n",
       "    </tr>\n",
       "  </tbody>\n",
       "</table>\n",
       "<p>5 rows × 39 columns</p>\n",
       "</div>"
      ],
      "text/plain": [
       "    REGION   MARKET    BRM   BLDIMAGE     BRANDDIFFERENTIATOR    BRANDFAMILY  \\\n",
       "0  REGION1  MARKET7  BRM36  BLDIMAGE9   BRANDDIFFERENTIATOR98  BRANDFAMILY12   \n",
       "1  REGION1  MARKET7  BRM37  BLDIMAGE9   BRANDDIFFERENTIATOR98  BRANDFAMILY12   \n",
       "2  REGION1  MARKET7  BRM38  BLDIMAGE9   BRANDDIFFERENTIATOR98  BRANDFAMILY12   \n",
       "3  REGION1  MARKET7  BRM58  BLDIMAGE9  BRANDDIFFERENTIATOR267  BRANDFAMILY12   \n",
       "4  REGION1  MARKET7  BRM73  BLDIMAGE9  BRANDDIFFERENTIATOR467  BRANDFAMILY12   \n",
       "\n",
       "     BRANDONMARKET    BRANDSUBFAMILY    BRANDSUBFAMILYGROUP  \\\n",
       "0  BRANDONMARKET36  BRANDSUBFAMILY12  BRANDSUBFAMILYGROUP12   \n",
       "1  BRANDONMARKET37  BRANDSUBFAMILY12  BRANDSUBFAMILYGROUP12   \n",
       "2  BRANDONMARKET38  BRANDSUBFAMILY12  BRANDSUBFAMILYGROUP12   \n",
       "3  BRANDONMARKET58  BRANDSUBFAMILY12  BRANDSUBFAMILYGROUP12   \n",
       "4  BRANDONMARKET73  BRANDSUBFAMILY12  BRANDSUBFAMILYGROUP12   \n",
       "\n",
       "     BRANDSUBFAMILYGROUPING       ...          NPLLAUNCHYEAR    PCKT  \\\n",
       "0  BRANDSUBFAMILYGROUPING12       ...         NPLLAUNCHYEAR4  PCKT11   \n",
       "1  BRANDSUBFAMILYGROUPING12       ...         NPLLAUNCHYEAR4  PCKT11   \n",
       "2  BRANDSUBFAMILYGROUPING12       ...         NPLLAUNCHYEAR7  PCKT11   \n",
       "3  BRANDSUBFAMILYGROUPING12       ...         NPLLAUNCHYEAR7  PCKT11   \n",
       "4  BRANDSUBFAMILYGROUPING12       ...         NPLLAUNCHYEAR4  PCKT11   \n",
       "\n",
       "    PRICECLASSON   TCLASS RETAILPACKPRICE   SPECIALFLAVOR TRCONTE  \\\n",
       "0  PRICECLASSON2  TCLASS2           15.00  SPECIALFLAVOR7      10   \n",
       "1  PRICECLASSON2  TCLASS2           19.55  SPECIALFLAVOR7      10   \n",
       "2  PRICECLASSON2  TCLASS2           27.00  SPECIALFLAVOR7      10   \n",
       "3  PRICECLASSON2  TCLASS2           29.25  SPECIALFLAVOR7       8   \n",
       "4  PRICECLASSON2  TCLASS2           15.00  SPECIALFLAVOR7      11   \n",
       "\n",
       "    THICATEGORY   TIPCOLOR   TRACKINGSTATUS  \n",
       "0  THICATEGORY4  TIPCOLOR1  TRACKINGSTATUS2  \n",
       "1  THICATEGORY4  TIPCOLOR1  TRACKINGSTATUS2  \n",
       "2  THICATEGORY4  TIPCOLOR1  TRACKINGSTATUS2  \n",
       "3  THICATEGORY4  TIPCOLOR1  TRACKINGSTATUS2  \n",
       "4  THICATEGORY4  TIPCOLOR1  TRACKINGSTATUS2  \n",
       "\n",
       "[5 rows x 39 columns]"
      ]
     },
     "execution_count": 104,
     "metadata": {},
     "output_type": "execute_result"
    }
   ],
   "source": [
    "df_score.head()"
   ]
  },
  {
   "cell_type": "code",
   "execution_count": 105,
   "metadata": {},
   "outputs": [
    {
     "name": "stdout",
     "output_type": "stream",
     "text": [
      "Columns {'Market_Share'} are in \"df_train\" and not in \"df_score\".\n",
      "Columns set() are in \"df_score\" and not in \"df_train\".\n"
     ]
    }
   ],
   "source": [
    "# comparing columns\n",
    "print('Columns {} are in \"df_train\" and not in \"df_score\".'.format(set(df_train.columns) - set(df_score.columns)))\n",
    "print('Columns {} are in \"df_score\" and not in \"df_train\".'.format(set(df_score.columns) - set(df_train.columns)))"
   ]
  },
  {
   "cell_type": "markdown",
   "metadata": {},
   "source": [
    "So as we excpected train and score data contain the same columns excpet response variable - Market_Share."
   ]
  },
  {
   "cell_type": "markdown",
   "metadata": {},
   "source": [
    "### Predictors (features) types\n",
    "\n",
    "In this section we will explore features types (Numeric and Categoric). We will not use some features, which do not contain any info, which can be useful during prediction (for example some features, which  are the same for the whole data, some IDs and etc.)."
   ]
  },
  {
   "cell_type": "code",
   "execution_count": 106,
   "metadata": {},
   "outputs": [
    {
     "name": "stdout",
     "output_type": "stream",
     "text": [
      "<class 'pandas.core.frame.DataFrame'>\n",
      "RangeIndex: 1716 entries, 0 to 1715\n",
      "Data columns (total 40 columns):\n",
      "REGION                    1716 non-null object\n",
      "MARKET                    1716 non-null object\n",
      "BRM                       1716 non-null object\n",
      "BLDIMAGE                  1716 non-null object\n",
      "BRANDDIFFERENTIATOR       1716 non-null object\n",
      "BRANDFAMILY               1716 non-null object\n",
      "BRANDONMARKET             1716 non-null object\n",
      "BRANDSUBFAMILY            1716 non-null object\n",
      "BRANDSUBFAMILYGROUP       1716 non-null object\n",
      "BRANDSUBFAMILYGROUPING    1716 non-null object\n",
      "BRANDSUBFAMILYLINE        1716 non-null object\n",
      "CHARINDICATOR             1716 non-null object\n",
      "BRMID                     1716 non-null int64\n",
      "INDICATOR                 1716 non-null object\n",
      "RTYPE                     473 non-null object\n",
      "INTERNATIONALINDICATOR    1716 non-null object\n",
      "ISREPLACEMENT             1716 non-null object\n",
      "ISSTRATEGIC               1716 non-null object\n",
      "ITEMSHAPE                 804 non-null object\n",
      "ITEMSCODE                 1716 non-null int64\n",
      "LATESTPERIODINDEX         1716 non-null int64\n",
      "LEN                       1716 non-null float64\n",
      "LENCATEGORY               1716 non-null object\n",
      "PRICECLASS                1716 non-null object\n",
      "LOCALCLASS                1716 non-null object\n",
      "MARKETEDBRAND             1716 non-null object\n",
      "MINDICATOR                1716 non-null object\n",
      "NCON                      1716 non-null float64\n",
      "NPLLAUNCHDATE             1716 non-null int64\n",
      "NPLLAUNCHYEAR             1716 non-null object\n",
      "PCKT                      1716 non-null object\n",
      "PRICECLASSON              1716 non-null object\n",
      "TCLASS                    1716 non-null object\n",
      "RETAILPACKPRICE           1716 non-null float64\n",
      "SPECIALFLAVOR             674 non-null object\n",
      "TRCONTE                   1716 non-null float64\n",
      "THICATEGORY               1716 non-null object\n",
      "TIPCOLOR                  875 non-null object\n",
      "TRACKINGSTATUS            1716 non-null object\n",
      "Market_Share              1716 non-null float64\n",
      "dtypes: float64(5), int64(4), object(31)\n",
      "memory usage: 536.3+ KB\n"
     ]
    }
   ],
   "source": [
    "# checking types of our data\n",
    "df_train.info()"
   ]
  },
  {
   "cell_type": "code",
   "execution_count": 107,
   "metadata": {},
   "outputs": [
    {
     "data": {
      "text/plain": [
       "[dtype('int64'), dtype('O'), dtype('float64')]"
      ]
     },
     "execution_count": 107,
     "metadata": {},
     "output_type": "execute_result"
    }
   ],
   "source": [
    "list(set(df_train.dtypes.tolist()))"
   ]
  },
  {
   "cell_type": "code",
   "execution_count": 108,
   "metadata": {},
   "outputs": [
    {
     "data": {
      "text/plain": [
       "[dtype('int64'), dtype('O'), dtype('float64')]"
      ]
     },
     "execution_count": 108,
     "metadata": {},
     "output_type": "execute_result"
    }
   ],
   "source": [
    "list(set(df_score.dtypes.tolist()))"
   ]
  },
  {
   "cell_type": "markdown",
   "metadata": {},
   "source": [
    "We have 40 columns: 39 are our predictors (features) and 1 (Market_Share) is our response (target) variable.\n",
    "\n",
    "From types of features we see that we have both Numerical and Categorical features.\n",
    "\n",
    "So we will combine train and score data for properly handling Categorical features (for example one-hot-encoding)."
   ]
  },
  {
   "cell_type": "code",
   "execution_count": 109,
   "metadata": {},
   "outputs": [],
   "source": [
    "df_train['data_type'] = 'train'\n",
    "df_score['data_type'] = 'score'\n",
    "\n",
    "df = pd.concat([df_train.drop(columns=['Market_Share']), df_score])\n",
    "df.reset_index(inplace=True, drop=True)"
   ]
  },
  {
   "cell_type": "code",
   "execution_count": 110,
   "metadata": {},
   "outputs": [],
   "source": [
    "not_useful_columns = []"
   ]
  },
  {
   "cell_type": "markdown",
   "metadata": {},
   "source": [
    "#### Numerical features"
   ]
  },
  {
   "cell_type": "code",
   "execution_count": 111,
   "metadata": {},
   "outputs": [
    {
     "data": {
      "text/html": [
       "<div>\n",
       "<style scoped>\n",
       "    .dataframe tbody tr th:only-of-type {\n",
       "        vertical-align: middle;\n",
       "    }\n",
       "\n",
       "    .dataframe tbody tr th {\n",
       "        vertical-align: top;\n",
       "    }\n",
       "\n",
       "    .dataframe thead th {\n",
       "        text-align: right;\n",
       "    }\n",
       "</style>\n",
       "<table border=\"1\" class=\"dataframe\">\n",
       "  <thead>\n",
       "    <tr style=\"text-align: right;\">\n",
       "      <th></th>\n",
       "      <th>BRMID</th>\n",
       "      <th>ITEMSCODE</th>\n",
       "      <th>LATESTPERIODINDEX</th>\n",
       "      <th>LEN</th>\n",
       "      <th>NCON</th>\n",
       "      <th>NPLLAUNCHDATE</th>\n",
       "      <th>RETAILPACKPRICE</th>\n",
       "      <th>TRCONTE</th>\n",
       "    </tr>\n",
       "  </thead>\n",
       "  <tbody>\n",
       "    <tr>\n",
       "      <th>0</th>\n",
       "      <td>60038893</td>\n",
       "      <td>20</td>\n",
       "      <td>12</td>\n",
       "      <td>84.0</td>\n",
       "      <td>0.0</td>\n",
       "      <td>201110</td>\n",
       "      <td>15.00</td>\n",
       "      <td>10.0</td>\n",
       "    </tr>\n",
       "    <tr>\n",
       "      <th>1</th>\n",
       "      <td>60040489</td>\n",
       "      <td>26</td>\n",
       "      <td>12</td>\n",
       "      <td>84.0</td>\n",
       "      <td>0.0</td>\n",
       "      <td>201110</td>\n",
       "      <td>19.55</td>\n",
       "      <td>10.0</td>\n",
       "    </tr>\n",
       "    <tr>\n",
       "      <th>2</th>\n",
       "      <td>60078730</td>\n",
       "      <td>40</td>\n",
       "      <td>12</td>\n",
       "      <td>84.0</td>\n",
       "      <td>0.0</td>\n",
       "      <td>201409</td>\n",
       "      <td>27.00</td>\n",
       "      <td>10.0</td>\n",
       "    </tr>\n",
       "    <tr>\n",
       "      <th>3</th>\n",
       "      <td>60078732</td>\n",
       "      <td>40</td>\n",
       "      <td>12</td>\n",
       "      <td>84.0</td>\n",
       "      <td>0.0</td>\n",
       "      <td>201409</td>\n",
       "      <td>29.25</td>\n",
       "      <td>8.0</td>\n",
       "    </tr>\n",
       "    <tr>\n",
       "      <th>4</th>\n",
       "      <td>60038898</td>\n",
       "      <td>20</td>\n",
       "      <td>12</td>\n",
       "      <td>84.0</td>\n",
       "      <td>0.0</td>\n",
       "      <td>201110</td>\n",
       "      <td>15.00</td>\n",
       "      <td>11.0</td>\n",
       "    </tr>\n",
       "  </tbody>\n",
       "</table>\n",
       "</div>"
      ],
      "text/plain": [
       "      BRMID  ITEMSCODE  LATESTPERIODINDEX   LEN  NCON  NPLLAUNCHDATE  \\\n",
       "0  60038893         20                 12  84.0   0.0         201110   \n",
       "1  60040489         26                 12  84.0   0.0         201110   \n",
       "2  60078730         40                 12  84.0   0.0         201409   \n",
       "3  60078732         40                 12  84.0   0.0         201409   \n",
       "4  60038898         20                 12  84.0   0.0         201110   \n",
       "\n",
       "   RETAILPACKPRICE  TRCONTE  \n",
       "0            15.00     10.0  \n",
       "1            19.55     10.0  \n",
       "2            27.00     10.0  \n",
       "3            29.25      8.0  \n",
       "4            15.00     11.0  "
      ]
     },
     "execution_count": 111,
     "metadata": {},
     "output_type": "execute_result"
    }
   ],
   "source": [
    "df_num = df.select_dtypes(include = ['float64', 'int64'])\n",
    "df_num.head()"
   ]
  },
  {
   "cell_type": "code",
   "execution_count": 112,
   "metadata": {},
   "outputs": [
    {
     "data": {
      "text/html": [
       "<div>\n",
       "<style scoped>\n",
       "    .dataframe tbody tr th:only-of-type {\n",
       "        vertical-align: middle;\n",
       "    }\n",
       "\n",
       "    .dataframe tbody tr th {\n",
       "        vertical-align: top;\n",
       "    }\n",
       "\n",
       "    .dataframe thead th {\n",
       "        text-align: right;\n",
       "    }\n",
       "</style>\n",
       "<table border=\"1\" class=\"dataframe\">\n",
       "  <thead>\n",
       "    <tr style=\"text-align: right;\">\n",
       "      <th></th>\n",
       "      <th>BRMID</th>\n",
       "      <th>ITEMSCODE</th>\n",
       "      <th>LATESTPERIODINDEX</th>\n",
       "      <th>LEN</th>\n",
       "      <th>NCON</th>\n",
       "      <th>NPLLAUNCHDATE</th>\n",
       "      <th>RETAILPACKPRICE</th>\n",
       "      <th>TRCONTE</th>\n",
       "    </tr>\n",
       "  </thead>\n",
       "  <tbody>\n",
       "    <tr>\n",
       "      <th>count</th>\n",
       "      <td>1.745000e+03</td>\n",
       "      <td>1745.000000</td>\n",
       "      <td>1745.0</td>\n",
       "      <td>1745.000000</td>\n",
       "      <td>1745.000000</td>\n",
       "      <td>1745.000000</td>\n",
       "      <td>1745.000000</td>\n",
       "      <td>1745.000000</td>\n",
       "    </tr>\n",
       "    <tr>\n",
       "      <th>mean</th>\n",
       "      <td>5.633265e+07</td>\n",
       "      <td>19.618911</td>\n",
       "      <td>12.0</td>\n",
       "      <td>33.961404</td>\n",
       "      <td>0.334441</td>\n",
       "      <td>201196.867049</td>\n",
       "      <td>314.262625</td>\n",
       "      <td>5.406281</td>\n",
       "    </tr>\n",
       "    <tr>\n",
       "      <th>std</th>\n",
       "      <td>4.840959e+06</td>\n",
       "      <td>3.213858</td>\n",
       "      <td>0.0</td>\n",
       "      <td>43.020778</td>\n",
       "      <td>0.452951</td>\n",
       "      <td>226.543530</td>\n",
       "      <td>1416.905866</td>\n",
       "      <td>3.686591</td>\n",
       "    </tr>\n",
       "    <tr>\n",
       "      <th>min</th>\n",
       "      <td>5.000239e+07</td>\n",
       "      <td>5.000000</td>\n",
       "      <td>12.0</td>\n",
       "      <td>0.000000</td>\n",
       "      <td>0.000000</td>\n",
       "      <td>200801.000000</td>\n",
       "      <td>0.000000</td>\n",
       "      <td>0.000000</td>\n",
       "    </tr>\n",
       "    <tr>\n",
       "      <th>25%</th>\n",
       "      <td>5.007097e+07</td>\n",
       "      <td>20.000000</td>\n",
       "      <td>12.0</td>\n",
       "      <td>0.000000</td>\n",
       "      <td>0.000000</td>\n",
       "      <td>201006.000000</td>\n",
       "      <td>4.000000</td>\n",
       "      <td>3.000000</td>\n",
       "    </tr>\n",
       "    <tr>\n",
       "      <th>50%</th>\n",
       "      <td>6.005254e+07</td>\n",
       "      <td>20.000000</td>\n",
       "      <td>12.0</td>\n",
       "      <td>0.000000</td>\n",
       "      <td>0.300000</td>\n",
       "      <td>201206.000000</td>\n",
       "      <td>11.500000</td>\n",
       "      <td>6.000000</td>\n",
       "    </tr>\n",
       "    <tr>\n",
       "      <th>75%</th>\n",
       "      <td>6.007422e+07</td>\n",
       "      <td>20.000000</td>\n",
       "      <td>12.0</td>\n",
       "      <td>84.000000</td>\n",
       "      <td>0.600000</td>\n",
       "      <td>201404.000000</td>\n",
       "      <td>57.000000</td>\n",
       "      <td>8.000000</td>\n",
       "    </tr>\n",
       "    <tr>\n",
       "      <th>max</th>\n",
       "      <td>6.012768e+07</td>\n",
       "      <td>40.000000</td>\n",
       "      <td>12.0</td>\n",
       "      <td>100.000000</td>\n",
       "      <td>10.000000</td>\n",
       "      <td>201603.000000</td>\n",
       "      <td>22000.000000</td>\n",
       "      <td>35.000000</td>\n",
       "    </tr>\n",
       "  </tbody>\n",
       "</table>\n",
       "</div>"
      ],
      "text/plain": [
       "              BRMID    ITEMSCODE  LATESTPERIODINDEX          LEN         NCON  \\\n",
       "count  1.745000e+03  1745.000000             1745.0  1745.000000  1745.000000   \n",
       "mean   5.633265e+07    19.618911               12.0    33.961404     0.334441   \n",
       "std    4.840959e+06     3.213858                0.0    43.020778     0.452951   \n",
       "min    5.000239e+07     5.000000               12.0     0.000000     0.000000   \n",
       "25%    5.007097e+07    20.000000               12.0     0.000000     0.000000   \n",
       "50%    6.005254e+07    20.000000               12.0     0.000000     0.300000   \n",
       "75%    6.007422e+07    20.000000               12.0    84.000000     0.600000   \n",
       "max    6.012768e+07    40.000000               12.0   100.000000    10.000000   \n",
       "\n",
       "       NPLLAUNCHDATE  RETAILPACKPRICE      TRCONTE  \n",
       "count    1745.000000      1745.000000  1745.000000  \n",
       "mean   201196.867049       314.262625     5.406281  \n",
       "std       226.543530      1416.905866     3.686591  \n",
       "min    200801.000000         0.000000     0.000000  \n",
       "25%    201006.000000         4.000000     3.000000  \n",
       "50%    201206.000000        11.500000     6.000000  \n",
       "75%    201404.000000        57.000000     8.000000  \n",
       "max    201603.000000     22000.000000    35.000000  "
      ]
     },
     "execution_count": 112,
     "metadata": {},
     "output_type": "execute_result"
    }
   ],
   "source": [
    "df_num.describe()"
   ]
  },
  {
   "cell_type": "markdown",
   "metadata": {},
   "source": [
    "* Lets exploe feature **_BRMID_**."
   ]
  },
  {
   "cell_type": "code",
   "execution_count": 113,
   "metadata": {},
   "outputs": [
    {
     "data": {
      "text/plain": [
       "((1716,), 1.0)"
      ]
     },
     "execution_count": 113,
     "metadata": {},
     "output_type": "execute_result"
    }
   ],
   "source": [
    "df_train['BRMID'].unique().shape, df_train['BRMID'].unique().shape[0] / df_train.shape[0]"
   ]
  },
  {
   "cell_type": "code",
   "execution_count": 114,
   "metadata": {},
   "outputs": [
    {
     "data": {
      "text/plain": [
       "((29,), 1.0)"
      ]
     },
     "execution_count": 114,
     "metadata": {},
     "output_type": "execute_result"
    }
   ],
   "source": [
    "df_score['BRMID'].unique().shape, df_score['BRMID'].unique().shape[0] / df_score.shape[0]"
   ]
  },
  {
   "cell_type": "code",
   "execution_count": 115,
   "metadata": {},
   "outputs": [],
   "source": [
    "# As we can see this represents some ID, which is unique for each item. We will remove it.\n",
    "not_useful_columns.append('BRMID')"
   ]
  },
  {
   "cell_type": "markdown",
   "metadata": {},
   "source": [
    "* Lets exploe feature **_ITEMSCODE_**."
   ]
  },
  {
   "cell_type": "code",
   "execution_count": 116,
   "metadata": {},
   "outputs": [
    {
     "data": {
      "text/plain": [
       "((22,), 0.01282051282051282)"
      ]
     },
     "execution_count": 116,
     "metadata": {},
     "output_type": "execute_result"
    }
   ],
   "source": [
    "df_train['ITEMSCODE'].unique().shape, df_train['ITEMSCODE'].unique().shape[0] / df_train.shape[0]"
   ]
  },
  {
   "cell_type": "code",
   "execution_count": 117,
   "metadata": {},
   "outputs": [
    {
     "data": {
      "text/plain": [
       "((6,), 0.20689655172413793)"
      ]
     },
     "execution_count": 117,
     "metadata": {},
     "output_type": "execute_result"
    }
   ],
   "source": [
    "df_score['ITEMSCODE'].unique().shape, df_score['ITEMSCODE'].unique().shape[0] / df_score.shape[0]"
   ]
  },
  {
   "cell_type": "code",
   "execution_count": 118,
   "metadata": {},
   "outputs": [],
   "source": [
    "# As we can see this represents some ID, which is not unique for each item (several items have the same code).\n",
    "# So we will keep it, but will transform to categorical feature.\n",
    "df['ITEMSCODE'] = df['ITEMSCODE'].astype('category')"
   ]
  },
  {
   "cell_type": "markdown",
   "metadata": {},
   "source": [
    "* Lets exploe feature ***LATESTPERIODINDEX***."
   ]
  },
  {
   "cell_type": "code",
   "execution_count": 119,
   "metadata": {},
   "outputs": [
    {
     "data": {
      "text/plain": [
       "array([12])"
      ]
     },
     "execution_count": 119,
     "metadata": {},
     "output_type": "execute_result"
    }
   ],
   "source": [
    "df['LATESTPERIODINDEX'].unique()"
   ]
  },
  {
   "cell_type": "code",
   "execution_count": 120,
   "metadata": {},
   "outputs": [],
   "source": [
    "# As we can see this feature is unique for all items and just inforimg us that Market_Share numbers are after \n",
    "# 12 months of launch, so we will remove it.\n",
    "not_useful_columns.append('LATESTPERIODINDEX')"
   ]
  },
  {
   "cell_type": "markdown",
   "metadata": {},
   "source": [
    "* Lets exploe feature ***NPLLAUNCHDATE***."
   ]
  },
  {
   "cell_type": "code",
   "execution_count": 121,
   "metadata": {},
   "outputs": [],
   "source": [
    "# This fetaure represents the year and month of product launch. So this is feature is more categoric than numeric.\n",
    "# We will split it into year and month separately.\n",
    "df['LAUNCH_YEAR'], df['LAUNCH_MONTH'] = df['NPLLAUNCHDATE'].map(str).apply(lambda x: [x[:4], x[4:]]).str\n",
    "not_useful_columns.append('NPLLAUNCHDATE')"
   ]
  },
  {
   "cell_type": "markdown",
   "metadata": {},
   "source": [
    "* The other numerical features such as   ***LEN, NCON, RETAILPACKPRICE, TRCONTE*** are numerical and we will keep them as they are at this stage."
   ]
  },
  {
   "cell_type": "markdown",
   "metadata": {},
   "source": [
    "#### Categorical features"
   ]
  },
  {
   "cell_type": "code",
   "execution_count": 122,
   "metadata": {},
   "outputs": [
    {
     "data": {
      "text/plain": [
       "[CategoricalDtype(categories=[ 5, 10, 12, 14, 15, 16, 17, 18, 19, 20, 21, 22, 23, 24, 25,\n",
       "                   26, 27, 29, 30, 37, 38, 40],\n",
       "                  ordered=False), dtype('int64'), dtype('O'), dtype('float64')]"
      ]
     },
     "execution_count": 122,
     "metadata": {},
     "output_type": "execute_result"
    }
   ],
   "source": [
    "list(set(df.dtypes.tolist()))"
   ]
  },
  {
   "cell_type": "code",
   "execution_count": 123,
   "metadata": {},
   "outputs": [
    {
     "data": {
      "text/html": [
       "<div>\n",
       "<style scoped>\n",
       "    .dataframe tbody tr th:only-of-type {\n",
       "        vertical-align: middle;\n",
       "    }\n",
       "\n",
       "    .dataframe tbody tr th {\n",
       "        vertical-align: top;\n",
       "    }\n",
       "\n",
       "    .dataframe thead th {\n",
       "        text-align: right;\n",
       "    }\n",
       "</style>\n",
       "<table border=\"1\" class=\"dataframe\">\n",
       "  <thead>\n",
       "    <tr style=\"text-align: right;\">\n",
       "      <th></th>\n",
       "      <th>REGION</th>\n",
       "      <th>MARKET</th>\n",
       "      <th>BRM</th>\n",
       "      <th>BLDIMAGE</th>\n",
       "      <th>BRANDDIFFERENTIATOR</th>\n",
       "      <th>BRANDFAMILY</th>\n",
       "      <th>BRANDONMARKET</th>\n",
       "      <th>BRANDSUBFAMILY</th>\n",
       "      <th>BRANDSUBFAMILYGROUP</th>\n",
       "      <th>BRANDSUBFAMILYGROUPING</th>\n",
       "      <th>...</th>\n",
       "      <th>PCKT</th>\n",
       "      <th>PRICECLASSON</th>\n",
       "      <th>TCLASS</th>\n",
       "      <th>SPECIALFLAVOR</th>\n",
       "      <th>THICATEGORY</th>\n",
       "      <th>TIPCOLOR</th>\n",
       "      <th>TRACKINGSTATUS</th>\n",
       "      <th>data_type</th>\n",
       "      <th>LAUNCH_YEAR</th>\n",
       "      <th>LAUNCH_MONTH</th>\n",
       "    </tr>\n",
       "  </thead>\n",
       "  <tbody>\n",
       "    <tr>\n",
       "      <th>0</th>\n",
       "      <td>REGION1</td>\n",
       "      <td>MARKET7</td>\n",
       "      <td>BRM36</td>\n",
       "      <td>BLDIMAGE9</td>\n",
       "      <td>BRANDDIFFERENTIATOR98</td>\n",
       "      <td>BRANDFAMILY12</td>\n",
       "      <td>BRANDONMARKET36</td>\n",
       "      <td>BRANDSUBFAMILY12</td>\n",
       "      <td>BRANDSUBFAMILYGROUP12</td>\n",
       "      <td>BRANDSUBFAMILYGROUPING12</td>\n",
       "      <td>...</td>\n",
       "      <td>PCKT11</td>\n",
       "      <td>PRICECLASSON2</td>\n",
       "      <td>TCLASS2</td>\n",
       "      <td>SPECIALFLAVOR7</td>\n",
       "      <td>THICATEGORY4</td>\n",
       "      <td>TIPCOLOR1</td>\n",
       "      <td>TRACKINGSTATUS2</td>\n",
       "      <td>train</td>\n",
       "      <td>2011</td>\n",
       "      <td>10</td>\n",
       "    </tr>\n",
       "    <tr>\n",
       "      <th>1</th>\n",
       "      <td>REGION1</td>\n",
       "      <td>MARKET7</td>\n",
       "      <td>BRM37</td>\n",
       "      <td>BLDIMAGE9</td>\n",
       "      <td>BRANDDIFFERENTIATOR98</td>\n",
       "      <td>BRANDFAMILY12</td>\n",
       "      <td>BRANDONMARKET37</td>\n",
       "      <td>BRANDSUBFAMILY12</td>\n",
       "      <td>BRANDSUBFAMILYGROUP12</td>\n",
       "      <td>BRANDSUBFAMILYGROUPING12</td>\n",
       "      <td>...</td>\n",
       "      <td>PCKT11</td>\n",
       "      <td>PRICECLASSON2</td>\n",
       "      <td>TCLASS2</td>\n",
       "      <td>SPECIALFLAVOR7</td>\n",
       "      <td>THICATEGORY4</td>\n",
       "      <td>TIPCOLOR1</td>\n",
       "      <td>TRACKINGSTATUS2</td>\n",
       "      <td>train</td>\n",
       "      <td>2011</td>\n",
       "      <td>10</td>\n",
       "    </tr>\n",
       "    <tr>\n",
       "      <th>2</th>\n",
       "      <td>REGION1</td>\n",
       "      <td>MARKET7</td>\n",
       "      <td>BRM38</td>\n",
       "      <td>BLDIMAGE9</td>\n",
       "      <td>BRANDDIFFERENTIATOR98</td>\n",
       "      <td>BRANDFAMILY12</td>\n",
       "      <td>BRANDONMARKET38</td>\n",
       "      <td>BRANDSUBFAMILY12</td>\n",
       "      <td>BRANDSUBFAMILYGROUP12</td>\n",
       "      <td>BRANDSUBFAMILYGROUPING12</td>\n",
       "      <td>...</td>\n",
       "      <td>PCKT11</td>\n",
       "      <td>PRICECLASSON2</td>\n",
       "      <td>TCLASS2</td>\n",
       "      <td>SPECIALFLAVOR7</td>\n",
       "      <td>THICATEGORY4</td>\n",
       "      <td>TIPCOLOR1</td>\n",
       "      <td>TRACKINGSTATUS2</td>\n",
       "      <td>train</td>\n",
       "      <td>2014</td>\n",
       "      <td>09</td>\n",
       "    </tr>\n",
       "    <tr>\n",
       "      <th>3</th>\n",
       "      <td>REGION1</td>\n",
       "      <td>MARKET7</td>\n",
       "      <td>BRM58</td>\n",
       "      <td>BLDIMAGE9</td>\n",
       "      <td>BRANDDIFFERENTIATOR267</td>\n",
       "      <td>BRANDFAMILY12</td>\n",
       "      <td>BRANDONMARKET58</td>\n",
       "      <td>BRANDSUBFAMILY12</td>\n",
       "      <td>BRANDSUBFAMILYGROUP12</td>\n",
       "      <td>BRANDSUBFAMILYGROUPING12</td>\n",
       "      <td>...</td>\n",
       "      <td>PCKT11</td>\n",
       "      <td>PRICECLASSON2</td>\n",
       "      <td>TCLASS2</td>\n",
       "      <td>SPECIALFLAVOR7</td>\n",
       "      <td>THICATEGORY4</td>\n",
       "      <td>TIPCOLOR1</td>\n",
       "      <td>TRACKINGSTATUS2</td>\n",
       "      <td>train</td>\n",
       "      <td>2014</td>\n",
       "      <td>09</td>\n",
       "    </tr>\n",
       "    <tr>\n",
       "      <th>4</th>\n",
       "      <td>REGION1</td>\n",
       "      <td>MARKET7</td>\n",
       "      <td>BRM73</td>\n",
       "      <td>BLDIMAGE9</td>\n",
       "      <td>BRANDDIFFERENTIATOR467</td>\n",
       "      <td>BRANDFAMILY12</td>\n",
       "      <td>BRANDONMARKET73</td>\n",
       "      <td>BRANDSUBFAMILY12</td>\n",
       "      <td>BRANDSUBFAMILYGROUP12</td>\n",
       "      <td>BRANDSUBFAMILYGROUPING12</td>\n",
       "      <td>...</td>\n",
       "      <td>PCKT11</td>\n",
       "      <td>PRICECLASSON2</td>\n",
       "      <td>TCLASS2</td>\n",
       "      <td>SPECIALFLAVOR7</td>\n",
       "      <td>THICATEGORY4</td>\n",
       "      <td>TIPCOLOR1</td>\n",
       "      <td>TRACKINGSTATUS2</td>\n",
       "      <td>train</td>\n",
       "      <td>2011</td>\n",
       "      <td>10</td>\n",
       "    </tr>\n",
       "  </tbody>\n",
       "</table>\n",
       "<p>5 rows × 35 columns</p>\n",
       "</div>"
      ],
      "text/plain": [
       "    REGION   MARKET    BRM   BLDIMAGE     BRANDDIFFERENTIATOR    BRANDFAMILY  \\\n",
       "0  REGION1  MARKET7  BRM36  BLDIMAGE9   BRANDDIFFERENTIATOR98  BRANDFAMILY12   \n",
       "1  REGION1  MARKET7  BRM37  BLDIMAGE9   BRANDDIFFERENTIATOR98  BRANDFAMILY12   \n",
       "2  REGION1  MARKET7  BRM38  BLDIMAGE9   BRANDDIFFERENTIATOR98  BRANDFAMILY12   \n",
       "3  REGION1  MARKET7  BRM58  BLDIMAGE9  BRANDDIFFERENTIATOR267  BRANDFAMILY12   \n",
       "4  REGION1  MARKET7  BRM73  BLDIMAGE9  BRANDDIFFERENTIATOR467  BRANDFAMILY12   \n",
       "\n",
       "     BRANDONMARKET    BRANDSUBFAMILY    BRANDSUBFAMILYGROUP  \\\n",
       "0  BRANDONMARKET36  BRANDSUBFAMILY12  BRANDSUBFAMILYGROUP12   \n",
       "1  BRANDONMARKET37  BRANDSUBFAMILY12  BRANDSUBFAMILYGROUP12   \n",
       "2  BRANDONMARKET38  BRANDSUBFAMILY12  BRANDSUBFAMILYGROUP12   \n",
       "3  BRANDONMARKET58  BRANDSUBFAMILY12  BRANDSUBFAMILYGROUP12   \n",
       "4  BRANDONMARKET73  BRANDSUBFAMILY12  BRANDSUBFAMILYGROUP12   \n",
       "\n",
       "     BRANDSUBFAMILYGROUPING     ...         PCKT   PRICECLASSON   TCLASS  \\\n",
       "0  BRANDSUBFAMILYGROUPING12     ...       PCKT11  PRICECLASSON2  TCLASS2   \n",
       "1  BRANDSUBFAMILYGROUPING12     ...       PCKT11  PRICECLASSON2  TCLASS2   \n",
       "2  BRANDSUBFAMILYGROUPING12     ...       PCKT11  PRICECLASSON2  TCLASS2   \n",
       "3  BRANDSUBFAMILYGROUPING12     ...       PCKT11  PRICECLASSON2  TCLASS2   \n",
       "4  BRANDSUBFAMILYGROUPING12     ...       PCKT11  PRICECLASSON2  TCLASS2   \n",
       "\n",
       "    SPECIALFLAVOR   THICATEGORY   TIPCOLOR   TRACKINGSTATUS data_type  \\\n",
       "0  SPECIALFLAVOR7  THICATEGORY4  TIPCOLOR1  TRACKINGSTATUS2     train   \n",
       "1  SPECIALFLAVOR7  THICATEGORY4  TIPCOLOR1  TRACKINGSTATUS2     train   \n",
       "2  SPECIALFLAVOR7  THICATEGORY4  TIPCOLOR1  TRACKINGSTATUS2     train   \n",
       "3  SPECIALFLAVOR7  THICATEGORY4  TIPCOLOR1  TRACKINGSTATUS2     train   \n",
       "4  SPECIALFLAVOR7  THICATEGORY4  TIPCOLOR1  TRACKINGSTATUS2     train   \n",
       "\n",
       "  LAUNCH_YEAR LAUNCH_MONTH  \n",
       "0        2011           10  \n",
       "1        2011           10  \n",
       "2        2014           09  \n",
       "3        2014           09  \n",
       "4        2011           10  \n",
       "\n",
       "[5 rows x 35 columns]"
      ]
     },
     "execution_count": 123,
     "metadata": {},
     "output_type": "execute_result"
    }
   ],
   "source": [
    "df_cat = df.select_dtypes(include = ['O', 'category'])\n",
    "df_cat.head()"
   ]
  },
  {
   "cell_type": "markdown",
   "metadata": {},
   "source": [
    "* Lets check all categorical features."
   ]
  },
  {
   "cell_type": "code",
   "execution_count": 124,
   "metadata": {
    "scrolled": false
   },
   "outputs": [
    {
     "name": "stdout",
     "output_type": "stream",
     "text": [
      "name: REGION\n",
      "unique values: 4\n",
      "unique values ratio in all data: 0.002292263610315186\n",
      "\n",
      "name: MARKET\n",
      "unique values: 115\n",
      "unique values ratio in all data: 0.0659025787965616\n",
      "\n",
      "name: BRM\n",
      "unique values: 1099\n",
      "unique values ratio in all data: 0.6297994269340974\n",
      "\n",
      "name: BLDIMAGE\n",
      "unique values: 8\n",
      "unique values ratio in all data: 0.004584527220630372\n",
      "\n",
      "name: BRANDDIFFERENTIATOR\n",
      "unique values: 584\n",
      "unique values ratio in all data: 0.3346704871060172\n",
      "\n",
      "name: BRANDFAMILY\n",
      "unique values: 71\n",
      "unique values ratio in all data: 0.040687679083094556\n",
      "\n",
      "name: BRANDONMARKET\n",
      "unique values: 1099\n",
      "unique values ratio in all data: 0.6297994269340974\n",
      "\n",
      "name: BRANDSUBFAMILY\n",
      "unique values: 125\n",
      "unique values ratio in all data: 0.07163323782234957\n",
      "\n",
      "name: BRANDSUBFAMILYGROUP\n",
      "unique values: 75\n",
      "unique values ratio in all data: 0.04297994269340974\n",
      "\n",
      "name: BRANDSUBFAMILYGROUPING\n",
      "unique values: 125\n",
      "unique values ratio in all data: 0.07163323782234957\n",
      "\n",
      "name: BRANDSUBFAMILYLINE\n",
      "unique values: 78\n",
      "unique values ratio in all data: 0.04469914040114613\n",
      "\n",
      "name: CHARINDICATOR\n",
      "unique values: 2\n",
      "unique values ratio in all data: 0.001146131805157593\n",
      "\n",
      "name: INDICATOR\n",
      "unique values: 3\n",
      "unique values ratio in all data: 0.0017191977077363897\n",
      "\n",
      "name: RTYPE\n",
      "unique values: 5\n",
      "unique values ratio in all data: 0.0028653295128939827\n",
      "\n",
      "name: INTERNATIONALINDICATOR\n",
      "unique values: 3\n",
      "unique values ratio in all data: 0.0017191977077363897\n",
      "\n",
      "name: ISREPLACEMENT\n",
      "unique values: 1\n",
      "unique values ratio in all data: 0.0005730659025787965\n",
      "\n",
      "name: ISSTRATEGIC\n",
      "unique values: 2\n",
      "unique values ratio in all data: 0.001146131805157593\n",
      "\n",
      "name: ITEMSHAPE\n",
      "unique values: 2\n",
      "unique values ratio in all data: 0.001146131805157593\n",
      "\n",
      "name: ITEMSCODE\n",
      "unique values: 22\n",
      "unique values ratio in all data: 0.012607449856733524\n",
      "\n",
      "name: LENCATEGORY\n",
      "unique values: 5\n",
      "unique values ratio in all data: 0.0028653295128939827\n",
      "\n",
      "name: PRICECLASS\n",
      "unique values: 22\n",
      "unique values ratio in all data: 0.012607449856733524\n",
      "\n",
      "name: LOCALCLASS\n",
      "unique values: 12\n",
      "unique values ratio in all data: 0.006876790830945559\n",
      "\n",
      "name: MARKETEDBRAND\n",
      "unique values: 1099\n",
      "unique values ratio in all data: 0.6297994269340974\n",
      "\n",
      "name: MINDICATOR\n",
      "unique values: 2\n",
      "unique values ratio in all data: 0.001146131805157593\n",
      "\n",
      "name: NPLLAUNCHYEAR\n",
      "unique values: 9\n",
      "unique values ratio in all data: 0.005157593123209169\n",
      "\n",
      "name: PCKT\n",
      "unique values: 26\n",
      "unique values ratio in all data: 0.01489971346704871\n",
      "\n",
      "name: PRICECLASSON\n",
      "unique values: 5\n",
      "unique values ratio in all data: 0.0028653295128939827\n",
      "\n",
      "name: TCLASS\n",
      "unique values: 4\n",
      "unique values ratio in all data: 0.002292263610315186\n",
      "\n",
      "name: SPECIALFLAVOR\n",
      "unique values: 8\n",
      "unique values ratio in all data: 0.004584527220630372\n",
      "\n",
      "name: THICATEGORY\n",
      "unique values: 5\n",
      "unique values ratio in all data: 0.0028653295128939827\n",
      "\n",
      "name: TIPCOLOR\n",
      "unique values: 8\n",
      "unique values ratio in all data: 0.004584527220630372\n",
      "\n",
      "name: TRACKINGSTATUS\n",
      "unique values: 2\n",
      "unique values ratio in all data: 0.001146131805157593\n",
      "\n",
      "name: LAUNCH_YEAR\n",
      "unique values: 9\n",
      "unique values ratio in all data: 0.005157593123209169\n",
      "\n",
      "name: LAUNCH_MONTH\n",
      "unique values: 12\n",
      "unique values ratio in all data: 0.006876790830945559\n",
      "\n"
     ]
    }
   ],
   "source": [
    "column_unique_values = {}\n",
    "n_all = df_cat.shape[0]\n",
    "for column in df_cat.columns:\n",
    "    if column == 'data_type':\n",
    "        continue   \n",
    "    n_column = df_cat[column].unique().shape[0]\n",
    "    column_unique_values[column] = n_column\n",
    "    print('name: {}'.format(column))\n",
    "    print('unique values: {}'.format(n_column))\n",
    "    print('unique values ratio in all data: {}'.format(n_column / n_all))\n",
    "    print()\n"
   ]
  },
  {
   "cell_type": "markdown",
   "metadata": {},
   "source": [
    "* As we can see we do not features like ***BRMID***, which was unique for each item.\n"
   ]
  },
  {
   "cell_type": "markdown",
   "metadata": {},
   "source": [
    "* Now let's check suspicious features - the features, which have the same unique values."
   ]
  },
  {
   "cell_type": "code",
   "execution_count": 125,
   "metadata": {},
   "outputs": [
    {
     "name": "stdout",
     "output_type": "stream",
     "text": [
      "{2: ['CHARINDICATOR', 'ISSTRATEGIC', 'ITEMSHAPE', 'MINDICATOR', 'TRACKINGSTATUS'],\n",
      " 3: ['INDICATOR', 'INTERNATIONALINDICATOR'],\n",
      " 4: ['REGION', 'TCLASS'],\n",
      " 5: ['RTYPE', 'LENCATEGORY', 'PRICECLASSON', 'THICATEGORY'],\n",
      " 8: ['BLDIMAGE', 'SPECIALFLAVOR', 'TIPCOLOR'],\n",
      " 9: ['NPLLAUNCHYEAR', 'LAUNCH_YEAR'],\n",
      " 12: ['LOCALCLASS', 'LAUNCH_MONTH'],\n",
      " 22: ['ITEMSCODE', 'PRICECLASS'],\n",
      " 125: ['BRANDSUBFAMILY', 'BRANDSUBFAMILYGROUPING'],\n",
      " 1099: ['BRM', 'BRANDONMARKET', 'MARKETEDBRAND']}\n"
     ]
    }
   ],
   "source": [
    "suspicious_features = {}\n",
    "for x in list(set(column_unique_values.values())):\n",
    "    temp = [k for k, v in column_unique_values.items() if v == x]\n",
    "    if len(temp) > 1:\n",
    "        suspicious_features[x] = temp\n",
    "\n",
    "pprint(suspicious_features, width=100)"
   ]
  },
  {
   "cell_type": "code",
   "execution_count": 126,
   "metadata": {},
   "outputs": [],
   "source": [
    "# helper function for investigating suspicious features\n",
    "def is_the_same_feature(data: pd.DataFrame, f_1: str, f_2: str) -> bool:\n",
    "    \"\"\"\n",
    "    Return True, if 2 features are the same in given DataFrame. \n",
    "    2 features will be considered as the same, if they have unique mapping,\n",
    "    aka for each value from f_1 there is only one value from f_2 and vice versa.  \n",
    "    \"\"\"\n",
    "    unique_pairs_df = data.groupby([f_1,  f_2]).size().reset_index().rename(columns={0:'count'})\n",
    "    n_unique_pairs = unique_pairs_df.shape[0]\n",
    "    \n",
    "    f_1_unique_values = unique_pairs_df[f_1].unique().shape[0]\n",
    "    f_2_unique_values = unique_pairs_df[f_2].unique().shape[0]\n",
    "    return f_1_unique_values == f_2_unique_values == n_unique_pairs "
   ]
  },
  {
   "cell_type": "code",
   "execution_count": 127,
   "metadata": {},
   "outputs": [
    {
     "name": "stdout",
     "output_type": "stream",
     "text": [
      "features NPLLAUNCHYEAR and LAUNCH_YEAR are the same\n",
      "features BRM and BRANDONMARKET are the same\n",
      "features BRM and MARKETEDBRAND are the same\n",
      "features BRANDONMARKET and MARKETEDBRAND are the same\n",
      "features BRANDSUBFAMILY and BRANDSUBFAMILYGROUPING are the same\n"
     ]
    }
   ],
   "source": [
    "same_features = []\n",
    "for v in suspicious_features.values():\n",
    "    all_possible_pairs = list(combinations(v, 2))\n",
    "    for (f_1, f_2) in all_possible_pairs:\n",
    "        if is_the_same_feature(df_cat, f_1, f_2):\n",
    "            print('features {} and {} are the same'.format(f_1, f_2))\n",
    "            same_features.append((f_1, f_2))"
   ]
  },
  {
   "cell_type": "code",
   "execution_count": 128,
   "metadata": {},
   "outputs": [],
   "source": [
    "# we will keep only one from the same features\n",
    "not_useful_columns.extend(['BRM', 'MARKETEDBRAND', 'BRANDSUBFAMILY', 'NPLLAUNCHYEAR'])"
   ]
  },
  {
   "cell_type": "code",
   "execution_count": 129,
   "metadata": {},
   "outputs": [
    {
     "name": "stdout",
     "output_type": "stream",
     "text": [
      "all_data size is : (1745, 35)\n"
     ]
    }
   ],
   "source": [
    "df.drop(columns=not_useful_columns, inplace=True)  # removing not useful columns \n",
    "del df_cat, df_num  # removing\n",
    "\n",
    "print(\"all_data size is : {}\".format(df.shape))"
   ]
  },
  {
   "cell_type": "markdown",
   "metadata": {},
   "source": [
    "We finished with features cleaning from not useful ones. Now we will move to missing values."
   ]
  },
  {
   "cell_type": "markdown",
   "metadata": {},
   "source": [
    "### Missing values"
   ]
  },
  {
   "cell_type": "code",
   "execution_count": 130,
   "metadata": {},
   "outputs": [
    {
     "data": {
      "text/html": [
       "<div>\n",
       "<style scoped>\n",
       "    .dataframe tbody tr th:only-of-type {\n",
       "        vertical-align: middle;\n",
       "    }\n",
       "\n",
       "    .dataframe tbody tr th {\n",
       "        vertical-align: top;\n",
       "    }\n",
       "\n",
       "    .dataframe thead th {\n",
       "        text-align: right;\n",
       "    }\n",
       "</style>\n",
       "<table border=\"1\" class=\"dataframe\">\n",
       "  <thead>\n",
       "    <tr style=\"text-align: right;\">\n",
       "      <th></th>\n",
       "      <th>Missing Ratio</th>\n",
       "    </tr>\n",
       "  </thead>\n",
       "  <tbody>\n",
       "    <tr>\n",
       "      <th>RTYPE</th>\n",
       "      <td>72.779370</td>\n",
       "    </tr>\n",
       "    <tr>\n",
       "      <th>SPECIALFLAVOR</th>\n",
       "      <td>60.687679</td>\n",
       "    </tr>\n",
       "    <tr>\n",
       "      <th>ITEMSHAPE</th>\n",
       "      <td>53.123209</td>\n",
       "    </tr>\n",
       "    <tr>\n",
       "      <th>TIPCOLOR</th>\n",
       "      <td>48.997135</td>\n",
       "    </tr>\n",
       "  </tbody>\n",
       "</table>\n",
       "</div>"
      ],
      "text/plain": [
       "               Missing Ratio\n",
       "RTYPE              72.779370\n",
       "SPECIALFLAVOR      60.687679\n",
       "ITEMSHAPE          53.123209\n",
       "TIPCOLOR           48.997135"
      ]
     },
     "execution_count": 130,
     "metadata": {},
     "output_type": "execute_result"
    }
   ],
   "source": [
    "# columns with missing values\n",
    "columns_na = (df.isnull().sum() / df.shape[0]) * 100\n",
    "columns_na = columns_na.drop(columns_na[columns_na == 0].index).sort_values(ascending=False)[:30]\n",
    "missing_data = pd.DataFrame({'Missing Ratio': columns_na})\n",
    "missing_data.head(20)"
   ]
  },
  {
   "cell_type": "code",
   "execution_count": 131,
   "metadata": {},
   "outputs": [
    {
     "data": {
      "text/plain": [
       "Text(0.5, 1.0, 'Percent missing data by feature')"
      ]
     },
     "execution_count": 131,
     "metadata": {},
     "output_type": "execute_result"
    },
    {
     "data": {
      "image/png": "[encoded data removed]",
      "text/plain": [
       "<Figure size 720x576 with 1 Axes>"
      ]
     },
     "metadata": {
      "needs_background": "light"
     },
     "output_type": "display_data"
    }
   ],
   "source": [
    "f, ax = plt.subplots(figsize=(10, 8))\n",
    "plt.xticks(rotation='90')\n",
    "sns.barplot(x=columns_na.index, y=columns_na)\n",
    "plt.xlabel('Features', fontsize=15)\n",
    "plt.ylabel('Percent of missing values', fontsize=15)\n",
    "plt.title('Percent missing data by feature', fontsize=15)"
   ]
  },
  {
   "cell_type": "markdown",
   "metadata": {},
   "source": [
    "**Imputing missing values**"
   ]
  },
  {
   "cell_type": "markdown",
   "metadata": {},
   "source": [
    "We impute them by proceeding sequentially through features with missing values."
   ]
  },
  {
   "cell_type": "markdown",
   "metadata": {},
   "source": [
    "-   **RTYPE** : As we do not have any idea, what does it mean this feature and it's missing percentage is quite high, we will remove it."
   ]
  },
  {
   "cell_type": "code",
   "execution_count": 132,
   "metadata": {},
   "outputs": [],
   "source": [
    "df.drop(columns='RTYPE', inplace=True)"
   ]
  },
  {
   "cell_type": "markdown",
   "metadata": {},
   "source": [
    "-   **SPECIALFLAVOR** : We assume that missing value of this feature, means that product does not have special flavor, so it is one additional category."
   ]
  },
  {
   "cell_type": "code",
   "execution_count": 133,
   "metadata": {},
   "outputs": [
    {
     "data": {
      "text/plain": [
       "array(['SPECIALFLAVOR7', nan, 'SPECIALFLAVOR8', 'SPECIALFLAVOR9',\n",
       "       'SPECIALFLAVOR1', 'SPECIALFLAVOR6', 'SPECIALFLAVOR2',\n",
       "       'SPECIALFLAVOR5'], dtype=object)"
      ]
     },
     "execution_count": 133,
     "metadata": {},
     "output_type": "execute_result"
    }
   ],
   "source": [
    "df['SPECIALFLAVOR'].unique()"
   ]
  },
  {
   "cell_type": "code",
   "execution_count": 134,
   "metadata": {},
   "outputs": [],
   "source": [
    "df['SPECIALFLAVOR'].fillna('NOSPECIALFLAVOR', inplace=True)"
   ]
  },
  {
   "cell_type": "markdown",
   "metadata": {},
   "source": [
    "-   **ITEMSHAPE** : Missing values of this feature is most probably means that data was not avialable, so we will remove it."
   ]
  },
  {
   "cell_type": "code",
   "execution_count": 135,
   "metadata": {},
   "outputs": [],
   "source": [
    "df.drop(columns='ITEMSHAPE', inplace=True)"
   ]
  },
  {
   "cell_type": "markdown",
   "metadata": {},
   "source": [
    "-   **TIPCOLOR** : We assume that missing value of this feature, means that product does not have tip color, so it is one additional category."
   ]
  },
  {
   "cell_type": "code",
   "execution_count": 136,
   "metadata": {},
   "outputs": [
    {
     "data": {
      "text/plain": [
       "array(['TIPCOLOR1', 'TIPCOLOR7', nan, 'TIPCOLOR6', 'TIPCOLOR3',\n",
       "       'TIPCOLOR4', 'TIPCOLOR5', 'TIPCOLOR2'], dtype=object)"
      ]
     },
     "execution_count": 136,
     "metadata": {},
     "output_type": "execute_result"
    }
   ],
   "source": [
    "df['TIPCOLOR'].unique()"
   ]
  },
  {
   "cell_type": "code",
   "execution_count": 137,
   "metadata": {},
   "outputs": [],
   "source": [
    "df['TIPCOLOR'].fillna('NOTIPCOLOR', inplace=True)"
   ]
  },
  {
   "cell_type": "code",
   "execution_count": 138,
   "metadata": {},
   "outputs": [],
   "source": [
    "# checking that there is no any missing columns\n",
    "assert not np.all(df.isnull())"
   ]
  },
  {
   "cell_type": "markdown",
   "metadata": {},
   "source": [
    " Now will move to visulations in order to get some insights about distributions, correlations, ..."
   ]
  },
  {
   "cell_type": "markdown",
   "metadata": {},
   "source": [
    "### Numerical data distribution"
   ]
  },
  {
   "cell_type": "markdown",
   "metadata": {},
   "source": [
    "#### Response variable: Market_Share distribution"
   ]
  },
  {
   "cell_type": "code",
   "execution_count": 154,
   "metadata": {},
   "outputs": [],
   "source": [
    "df_num = df[df['data_type'] == 'train'] \n",
    "df_num['Market_Share'] = df_train['Market_Share']\n",
    "df_num = df_num.select_dtypes(include=['float64'])"
   ]
  },
  {
   "cell_type": "code",
   "execution_count": 155,
   "metadata": {},
   "outputs": [
    {
     "data": {
      "text/html": [
       "<div>\n",
       "<style scoped>\n",
       "    .dataframe tbody tr th:only-of-type {\n",
       "        vertical-align: middle;\n",
       "    }\n",
       "\n",
       "    .dataframe tbody tr th {\n",
       "        vertical-align: top;\n",
       "    }\n",
       "\n",
       "    .dataframe thead th {\n",
       "        text-align: right;\n",
       "    }\n",
       "</style>\n",
       "<table border=\"1\" class=\"dataframe\">\n",
       "  <thead>\n",
       "    <tr style=\"text-align: right;\">\n",
       "      <th></th>\n",
       "      <th>LEN</th>\n",
       "      <th>NCON</th>\n",
       "      <th>RETAILPACKPRICE</th>\n",
       "      <th>TRCONTE</th>\n",
       "      <th>Market_Share</th>\n",
       "    </tr>\n",
       "  </thead>\n",
       "  <tbody>\n",
       "    <tr>\n",
       "      <th>0</th>\n",
       "      <td>84.0</td>\n",
       "      <td>0.0</td>\n",
       "      <td>15.00</td>\n",
       "      <td>10.0</td>\n",
       "      <td>0.001440</td>\n",
       "    </tr>\n",
       "    <tr>\n",
       "      <th>1</th>\n",
       "      <td>84.0</td>\n",
       "      <td>0.0</td>\n",
       "      <td>19.55</td>\n",
       "      <td>10.0</td>\n",
       "      <td>0.002881</td>\n",
       "    </tr>\n",
       "    <tr>\n",
       "      <th>2</th>\n",
       "      <td>84.0</td>\n",
       "      <td>0.0</td>\n",
       "      <td>27.00</td>\n",
       "      <td>10.0</td>\n",
       "      <td>0.028870</td>\n",
       "    </tr>\n",
       "  </tbody>\n",
       "</table>\n",
       "</div>"
      ],
      "text/plain": [
       "    LEN  NCON  RETAILPACKPRICE  TRCONTE  Market_Share\n",
       "0  84.0   0.0            15.00     10.0      0.001440\n",
       "1  84.0   0.0            19.55     10.0      0.002881\n",
       "2  84.0   0.0            27.00     10.0      0.028870"
      ]
     },
     "execution_count": 155,
     "metadata": {},
     "output_type": "execute_result"
    }
   ],
   "source": [
    "df_num.head(3)"
   ]
  },
  {
   "cell_type": "code",
   "execution_count": 156,
   "metadata": {},
   "outputs": [
    {
     "name": "stdout",
     "output_type": "stream",
     "text": [
      "count    1716.000000\n",
      "mean        0.004652\n",
      "std         0.008118\n",
      "min        -0.000419\n",
      "25%         0.000862\n",
      "50%         0.002299\n",
      "75%         0.005167\n",
      "max         0.146897\n",
      "Name: Market_Share, dtype: float64\n"
     ]
    },
    {
     "data": {
      "image/png": "[encoded data removed]",
      "text/plain": [
       "<Figure size 648x576 with 1 Axes>"
      ]
     },
     "metadata": {
      "needs_background": "light"
     },
     "output_type": "display_data"
    },
    {
     "data": {
      "image/png": "[encoded data removed]",
      "text/plain": [
       "<Figure size 648x576 with 1 Axes>"
      ]
     },
     "metadata": {
      "needs_background": "light"
     },
     "output_type": "display_data"
    }
   ],
   "source": [
    "print(df_num['Market_Share'].describe())\n",
    "\n",
    "# Market Share distribution\n",
    "plt.figure(figsize=(9, 8))\n",
    "sns.distplot(df_num['Market_Share'], color='g', bins=100, hist_kws={'alpha': 0.4}) \n",
    "\n",
    "# Get also the QQ-plot\n",
    "fig = plt.figure(figsize=(9, 8))\n",
    "res = stats.probplot(df_num['Market_Share'], plot=plt, dist='norm',)\n",
    "plt.title('QQ-plot against Normal distribion')\n",
    "plt.show()"
   ]
  },
  {
   "cell_type": "markdown",
   "metadata": {},
   "source": [
    "Some insights:\n",
    "\n",
    "*  There are some values, which are **negative**. This can not be in reality, because our data is describing product Market Share, which can not be negative. Minimum possible value is 0. So we should remove these items from data.\n",
    "\n",
    "\n",
    "*  Data has the shape of **Exponential** distribution. As (linear) models love **normally** distributed data , we need to transform this variable and make it more normally distributed.\n",
    "\n",
    "    "
   ]
  },
  {
   "cell_type": "code",
   "execution_count": 157,
   "metadata": {},
   "outputs": [],
   "source": [
    "# remove Market Share\n",
    "df_num = df_num[df_num['Market_Share'] >= 0]"
   ]
  },
  {
   "cell_type": "code",
   "execution_count": 158,
   "metadata": {},
   "outputs": [
    {
     "data": {
      "image/png": "[encoded data removed]",
      "text/plain": [
       "<Figure size 648x576 with 1 Axes>"
      ]
     },
     "metadata": {
      "needs_background": "light"
     },
     "output_type": "display_data"
    }
   ],
   "source": [
    "fig = plt.figure(figsize=(9, 8))\n",
    "res = stats.probplot(df_num['Market_Share'], plot=plt, dist='expon')\n",
    "plt.title('QQ-plot against Exponential distribion')\n",
    "plt.show()"
   ]
  },
  {
   "cell_type": "markdown",
   "metadata": {},
   "source": [
    "*  We can see that there are some outliers also."
   ]
  },
  {
   "cell_type": "code",
   "execution_count": 159,
   "metadata": {},
   "outputs": [],
   "source": [
    "# removing outliers\n",
    "df_num = df_num[df_num['Market_Share'] < 0.08]"
   ]
  },
  {
   "cell_type": "markdown",
   "metadata": {},
   "source": [
    "**BoxCox-transformation of the response variable**"
   ]
  },
  {
   "cell_type": "code",
   "execution_count": 160,
   "metadata": {},
   "outputs": [
    {
     "name": "stdout",
     "output_type": "stream",
     "text": [
      "\n",
      " mu = -3.10 and sigma = 0.31\n",
      "\n"
     ]
    },
    {
     "data": {
      "image/png": "[encoded data removed]",
      "text/plain": [
       "<Figure size 432x288 with 1 Axes>"
      ]
     },
     "metadata": {
      "needs_background": "light"
     },
     "output_type": "display_data"
    },
    {
     "data": {
      "image/png": "[encoded data removed]",
      "text/plain": [
       "<Figure size 432x288 with 1 Axes>"
      ]
     },
     "metadata": {
      "needs_background": "light"
     },
     "output_type": "display_data"
    }
   ],
   "source": [
    "# we will use BoxCox from scipy with lambda = 0.25\n",
    "# we add very small number to Market_Share for cut it zrom 0 \n",
    "lmbda = 0.25\n",
    "df_num['Market_Share'] = stats.boxcox(df_num['Market_Share'] + 1e-30, lmbda=lmbda)  \n",
    "\n",
    "# check the new distribution \n",
    "sns.distplot(df_num['Market_Share'] , fit=stats.norm);\n",
    "\n",
    "# get the fitted parameters used by the function\n",
    "(mu, sigma) = stats.norm.fit(df_num['Market_Share'])\n",
    "print( '\\n mu = {:.2f} and sigma = {:.2f}\\n'.format(mu, sigma))\n",
    "\n",
    "# now plot the distribution\n",
    "plt.legend(['Normal dist. ($\\mu=$ {:.2f} and $\\sigma=$ {:.2f} )'.format(mu, sigma)], loc='best')\n",
    "plt.ylabel('Frequency')\n",
    "plt.title('Market_Share distribution')\n",
    "\n",
    "# get also the QQ-plot\n",
    "fig = plt.figure()\n",
    "res = stats.probplot(df_num['Market_Share'], plot=plt)\n",
    "plt.show()"
   ]
  },
  {
   "cell_type": "markdown",
   "metadata": {},
   "source": [
    "*  Now data is more normally distributed."
   ]
  },
  {
   "cell_type": "code",
   "execution_count": null,
   "metadata": {},
   "outputs": [],
   "source": []
  },
  {
   "cell_type": "code",
   "execution_count": null,
   "metadata": {},
   "outputs": [],
   "source": []
  },
  {
   "cell_type": "code",
   "execution_count": null,
   "metadata": {},
   "outputs": [],
   "source": []
  },
  {
   "cell_type": "code",
   "execution_count": null,
   "metadata": {},
   "outputs": [],
   "source": []
  },
  {
   "cell_type": "code",
   "execution_count": null,
   "metadata": {},
   "outputs": [],
   "source": []
  },
  {
   "cell_type": "code",
   "execution_count": null,
   "metadata": {},
   "outputs": [],
   "source": []
  },
  {
   "cell_type": "code",
   "execution_count": null,
   "metadata": {},
   "outputs": [],
   "source": []
  },
  {
   "cell_type": "markdown",
   "metadata": {},
   "source": [
    "### Numerical data distribution"
   ]
  },
  {
   "cell_type": "code",
   "execution_count": null,
   "metadata": {
    "ExecuteTime": {
     "end_time": "2018-12-19T19:43:55.180255Z",
     "start_time": "2018-12-19T19:43:55.161928Z"
    }
   },
   "outputs": [],
   "source": [
    "list(set(df.dtypes.tolist()))"
   ]
  },
  {
   "cell_type": "code",
   "execution_count": null,
   "metadata": {
    "ExecuteTime": {
     "end_time": "2018-12-19T19:44:07.294780Z",
     "start_time": "2018-12-19T19:44:07.209536Z"
    }
   },
   "outputs": [],
   "source": [
    "df_num = df.select_dtypes(include = ['float64', 'int64'])\n",
    "df_num.head()"
   ]
  },
  {
   "cell_type": "code",
   "execution_count": null,
   "metadata": {
    "ExecuteTime": {
     "end_time": "2018-12-19T19:48:41.719041Z",
     "start_time": "2018-12-19T19:48:41.492699Z"
    },
    "scrolled": true
   },
   "outputs": [],
   "source": [
    "df_num.describe()"
   ]
  },
  {
   "cell_type": "code",
   "execution_count": null,
   "metadata": {
    "ExecuteTime": {
     "end_time": "2018-12-19T20:02:52.122803Z",
     "start_time": "2018-12-19T20:02:52.091132Z"
    }
   },
   "outputs": [],
   "source": [
    "cols = ['BRMID', 'ITEMSCODE', 'LATESTPERIODINDEX', 'NPLLAUNCHDATE']\n",
    "df_num = df[[x for x in df_num.columns if x not in cols]]"
   ]
  },
  {
   "cell_type": "code",
   "execution_count": null,
   "metadata": {
    "ExecuteTime": {
     "end_time": "2018-12-19T20:02:54.676578Z",
     "start_time": "2018-12-19T20:02:54.658623Z"
    }
   },
   "outputs": [],
   "source": [
    "np.all(df_num['LEN'].isnull().values == False)"
   ]
  },
  {
   "cell_type": "code",
   "execution_count": null,
   "metadata": {
    "ExecuteTime": {
     "end_time": "2018-12-19T20:02:58.054894Z",
     "start_time": "2018-12-19T20:02:55.621295Z"
    }
   },
   "outputs": [],
   "source": [
    "df_num.hist(figsize=(16, 20), bins=50, xlabelsize=8, ylabelsize=8);"
   ]
  },
  {
   "cell_type": "markdown",
   "metadata": {},
   "source": [
    "#### Correlation"
   ]
  },
  {
   "cell_type": "code",
   "execution_count": null,
   "metadata": {
    "ExecuteTime": {
     "end_time": "2018-12-19T20:09:46.462375Z",
     "start_time": "2018-12-19T20:09:46.431761Z"
    }
   },
   "outputs": [],
   "source": [
    "df_num_corr = df_num.corr()['Market_Share'][:-1] # -1 because the latest row is SalePrice\n",
    "golden_features_list = df_num_corr[abs(df_num_corr) > 0.5].sort_values(ascending=False)\n",
    "print(\"There is {} strongly correlated values with Market_Share:\\n{}\".format(len(golden_features_list), golden_features_list))"
   ]
  },
  {
   "cell_type": "code",
   "execution_count": null,
   "metadata": {
    "ExecuteTime": {
     "end_time": "2018-12-19T20:06:45.936354Z",
     "start_time": "2018-12-19T20:06:44.725444Z"
    }
   },
   "outputs": [],
   "source": [
    "for i in range(0, len(df_num.columns), 5):\n",
    "    sns.pairplot(data=df_num,\n",
    "                x_vars=df_num.columns[i:i+5],\n",
    "                y_vars=['Market_Share'])"
   ]
  },
  {
   "cell_type": "code",
   "execution_count": null,
   "metadata": {
    "ExecuteTime": {
     "end_time": "2018-12-19T20:09:09.128401Z",
     "start_time": "2018-12-19T20:09:09.064088Z"
    }
   },
   "outputs": [],
   "source": [
    "import operator\n",
    "\n",
    "individual_features_df = []\n",
    "for i in range(0, len(df_num.columns) - 1): # -1 because the last column is SalePrice\n",
    "    tmpDf = df_num[[df_num.columns[i], 'Market_Share']]\n",
    "    tmpDf = tmpDf[tmpDf[df_num.columns[i]] != 0]\n",
    "    individual_features_df.append(tmpDf)\n",
    "\n",
    "all_correlations = {feature.columns[0]: feature.corr()['Market_Share'][0] for feature in individual_features_df}\n",
    "all_correlations = sorted(all_correlations.items(), key=operator.itemgetter(1))\n",
    "for (key, value) in all_correlations:\n",
    "    print(\"{:>15}: {:>15}\".format(key, value))"
   ]
  },
  {
   "cell_type": "code",
   "execution_count": null,
   "metadata": {
    "ExecuteTime": {
     "end_time": "2018-12-19T20:09:42.526404Z",
     "start_time": "2018-12-19T20:09:42.509053Z"
    }
   },
   "outputs": [],
   "source": [
    "golden_features_list = [key for key, value in all_correlations if abs(value) >= 0.5]\n",
    "print(\"There is {} strongly correlated values with Market_Share:\\n{}\".format(len(golden_features_list), golden_features_list))"
   ]
  },
  {
   "cell_type": "markdown",
   "metadata": {},
   "source": [
    "### Feature to feature relationship\n"
   ]
  },
  {
   "cell_type": "code",
   "execution_count": null,
   "metadata": {
    "ExecuteTime": {
     "end_time": "2018-12-19T20:10:50.576476Z",
     "start_time": "2018-12-19T20:10:49.903565Z"
    }
   },
   "outputs": [],
   "source": [
    "corr = df_num.drop('Market_Share', axis=1).corr() # We already examined SalePrice correlations\n",
    "plt.figure(figsize=(12, 10))\n",
    "\n",
    "sns.heatmap(corr[(corr >= 0.5) | (corr <= -0.4)], \n",
    "            cmap='viridis', vmax=1.0, vmin=-1.0, linewidths=0.1,\n",
    "            annot=True, annot_kws={\"size\": 8}, square=True);"
   ]
  },
  {
   "cell_type": "markdown",
   "metadata": {},
   "source": [
    "### C -> Q (Categorical to Quantitative relationship)¶"
   ]
  },
  {
   "cell_type": "code",
   "execution_count": null,
   "metadata": {
    "ExecuteTime": {
     "end_time": "2018-12-19T20:15:40.614116Z",
     "start_time": "2018-12-19T20:15:40.467992Z"
    }
   },
   "outputs": [],
   "source": [
    "df_not_num = df.select_dtypes(include = ['O'])\n",
    "df_not_num['Market_Share'] = df['Market_Share'].copy()\n",
    "print('There is {} non numerical features including:\\n{}'.format(len(df_not_num.columns), df_not_num.columns.tolist()))"
   ]
  },
  {
   "cell_type": "code",
   "execution_count": null,
   "metadata": {
    "ExecuteTime": {
     "end_time": "2018-12-19T20:17:45.115546Z",
     "start_time": "2018-12-19T20:17:44.343282Z"
    }
   },
   "outputs": [],
   "source": [
    "plt.figure(figsize = (25, 10))\n",
    "ax = sns.boxplot(x='REGION', y='Market_Share', data=df_not_num)\n",
    "plt.setp(ax.artists, alpha=.5, linewidth=2, edgecolor=\"k\")\n",
    "plt.xticks(rotation=45);"
   ]
  },
  {
   "cell_type": "code",
   "execution_count": null,
   "metadata": {
    "ExecuteTime": {
     "end_time": "2018-12-19T20:19:44.110655Z",
     "start_time": "2018-12-19T20:19:41.215967Z"
    }
   },
   "outputs": [],
   "source": [
    "plt.figure(figsize = (25, 10))\n",
    "ax = sns.boxplot(x='BRANDFAMILY', y='Market_Share', data=df_not_num)\n",
    "plt.setp(ax.artists, alpha=.5, linewidth=2, edgecolor=\"k\")\n",
    "plt.xticks(rotation=45);"
   ]
  },
  {
   "cell_type": "code",
   "execution_count": null,
   "metadata": {
    "ExecuteTime": {
     "end_time": "2018-12-19T20:24:50.097275Z",
     "start_time": "2018-12-19T20:21:41.057801Z"
    },
    "scrolled": false
   },
   "outputs": [],
   "source": [
    "fig, axes = plt.subplots(round(len(df_not_num.columns) / 3), 3, figsize=(12, 30))\n",
    "\n",
    "for i, ax in enumerate(fig.axes):\n",
    "    if i < len(df_not_num.columns):\n",
    "        ax.set_xticklabels(ax.xaxis.get_majorticklabels(), rotation=45)\n",
    "        sns.countplot(x=df_not_num.columns[i], alpha=0.7, data=df_not_num, ax=ax)\n",
    "\n",
    "fig.tight_layout()"
   ]
  },
  {
   "cell_type": "code",
   "execution_count": null,
   "metadata": {},
   "outputs": [],
   "source": []
  },
  {
   "cell_type": "code",
   "execution_count": null,
   "metadata": {},
   "outputs": [],
   "source": []
  },
  {
   "cell_type": "code",
   "execution_count": null,
   "metadata": {},
   "outputs": [],
   "source": []
  },
  {
   "cell_type": "code",
   "execution_count": null,
   "metadata": {},
   "outputs": [],
   "source": []
  },
  {
   "cell_type": "code",
   "execution_count": null,
   "metadata": {},
   "outputs": [],
   "source": []
  },
  {
   "cell_type": "code",
   "execution_count": null,
   "metadata": {},
   "outputs": [],
   "source": []
  },
  {
   "cell_type": "code",
   "execution_count": null,
   "metadata": {},
   "outputs": [],
   "source": []
  },
  {
   "cell_type": "code",
   "execution_count": null,
   "metadata": {},
   "outputs": [],
   "source": []
  },
  {
   "cell_type": "code",
   "execution_count": null,
   "metadata": {},
   "outputs": [],
   "source": []
  },
  {
   "cell_type": "code",
   "execution_count": null,
   "metadata": {},
   "outputs": [],
   "source": []
  },
  {
   "cell_type": "code",
   "execution_count": null,
   "metadata": {},
   "outputs": [],
   "source": []
  },
  {
   "cell_type": "code",
   "execution_count": null,
   "metadata": {},
   "outputs": [],
   "source": []
  },
  {
   "cell_type": "code",
   "execution_count": null,
   "metadata": {},
   "outputs": [],
   "source": []
  },
  {
   "cell_type": "code",
   "execution_count": null,
   "metadata": {},
   "outputs": [],
   "source": []
  },
  {
   "cell_type": "code",
   "execution_count": null,
   "metadata": {},
   "outputs": [],
   "source": []
  },
  {
   "cell_type": "code",
   "execution_count": null,
   "metadata": {},
   "outputs": [],
   "source": []
  },
  {
   "cell_type": "code",
   "execution_count": null,
   "metadata": {},
   "outputs": [],
   "source": []
  },
  {
   "cell_type": "code",
   "execution_count": null,
   "metadata": {},
   "outputs": [],
   "source": []
  },
  {
   "cell_type": "code",
   "execution_count": null,
   "metadata": {},
   "outputs": [],
   "source": []
  },
  {
   "cell_type": "code",
   "execution_count": null,
   "metadata": {},
   "outputs": [],
   "source": []
  },
  {
   "cell_type": "code",
   "execution_count": null,
   "metadata": {},
   "outputs": [],
   "source": []
  },
  {
   "cell_type": "code",
   "execution_count": null,
   "metadata": {},
   "outputs": [],
   "source": []
  },
  {
   "cell_type": "code",
   "execution_count": null,
   "metadata": {},
   "outputs": [],
   "source": []
  },
  {
   "cell_type": "code",
   "execution_count": null,
   "metadata": {},
   "outputs": [],
   "source": []
  },
  {
   "cell_type": "code",
   "execution_count": null,
   "metadata": {},
   "outputs": [],
   "source": []
  },
  {
   "cell_type": "code",
   "execution_count": null,
   "metadata": {},
   "outputs": [],
   "source": []
  },
  {
   "cell_type": "code",
   "execution_count": null,
   "metadata": {},
   "outputs": [],
   "source": []
  },
  {
   "cell_type": "code",
   "execution_count": null,
   "metadata": {},
   "outputs": [],
   "source": []
  },
  {
   "cell_type": "code",
   "execution_count": null,
   "metadata": {},
   "outputs": [],
   "source": []
  },
  {
   "cell_type": "code",
   "execution_count": null,
   "metadata": {},
   "outputs": [],
   "source": []
  }
 ],
 "metadata": {
  "kernelspec": {
   "display_name": "Python 3",
   "language": "python",
   "name": "python3"
  },
  "language_info": {
   "codemirror_mode": {
    "name": "ipython",
    "version": 3
   },
   "file_extension": ".py",
   "mimetype": "text/x-python",
   "name": "python",
   "nbconvert_exporter": "python",
   "pygments_lexer": "ipython3",
   "version": "3.6.7"
  },
  "toc": {
   "base_numbering": 1,
   "nav_menu": {},
   "number_sections": true,
   "sideBar": true,
   "skip_h1_title": false,
   "title_cell": "Table of Contents",
   "title_sidebar": "Contents",
   "toc_cell": false,
   "toc_position": {
    "height": "calc(100% - 180px)",
    "left": "10px",
    "top": "150px",
    "width": "165px"
   },
   "toc_section_display": true,
   "toc_window_display": false
  },
  "varInspector": {
   "cols": {
    "lenName": 16,
    "lenType": 16,
    "lenVar": 40
   },
   "kernels_config": {
    "python": {
     "delete_cmd_postfix": "",
     "delete_cmd_prefix": "del ",
     "library": "var_list.py",
     "varRefreshCmd": "print(var_dic_list())"
    },
    "r": {
     "delete_cmd_postfix": ") ",
     "delete_cmd_prefix": "rm(",
     "library": "var_list.r",
     "varRefreshCmd": "cat(var_dic_list()) "
    }
   },
   "types_to_exclude": [
    "module",
    "function",
    "builtin_function_or_method",
    "instance",
    "_Feature"
   ],
   "window_display": false
  }
 },
 "nbformat": 4,
 "nbformat_minor": 2
}
