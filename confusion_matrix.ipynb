{
 "cells": [
  {
   "cell_type": "code",
   "execution_count": 1,
   "metadata": {},
   "outputs": [],
   "source": [
    "import numpy as np\n",
    "import pandas as pd \n",
    "\n",
    "from sklearn.metrics import confusion_matrix, classification_report\n",
    "from matplotlib import pyplot as plt\n",
    "import seaborn as sns\n",
    "import scipy\n",
    "from matplotlib.collections import QuadMesh\n",
    "from tabulate import tabulate"
   ]
  },
  {
   "cell_type": "code",
   "execution_count": 3,
   "metadata": {},
   "outputs": [],
   "source": [
    "def bernoulli_conf_interval(p: float, n: int, confidence: float):\n",
    "    \"\"\"\n",
    "    Calculates confidence interval for n i.i.d. bernoulli(p) random variables.\n",
    "    It is using CLT: we approximating the average of n i.i.d. bernoulli(p) distributed random\n",
    "    variables with normal distribution.\n",
    "\n",
    "        confidence interval: p ± z * (p(1-p) / n)^(1/2)\n",
    "        alpha = 1 - confidence\n",
    "        z = 1 - alpha / 2 quantile for standard normal distribution\n",
    "\n",
    "\n",
    "    :param p: the probability of 1 \n",
    "    :param n: number of i.i.d. bernoulli(p) random variables\n",
    "    :param confidence: confidence value (0 < confidence < 1)\n",
    "    :return: tuple, confidence interval\n",
    "    \"\"\"\n",
    "    alpha = 1 - confidence                       # target error rate\n",
    "    z = scipy.stats.norm.ppf(1 - alpha / 2)      # 1-alpha/2 - quantile of a standard normal distribution\n",
    "    se = z * np.sqrt(p * (1 - p) / n)            # standard error\n",
    "    return (p - se, p + se)"
   ]
  },
  {
   "cell_type": "code",
   "execution_count": 4,
   "metadata": {},
   "outputs": [],
   "source": [
    "def confusion_matrix_metrics(y_true, y_pred, labels, plot=True, figsize=(10,10), cmap=plt.cm.Reds, fsize=10):\n",
    "    \"\"\"\n",
    "    Generate matrix plot of confusion matrix with pretty annotations.\n",
    "    The plot image is saved to disk.\n",
    "    args: \n",
    "      y_true:    true label of the data, with shape (nsamples,), binary array\n",
    "      y_pred:    prediction of the data, with shape (nsamples,), binary array\n",
    "      filename:  filename of figure file to save\n",
    "      labels:    list of labels, first should be the name of negative values\n",
    "      figsize:   the size of the figure plotted.\n",
    "    \"\"\"\n",
    "    metrics = {}\n",
    "    cm = confusion_matrix(y_true, y_pred)\n",
    "    \n",
    "    # true negatives (TN): we predicted N, and they don't have the disease (actual N)\n",
    "    # false positives (FP): we predicted Y, but they don't have the disease (actual N)\n",
    "    # false negatives (FN): we predicted N, but they do have the disease (actual Y)\n",
    "    # true positives (TP): we predicted Y and they do have the disease (actual Y)\n",
    "    tn, fp, fn, tp = cm.ravel()\n",
    "    metrics.update({'TP': tp, 'FN': fn, 'TN': tn, 'FP': fp})\n",
    "    \n",
    "    # normalzing matrix - getting rates\n",
    "    cm_norm = (cm.astype('float') / cm.sum(axis=1)[:, np.newaxis])\n",
    "    \n",
    "    # tnr (specificity): probability that a test result will be negative when the disease is not present (tn / actual_N)\n",
    "    # fpr: probability that a test result will be positive when the disease is not present (fp / actual_N)\n",
    "    # fnr: probability that a test result will be negative when the disease is present (fn / actual_Y)    \n",
    "    # tpr (recall): probability that a test result will be positive when the disease is present (tp / actual_Y)\n",
    "    tnr, fpr, fnr, tpr = cm_norm.ravel()\n",
    "    metrics.update({'TPR': tpr, 'FNR': fnr, 'TNR': tnr, 'FPR': fpr})\n",
    "    \n",
    "    # ppv (precision): probability that the disease is present when the test is positive (tp / (tp + fp))\n",
    "    # npv: probability that the disease is not present when the test is  negative (tn / (tn + fn))\n",
    "    ppv = tp / (tp + fp)\n",
    "    npv = tn / (tn + fn)\n",
    "    ppv_conf_interval = bernoulli_conf_interval(ppv, tp + fn, 0.95)\n",
    "    npv_conf_interval = bernoulli_conf_interval(npv, tn + fn, 0.95)\n",
    "    metrics.update({'PPV': ppv, 'NPV': npv, 'PPV 95% CI': ppv_conf_interval, 'NPV 95% CI': npv_conf_interval})\n",
    "    \n",
    "    # Overall, how often is the classifier correct?\n",
    "    accuracy = (tp + tn) / (tn + fp + fn + tp)\n",
    "    metrics.update({'accuracy': accuracy})\n",
    "\n",
    "    # The weighted average of recall and precision.\n",
    "    f_score = 2 * tpr * ppv / (tpr + ppv)\n",
    "    metrics.update({'f_score': f_score})\n",
    "    \n",
    "    if plot:\n",
    "        # annotation for heatmap\n",
    "        annot = np.empty_like(cm_norm).astype(str)\n",
    "        annot[0, 0] = 'TN={} \\n\\nTNR={:.2f}% \\n\\nNPV={:.2f}%'.format(tn, tnr * 100, npv * 100)\n",
    "        annot[0, 1] = 'FP={} \\n\\nFPR={:.2f}%'.format(fp, fpr * 100)\n",
    "        annot[1, 0] = 'FN={} \\n\\nFNR={:.2f}%'.format(fn, fnr * 100)\n",
    "        annot[1, 1] = 'TP={} \\n\\nTPR={:.2f}% \\n\\nPPV={:.2f}%'.format(tp, tpr * 100, ppv * 100)\n",
    "\n",
    "        fig, ax = plt.subplots(figsize=figsize)\n",
    "        ax = sns.heatmap(pd.DataFrame(cm_norm, index=labels, columns=labels),\n",
    "                         annot=annot, annot_kws={\"size\": fsize, 'color': 'w', 'fontstyle':'oblique'}, linewidths=0.1, ax=ax,\n",
    "                            cbar=False, cmap=cmap, linecolor='w', fmt='')\n",
    "\n",
    "        # face colors list\n",
    "        quadmesh = ax.findobj(QuadMesh)[0]\n",
    "        facecolors = quadmesh.get_facecolors()\n",
    "        \n",
    "        facecolors[0] = [0.35, 0.8, 0.55, 1.0]  # green\n",
    "        facecolors[3] = [0.35, 0.8, 0.55, 1.0]  # green\n",
    "        facecolors[1] = [0.65, 0.1, 0.1, 1.0]  # red\n",
    "        facecolors[2] = [0.65, 0.1, 0.1, 1.0]  # red\n",
    "        \n",
    "        # set ticklabels rotation\n",
    "        ax.set_xticklabels(ax.get_xticklabels(), rotation=45, fontsize=12)\n",
    "        ax.set_yticklabels(ax.get_yticklabels(), rotation=25, fontsize=12)\n",
    "\n",
    "        # set labels\n",
    "        ax.axes.set_title(\"Accuracy={:.2f}% \\n f_score={:.2f}\".format(accuracy * 100, f_score), fontsize=fsize)\n",
    "        ax.set_xlabel(\"Predicted label\",fontsize=15)\n",
    "        ax.set_ylabel(\"Actual label\", fontsize=15)\n",
    "        plt.tight_layout()\n",
    "        plt.show()\n",
    "        \n",
    "        \n",
    "    return metrics"
   ]
  },
  {
   "cell_type": "code",
   "execution_count": 2,
   "metadata": {},
   "outputs": [],
   "source": [
    "y_true = np.array([True, True, False, False, False, False, False, True, True, False, False, False])\n",
    "y_pred = np.array([False, True, False, True, True, False, False, True, False, True, False, False])"
   ]
  },
  {
   "cell_type": "code",
   "execution_count": 8,
   "metadata": {},
   "outputs": [
    {
     "data": {
      "image/png": "[encoded data removed]",
      "text/plain": [
       "<Figure size 360x360 with 1 Axes>"
      ]
     },
     "metadata": {},
     "output_type": "display_data"
    }
   ],
   "source": [
    "a = confusion_matrix_metrics(y_true, y_pred, ['N', 'Y'], cmap=None, figsize=(5, 5), fsize=12)"
   ]
  },
  {
   "cell_type": "code",
   "execution_count": 6,
   "metadata": {},
   "outputs": [
    {
     "data": {
      "text/plain": [
       "{'TP': 2,\n",
       " 'FN': 2,\n",
       " 'TN': 5,\n",
       " 'FP': 3,\n",
       " 'TPR': 0.5,\n",
       " 'FNR': 0.5,\n",
       " 'TNR': 0.625,\n",
       " 'FPR': 0.375,\n",
       " 'PPV': 0.4,\n",
       " 'NPV': 0.7142857142857143,\n",
       " 'PPV 95% CI': (-0.08009116763553092, 0.880091167635531),\n",
       " 'NPV 95% CI': (0.37962785320181347, 1.048943575369615),\n",
       " 'accuracy': 0.5833333333333334,\n",
       " 'f_score': 0.4444444444444445}"
      ]
     },
     "execution_count": 6,
     "metadata": {},
     "output_type": "execute_result"
    }
   ],
   "source": [
    "a"
   ]
  },
  {
   "cell_type": "code",
   "execution_count": null,
   "metadata": {},
   "outputs": [],
   "source": []
  }
 ],
 "metadata": {
  "kernelspec": {
   "display_name": "Python 3",
   "language": "python",
   "name": "python3"
  },
  "language_info": {
   "codemirror_mode": {
    "name": "ipython",
    "version": 3
   },
   "file_extension": ".py",
   "mimetype": "text/x-python",
   "name": "python",
   "nbconvert_exporter": "python",
   "pygments_lexer": "ipython3",
   "version": "3.6.7"
  },
  "toc": {
   "base_numbering": 1,
   "nav_menu": {},
   "number_sections": true,
   "sideBar": true,
   "skip_h1_title": false,
   "title_cell": "Table of Contents",
   "title_sidebar": "Contents",
   "toc_cell": false,
   "toc_position": {},
   "toc_section_display": true,
   "toc_window_display": false
  },
  "varInspector": {
   "cols": {
    "lenName": 16,
    "lenType": 16,
    "lenVar": 40
   },
   "kernels_config": {
    "python": {
     "delete_cmd_postfix": "",
     "delete_cmd_prefix": "del ",
     "library": "var_list.py",
     "varRefreshCmd": "print(var_dic_list())"
    },
    "r": {
     "delete_cmd_postfix": ") ",
     "delete_cmd_prefix": "rm(",
     "library": "var_list.r",
     "varRefreshCmd": "cat(var_dic_list()) "
    }
   },
   "types_to_exclude": [
    "module",
    "function",
    "builtin_function_or_method",
    "instance",
    "_Feature"
   ],
   "window_display": false
  }
 },
 "nbformat": 4,
 "nbformat_minor": 2
}
